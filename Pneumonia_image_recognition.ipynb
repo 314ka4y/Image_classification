{
 "cells": [
  {
   "cell_type": "markdown",
   "id": "3959122b",
   "metadata": {},
   "source": [
    "# Pneumonia X-ray case, image recognition using CNN."
   ]
  },
  {
   "cell_type": "markdown",
   "id": "52999b83",
   "metadata": {},
   "source": [
    "# Overview\n",
    "With the increasing number of pneumonia cases during COVID hospitals are overwhelmed with additional work. Some of the methods that are used to diagnosed COVID is by making X rays of chrest. I was hired by a local hospital to create a model that can automatically classify person on having or not pneumonia based on X-ray. This system should have high accuracy and high recall.\n",
    "\n",
    "To acheive this goal, We used image recognition with DeepLearning techniques including CNN and pretrained CNN. \n",
    "\n",
    "\n",
    "# Business Understanding\n",
    "Our stakeholder wants to have model that can be reliable in predicting when person have pneumonia.\n",
    "\n",
    "# Data\n",
    "\n",
    "1) Chest X-Ray Images. Year: 2018 \n",
    "Kermany, Daniel; Zhang, Kang; Goldbaum, Michael (2018), “Large Dataset of Labeled Optical Coherence Tomography (OCT) and Chest X-Ray Images”, Mendeley Data, V3, doi: 10.17632/rscbjbr9sj.3\n",
    "\n",
    "https://data.mendeley.com/datasets/rscbjbr9sj/3\n",
    "\n",
    "\n",
    "# Metrics\n",
    "#### Our project will answer following question:\n",
    "Can we predict people with pneumonia based on their chrest X-ray?\n",
    "\n",
    "#### Hypothesis:\n",
    "H0 - Person has pneumonia\n",
    "\n",
    "HA - There is statisticaly significant proof that the preson doesnt' have pneumonia\n",
    "\n",
    "#### TP, TN, FP, FN definition\n",
    "TP - we predicted pneumonia and it actually exist.\n",
    "\n",
    "TN - we predicted that person didn't have pneumonia and the person actually didn't have it.\n",
    "\n",
    "FP - We predicted pneumonia but there was no pneumonia in real life.\n",
    "\n",
    "FN - We predicted that there is no pneumonia but it actually existed.\n",
    "\n",
    "\n",
    "#### Metrics used  \n",
    "To compare models we will focus on 2 major metrics:\n",
    "\n",
    "Recall - Health of people is our priority, we will be focused to minimize FN.\n",
    "##### Business requirement: our system should have at least 95% recall. \n",
    "\n",
    "Accuracy - how good we can predict TP and TN. General metrics that will show model performance.\n",
    "\n"
   ]
  },
  {
   "cell_type": "markdown",
   "id": "edcdcd20",
   "metadata": {},
   "source": [
    "\n",
    "# Data Understanding\n",
    "#### Sources of data:\n",
    "1) Chest X-Ray Images. Year: 2018 \n",
    "Kermany, Daniel; Zhang, Kang; Goldbaum, Michael (2018), “Large Dataset of Labeled Optical Coherence Tomography (OCT) and Chest X-Ray Images”, Mendeley Data, V3, doi: 10.17632/rscbjbr9sj.3\n",
    "\n",
    "https://data.mendeley.com/datasets/rscbjbr9sj/3\n",
    "\n",
    "#### Main dataset contains the following images:\n",
    "Train set:\n",
    "\n",
    "There are 1349 normal images, image name example, NORMAL-2552119-0002.jpeg\n",
    "\n",
    "There are 4489 pneumonia images, image name example, BACTERIA-4038442-0001.jpeg\n",
    "\n",
    "Test set:\n",
    "\n",
    "There are 234 normal images, image name example, NORMAL-8698006-0001.jpeg\n",
    "\n",
    "There are 390 pneumonia images, image name example, VIRUS-2040583-0001.jpeg\n"
   ]
  },
  {
   "cell_type": "markdown",
   "id": "24102ee3",
   "metadata": {},
   "source": [
    "# Data Cleaning\n",
    "### Importing required modules"
   ]
  },
  {
   "cell_type": "code",
   "execution_count": 1,
   "id": "4b0985f7",
   "metadata": {},
   "outputs": [],
   "source": [
    "# Work with data\n",
    "import pandas as pd\n",
    "import numpy as np\n",
    "\n",
    "# Visualizations\n",
    "import seaborn as sns\n",
    "import matplotlib.pyplot as plt\n",
    "\n",
    "#Modeling\n",
    "from sklearn.metrics import ConfusionMatrixDisplay, confusion_matrix, classification_report, roc_curve, plot_roc_curve, roc_auc_score, accuracy_score, recall_score, f1_score\n",
    "from keras.preprocessing.image import ImageDataGenerator, array_to_img, img_to_array, load_img\n",
    "from keras import models\n",
    "from keras import layers\n",
    "from keras.regularizers import l2\n",
    "from keras.applications.vgg16 import VGG16, preprocess_input\n",
    "from keras.applications.mobilenet_v2 import MobileNetV2\n",
    "from keras import layers\n",
    "from keras.models import Model, Sequential\n",
    "from tensorflow.keras.optimizers import RMSprop\n",
    "\n",
    "\n",
    "#Other\n",
    "import pickle\n",
    "import time\n",
    "import os, shutil \n",
    "import scipy\n",
    "from PIL import Image\n",
    "from scipy import ndimage\n",
    "import itertools\n",
    "\n",
    "from warnings import simplefilter\n",
    "from sklearn.exceptions import ConvergenceWarning, FitFailedWarning\n",
    "simplefilter(action='ignore', category= FutureWarning)\n",
    "simplefilter(action='ignore', category= ConvergenceWarning)\n",
    "simplefilter(action='ignore', category= FitFailedWarning)\n",
    "simplefilter(action='ignore', category= UserWarning)"
   ]
  },
  {
   "cell_type": "markdown",
   "id": "9508df54",
   "metadata": {},
   "source": [
    "### Data preparation"
   ]
  },
  {
   "cell_type": "markdown",
   "id": "6bc17371",
   "metadata": {},
   "source": [
    "Below we create three objects representing the existing directories: `data/normal/` as `data_normal_dir` and `data/pneumonia/` as `data_pneumonia_dir`, `data/test/normal/` as `test/normal` and `data/test/pneumonia/` as `test/pneumonia`. We will create a new directory `split/` as `new_dir`, where we will split the dataset in three groups (or three subdirectories): `train`, `test`, and `validation`, each containing `normal` and `pneumonia` subfolders. The final desired structure is represented below: \n",
    "\n",
    "![title](images/folder_structure.png)"
   ]
  },
  {
   "cell_type": "code",
   "execution_count": 2,
   "id": "91f4d4dd",
   "metadata": {},
   "outputs": [],
   "source": [
    "data_normal_dir = 'data/normal/'\n",
    "data_pneumonia_dir = 'data/pneumonia/'\n",
    "new_dir = 'data/split/'\n",
    "data_test_normal_dir = 'data/test/normal/'\n",
    "data_test_pneumonia_dir = 'data/test/pneumonia/'"
   ]
  },
  {
   "cell_type": "code",
   "execution_count": null,
   "id": "fb42fa46",
   "metadata": {},
   "outputs": [],
   "source": []
  },
  {
   "cell_type": "code",
   "execution_count": 3,
   "id": "05079c68",
   "metadata": {},
   "outputs": [],
   "source": [
    "# Train set\n",
    "imgs_normal = [file for file in os.listdir(data_normal_dir) if file.endswith('.jpeg')]\n",
    "imgs_pneumonia = [file for file in os.listdir(data_pneumonia_dir) if file.endswith('.jpeg')]\n",
    "# Test set\n",
    "imgs_normal_test = [file for file in os.listdir(data_test_normal_dir) if file.endswith('.jpeg')]\n",
    "imgs_pneumonia_test = [file for file in os.listdir(data_test_pneumonia_dir) if file.endswith('.jpeg')]"
   ]
  },
  {
   "cell_type": "code",
   "execution_count": 4,
   "id": "2aab53db",
   "metadata": {},
   "outputs": [
    {
     "data": {
      "text/plain": [
       "'NORMAL-2552119-0002.jpeg'"
      ]
     },
     "execution_count": 4,
     "metadata": {},
     "output_type": "execute_result"
    }
   ],
   "source": [
    "os.listdir(data_normal_dir)[0]"
   ]
  },
  {
   "cell_type": "code",
   "execution_count": 5,
   "id": "0b31b99f",
   "metadata": {},
   "outputs": [
    {
     "name": "stdout",
     "output_type": "stream",
     "text": [
      "Train set:\n",
      "There are 1349 normal images, image name example, NORMAL-2552119-0002.jpeg\n",
      "There are 4489 pneumonia images, image name example, BACTERIA-4038442-0001.jpeg\n",
      "Test set:\n",
      "There are 234 normal images, image name example, NORMAL-8698006-0001.jpeg\n",
      "There are 390 pneumonia images, image name example, VIRUS-2040583-0001.jpeg\n"
     ]
    }
   ],
   "source": [
    "print(\"Train set:\")\n",
    "print('There are', len(imgs_normal), 'normal images, image name example,',os.listdir(data_normal_dir)[0])\n",
    "print('There are', len(imgs_pneumonia), 'pneumonia images, image name example,',os.listdir(data_pneumonia_dir)[0])\n",
    "print(\"Test set:\")\n",
    "print('There are', len(imgs_normal_test), 'normal images, image name example,',os.listdir(data_test_normal_dir)[0])\n",
    "print('There are', len(imgs_pneumonia_test), 'pneumonia images, image name example,',os.listdir(data_test_pneumonia_dir)[0])\n"
   ]
  },
  {
   "cell_type": "markdown",
   "id": "e267b8b1",
   "metadata": {},
   "source": [
    "Make new split directory"
   ]
  },
  {
   "cell_type": "code",
   "execution_count": 6,
   "id": "81a613a9",
   "metadata": {},
   "outputs": [],
   "source": [
    "os.mkdir(new_dir)"
   ]
  },
  {
   "cell_type": "markdown",
   "id": "d8828063",
   "metadata": {},
   "source": [
    "Create new directories"
   ]
  },
  {
   "cell_type": "code",
   "execution_count": 7,
   "id": "78b73147",
   "metadata": {},
   "outputs": [],
   "source": [
    "# Define path\n",
    "train_folder = os.path.join(new_dir, 'train')\n",
    "train_normal = os.path.join(train_folder, 'normal')\n",
    "train_pneumonia = os.path.join(train_folder, 'pneumonia')\n",
    "\n",
    "test_folder = os.path.join(new_dir, 'test')\n",
    "test_normal = os.path.join(test_folder, 'normal')\n",
    "test_pneumonia = os.path.join(test_folder, 'pneumonia')\n",
    "\n",
    "val_folder = os.path.join(new_dir, 'validation')\n",
    "val_normal = os.path.join(val_folder, 'normal')\n",
    "val_pneumonia = os.path.join(val_folder, 'pneumonia')"
   ]
  },
  {
   "cell_type": "code",
   "execution_count": 8,
   "id": "176fb86e",
   "metadata": {},
   "outputs": [
    {
     "data": {
      "text/plain": [
       "'data/split/train/pneumonia'"
      ]
     },
     "execution_count": 8,
     "metadata": {},
     "output_type": "execute_result"
    }
   ],
   "source": [
    "# Check that path is ok\n",
    "train_pneumonia"
   ]
  },
  {
   "cell_type": "code",
   "execution_count": 9,
   "id": "599fdbcf",
   "metadata": {},
   "outputs": [],
   "source": [
    "# Create directories\n",
    "os.mkdir(test_folder)\n",
    "os.mkdir(test_normal)\n",
    "os.mkdir(test_pneumonia)\n",
    "\n",
    "os.mkdir(train_folder)\n",
    "os.mkdir(train_normal)\n",
    "os.mkdir(train_pneumonia)\n",
    "\n",
    "os.mkdir(val_folder)\n",
    "os.mkdir(val_normal)\n",
    "os.mkdir(val_pneumonia)"
   ]
  },
  {
   "cell_type": "markdown",
   "id": "7c001c9f",
   "metadata": {},
   "source": [
    "Copy images"
   ]
  },
  {
   "cell_type": "code",
   "execution_count": 10,
   "id": "a362bda1",
   "metadata": {},
   "outputs": [],
   "source": [
    "# Define validation set.\n",
    "validation_ratio = 0.15"
   ]
  },
  {
   "cell_type": "code",
   "execution_count": 11,
   "id": "cb04f087",
   "metadata": {},
   "outputs": [],
   "source": [
    "# Setting size of validation set\n",
    "val_set_norm = int(len(os.listdir(data_normal_dir))*validation_ratio)\n",
    "val_set_pneumo = int(len(os.listdir(data_pneumonia_dir))*validation_ratio)"
   ]
  },
  {
   "cell_type": "code",
   "execution_count": 12,
   "id": "cdba286a",
   "metadata": {},
   "outputs": [
    {
     "data": {
      "text/plain": [
       "673"
      ]
     },
     "execution_count": 12,
     "metadata": {},
     "output_type": "execute_result"
    }
   ],
   "source": [
    "val_set_pneumo"
   ]
  },
  {
   "cell_type": "code",
   "execution_count": 15,
   "id": "bd1b8685",
   "metadata": {},
   "outputs": [],
   "source": [
    "# train normal\n",
    "imgs_train_norm = imgs_normal[:len(os.listdir(data_normal_dir))-val_set_norm]\n",
    "for img in imgs_train_norm:\n",
    "    origin = os.path.join(data_normal_dir, img)\n",
    "    destination = os.path.join(train_normal, img)\n",
    "    shutil.copyfile(origin, destination)\n",
    "# train pneumonia\n",
    "imgs_train_pneumonia = imgs_pneumonia[:len(os.listdir(data_pneumonia_dir))-val_set_pneumo]\n",
    "for img in imgs_train_pneumonia:\n",
    "    origin = os.path.join(data_pneumonia_dir, img)\n",
    "    destination = os.path.join(train_pneumonia, img)\n",
    "    shutil.copyfile(origin, destination)\n"
   ]
  },
  {
   "cell_type": "code",
   "execution_count": null,
   "id": "fd732dc5",
   "metadata": {},
   "outputs": [],
   "source": [
    "len(imgs_pneumonia[len(os.listdir(data_pneumonia_dir))-val_set_pneumo:])"
   ]
  },
  {
   "cell_type": "code",
   "execution_count": null,
   "id": "ac52785c",
   "metadata": {},
   "outputs": [],
   "source": [
    "len(imgs_train_pneumonia)"
   ]
  },
  {
   "cell_type": "code",
   "execution_count": null,
   "id": "07e05bb1",
   "metadata": {},
   "outputs": [],
   "source": []
  },
  {
   "cell_type": "code",
   "execution_count": 16,
   "id": "c8db317c",
   "metadata": {},
   "outputs": [],
   "source": [
    "# validation set\n",
    "imgs = imgs_normal[len(os.listdir(data_normal_dir))-val_set_norm:]\n",
    "for img in imgs:\n",
    "    origin = os.path.join(data_normal_dir, img)\n",
    "    destination = os.path.join(val_normal, img)\n",
    "    shutil.copyfile(origin, destination)\n",
    "\n",
    "imgs = imgs_pneumonia[len(os.listdir(data_pneumonia_dir))-val_set_pneumo:]\n",
    "for img in imgs:\n",
    "    origin = os.path.join(data_pneumonia_dir, img)\n",
    "    destination = os.path.join(val_pneumonia, img)\n",
    "    shutil.copyfile(origin, destination)"
   ]
  },
  {
   "cell_type": "code",
   "execution_count": 17,
   "id": "5be7a0bc",
   "metadata": {},
   "outputs": [],
   "source": [
    "# test normal\n",
    "imgs = imgs_normal_test\n",
    "for img in imgs:\n",
    "    origin = os.path.join(data_test_normal_dir, img)\n",
    "    destination = os.path.join(test_normal, img)\n",
    "    shutil.copyfile(origin, destination)\n",
    "# test pneumonia\n",
    "imgs = imgs_pneumonia_test\n",
    "for img in imgs:\n",
    "    origin = os.path.join(data_test_pneumonia_dir, img)\n",
    "    destination = os.path.join(test_pneumonia, img)\n",
    "    shutil.copyfile(origin, destination)   \n"
   ]
  },
  {
   "cell_type": "markdown",
   "id": "23927d63",
   "metadata": {},
   "source": [
    "Check the folders:"
   ]
  },
  {
   "cell_type": "code",
   "execution_count": 18,
   "id": "cd27dd76",
   "metadata": {},
   "outputs": [],
   "source": [
    "# Train images\n",
    "train_img_number = len(os.listdir(train_normal)) + len(os.listdir(train_pneumonia))\n",
    "# Validation images\n",
    "val_img_number = len(os.listdir(val_normal)) + len(os.listdir(val_pneumonia))\n",
    "# Test images\n",
    "test_img_number = len(os.listdir(test_normal)) + len(os.listdir(test_pneumonia))\n"
   ]
  },
  {
   "cell_type": "code",
   "execution_count": 19,
   "id": "07e6bd45",
   "metadata": {
    "scrolled": true
   },
   "outputs": [
    {
     "name": "stdout",
     "output_type": "stream",
     "text": [
      "Training set: 4963 images\n",
      "There are 1147 normal images in the training set\n",
      "There are 3816 pneumonia images in the training set\n",
      "Validation set: 875 images\n",
      "There are 202 normal images in the validation set\n",
      "There are 673 pneumonia images in the validation set\n",
      "Test set: 624 images\n",
      "There are 234 normal images in the test set\n",
      "There are 390 pneumonia images in the test set\n"
     ]
    }
   ],
   "source": [
    "print('Training set:',train_img_number, \"images\" )\n",
    "print('There are', len(os.listdir(train_normal)), 'normal images in the training set')\n",
    "print('There are', len(os.listdir(train_pneumonia)), 'pneumonia images in the training set')\n",
    "print('Validation set:', val_img_number, \"images\" )\n",
    "print('There are', len(os.listdir(val_normal)), 'normal images in the validation set')\n",
    "print('There are', len(os.listdir(val_pneumonia)), 'pneumonia images in the validation set')\n",
    "print('Test set:', test_img_number, 'images')\n",
    "print('There are', len(os.listdir(test_normal)), 'normal images in the test set')\n",
    "print('There are', len(os.listdir(test_pneumonia)), 'pneumonia images in the test set')\n"
   ]
  },
  {
   "cell_type": "markdown",
   "id": "802f7c7f",
   "metadata": {},
   "source": [
    "### Setting up help functions:"
   ]
  },
  {
   "cell_type": "markdown",
   "id": "03922d12",
   "metadata": {},
   "source": [
    "##### Results visualization:"
   ]
  },
  {
   "cell_type": "code",
   "execution_count": null,
   "id": "24e34177",
   "metadata": {},
   "outputs": [],
   "source": [
    "# Plots of losses.\n",
    "def visualize_training_results(results):\n",
    "    # Create figures\n",
    "    fig, (left, right) = plt.subplots(1,2, figsize = (16,6))\n",
    "    history = results.history\n",
    "    # Loss functions plot\n",
    "    left.plot(history['val_loss'], label = \"val loss\")\n",
    "    left.plot(history['loss'], label = \"loss\")\n",
    "    left.set_title('Loss')\n",
    "    left.set_xlabel('Epochs')\n",
    "    left.set_ylabel('Loss')\n",
    "    left.legend()\n",
    "    # Accuracy plot\n",
    "    right.plot(history['val_accuracy'], label = \"val accuracy\")\n",
    "    right.plot(history['accuracy'], label = \"accuracy\")\n",
    "    right.set_title('Accuracy')\n",
    "    right.set_xlabel('Epochs')\n",
    "    right.set_ylabel('Accuracy')\n",
    "    right.legend()\n",
    "    path = \"./img/Loss_\"+model_name+\".png\"\n",
    "    plt.savefig(path)\n",
    "    plt.show()\n",
    "    \n",
    "    "
   ]
  },
  {
   "cell_type": "code",
   "execution_count": null,
   "id": "13625416",
   "metadata": {},
   "outputs": [],
   "source": [
    "# Create data with aug\n",
    "def process_data_aug(img_size, batch_size):\n",
    "    # Data generation objects\n",
    "    train_datagen = ImageDataGenerator(rescale=1./255, \n",
    "                                       rotation_range=20,   \n",
    "                                       zoom_range=0.2,\n",
    "                                       width_shift_range=0.2, \n",
    "                                       height_shift_range=0.2,\n",
    "                                       vertical_flip=True)\n",
    "    test_val_datagen = ImageDataGenerator(rescale=1./255)\n",
    "    \n",
    "    # This is fed to the network in the specified batch sizes and image dimensions\n",
    "    train_generator = train_datagen.flow_from_directory(\n",
    "      directory=train_folder, \n",
    "      target_size=img_size, \n",
    "      batch_size=92, \n",
    "      class_mode='binary',\n",
    "      shuffle = True)\n",
    "\n",
    "    val_generator = test_val_datagen.flow_from_directory(\n",
    "      directory=val_folder, \n",
    "      target_size=img_size, \n",
    "      batch_size=32, \n",
    "      class_mode='binary',\n",
    "      shuffle = True)\n",
    "    \n",
    "    test_generator = test_val_datagen.flow_from_directory(\n",
    "        test_folder, \n",
    "        target_size=img_size, \n",
    "        batch_size = test_img_number)  \n",
    "    \n",
    "    \n",
    "    return train_generator, val_generator, test_generator\n",
    "\n"
   ]
  },
  {
   "cell_type": "code",
   "execution_count": 21,
   "id": "155cac12",
   "metadata": {},
   "outputs": [],
   "source": [
    "# Create data without aug\n",
    "def process_data_no_aug(img_size):\n",
    "    # Data generation objects\n",
    "    # get all the data in the directory split/train, and reshape them\n",
    "    train_generator = ImageDataGenerator(rescale=1./255).flow_from_directory(\n",
    "        train_folder, \n",
    "        target_size=img_size, batch_size= train_img_number)\n",
    "\n",
    "    # get all the data in the directory split/validation, and reshape them\n",
    "    val_generator = ImageDataGenerator(rescale=1./255).flow_from_directory(\n",
    "        val_folder, \n",
    "        target_size=img_size, batch_size = val_img_number)\n",
    "\n",
    "    # get all the data in the directory split/test, and reshape them\n",
    "    test_generator = ImageDataGenerator(rescale=1./255).flow_from_directory(\n",
    "        test_folder, \n",
    "        target_size=img_size, batch_size = test_img_number) \n",
    "\n",
    "    \n",
    "    \n",
    "    return train_generator, val_generator, test_generator\n",
    "\n"
   ]
  },
  {
   "cell_type": "code",
   "execution_count": null,
   "id": "f4ead49a",
   "metadata": {},
   "outputs": [],
   "source": [
    "# Plot confusion matrix\n",
    "def plot_confusion_matrix(cm, classes,\n",
    "                          normalize=False,\n",
    "                          title='Confusion matrix',\n",
    "                          cmap=plt.cm.Blues):\n",
    "    \n",
    "    plt.figure(figsize = (6,6))\n",
    "    plt.imshow(cm, interpolation='nearest', cmap=cmap)\n",
    "    plt.title(title)\n",
    "    plt.colorbar()\n",
    "    tick_marks = np.arange(len(classes))\n",
    "    plt.xticks(tick_marks, classes, rotation=90)\n",
    "    plt.yticks(tick_marks, classes)\n",
    "    if normalize:\n",
    "        cm = cm.astype('float') / cm.sum(axis=1)[:, np.newaxis]\n",
    "\n",
    "    thresh = cm.max() / 2.\n",
    "    cm = np.round(cm,2)\n",
    "    for i, j in itertools.product(range(cm.shape[0]), range(cm.shape[1])):\n",
    "        plt.text(j, i, cm[i, j],\n",
    "                 horizontalalignment=\"center\",\n",
    "                 color=\"white\" if cm[i, j] > thresh else \"black\")\n",
    "    plt.tight_layout()\n",
    "    plt.ylabel('True label')\n",
    "    plt.xlabel('Predicted label')\n",
    "    path = \"./img/CM_\"+model_name+\".png\"\n",
    "    plt.savefig(path)\n",
    "    plt.show()"
   ]
  },
  {
   "cell_type": "code",
   "execution_count": null,
   "id": "444eebe6",
   "metadata": {},
   "outputs": [],
   "source": [
    "# Plot results:\n",
    "# - Loss, accuracy for val and train sets during training. \n",
    "# - Confusion matrix for test results. \n",
    "\n",
    "def plot_results(results, model, test_images,  test_y =None, threshold = 0.5,):\n",
    "    visualize_training_results(results)\n",
    "    predictions = model.predict(test_images)\n",
    "    predictions = [1 if x > threshold else 0 for x in predictions]\n",
    "    accuracy = accuracy_score(test_y, predictions)\n",
    "    recall = recall_score(test_y, predictions)\n",
    "    print('Test Accuracy = %.2f' % accuracy)# Combined plotting. \n",
    "\n",
    "    print('Recall = %.2f' % recall)\n",
    "    confusion_mtx = confusion_matrix(test_y, predictions)\n",
    "    cm = plot_confusion_matrix(confusion_mtx, classes = [\"normal\", \"pneumonia\"], normalize=False)"
   ]
  },
  {
   "cell_type": "code",
   "execution_count": null,
   "id": "5328ac33",
   "metadata": {},
   "outputs": [],
   "source": [
    "# Create dataframe with finall results.\n",
    "result_columns = [\"Model name\",\"Image size\",\"Parameters\",\"Train time\",\"Train accuracy\", \"Validation accuracy\", \"Test accuracy\", \"Test Recall\"]\n",
    "results_df = pd.DataFrame(columns = result_columns)\n",
    "\n",
    "                  \n",
    "# Results:\n",
    "def make_results(model_selection, image_size, train_time,model_name, results, model, test_images, test_y, threshold = 0.5):\n",
    "    predictions = model.predict(test_images)\n",
    "    predictions = [1 if x > threshold else 0 for x in predictions]\n",
    "    test_accuracy = round(accuracy_score(test_y, predictions),4)\n",
    "    test_recall = round(recall_score(test_y, predictions),4)\n",
    "    train_accuracy = round(results.history[\"accuracy\"][-1],4)\n",
    "    val_accuracy = round(results.history[\"val_accuracy\"][-1],4)\n",
    "    train_epoch = len(results.epoch)\n",
    "    N_of_params = int(np.sum([np.prod(v.get_shape().as_list()) for v in model.trainable_variables]) + np.sum([np.prod(v.get_shape().as_list()) for v in model.non_trainable_variables]))\n",
    "    line = pd.DataFrame(np.array([[model_name, image_size, N_of_params,\n",
    "                               train_time, train_accuracy, val_accuracy,\n",
    "                               test_accuracy, test_recall]]), columns = result_columns)\n",
    "    model_selection = pd.concat([model_selection,line], axis = 0)\n",
    "    return model_selection"
   ]
  },
  {
   "cell_type": "markdown",
   "id": "3f3b4516",
   "metadata": {},
   "source": [
    "### Use a densely connected network as a baseline"
   ]
  },
  {
   "cell_type": "markdown",
   "id": "3757dde6",
   "metadata": {},
   "source": [
    "##### Prepare images"
   ]
  },
  {
   "cell_type": "markdown",
   "id": "54d4de7c",
   "metadata": {},
   "source": [
    "##### 64x64 images without data augmentation"
   ]
  },
  {
   "cell_type": "code",
   "execution_count": 22,
   "id": "966152ab",
   "metadata": {},
   "outputs": [
    {
     "name": "stdout",
     "output_type": "stream",
     "text": [
      "Found 4963 images belonging to 2 classes.\n",
      "Found 875 images belonging to 2 classes.\n",
      "Found 624 images belonging to 2 classes.\n"
     ]
    }
   ],
   "source": [
    "image_size = (64,64)\n",
    "train_generator, val_generator, test_generator = process_data_no_aug(image_size)"
   ]
  },
  {
   "cell_type": "code",
   "execution_count": 23,
   "id": "6a9eb2f0",
   "metadata": {},
   "outputs": [],
   "source": [
    "# Prepare images and lables.\n",
    "train_images, train_labels = next(train_generator)\n",
    "test_images, test_labels = next(test_generator)\n",
    "val_images, val_labels = next(val_generator)"
   ]
  },
  {
   "cell_type": "code",
   "execution_count": 24,
   "id": "062df8e7",
   "metadata": {},
   "outputs": [
    {
     "name": "stdout",
     "output_type": "stream",
     "text": [
      "Number of training samples: 4963\n",
      "Number of testing samples: 624\n",
      "Number of validation samples: 875\n",
      "train_images shape: (4963, 64, 64, 3)\n",
      "train_labels shape: (4963, 2)\n",
      "test_images shape: (624, 64, 64, 3)\n",
      "test_labels shape: (624, 2)\n",
      "val_images shape: (875, 64, 64, 3)\n",
      "val_labels shape: (875, 2)\n"
     ]
    }
   ],
   "source": [
    "# Explore dataset\n",
    "m_train = train_images.shape[0]\n",
    "num_px = train_images.shape[1]\n",
    "m_test = test_images.shape[0]\n",
    "m_val = val_images.shape[0]\n",
    "\n",
    "print (\"Number of training samples: \" + str(m_train))\n",
    "print (\"Number of testing samples: \" + str(m_test))\n",
    "print (\"Number of validation samples: \" + str(m_val))\n",
    "print (\"train_images shape: \" + str(train_images.shape))\n",
    "print (\"train_labels shape: \" + str(train_labels.shape))\n",
    "print (\"test_images shape: \" + str(test_images.shape))\n",
    "print (\"test_labels shape: \" + str(test_labels.shape))\n",
    "print (\"val_images shape: \" + str(val_images.shape))\n",
    "print (\"val_labels shape: \" + str(val_labels.shape))"
   ]
  },
  {
   "cell_type": "markdown",
   "id": "2bf58090",
   "metadata": {},
   "source": [
    "##### Visualize data"
   ]
  },
  {
   "cell_type": "code",
   "execution_count": 25,
   "id": "f551b013",
   "metadata": {},
   "outputs": [
    {
     "data": {
      "image/png": "[encoded data removed]",
      "text/plain": [
       "<Figure size 1440x1440 with 16 Axes>"
      ]
     },
     "metadata": {
      "needs_background": "light"
     },
     "output_type": "display_data"
    }
   ],
   "source": [
    "# plot 16 random photos of normal and pneumonia X-ray\n",
    "fig, axes = plt.subplots(nrows=4, ncols=4, figsize=(20,20))\n",
    "\n",
    "for x in range(0,4):\n",
    "    for y in range(0, 4):\n",
    "        i = np.random.randint(0,len(train_images))\n",
    "        axes[x][y].imshow(train_images[i])\n",
    "        \n",
    "        if train_labels[i][0] == 0:\n",
    "            axes[x][y].set_title('Normal')\n",
    "        else:\n",
    "            axes[x][y].set_title('Pneumonia')"
   ]
  },
  {
   "cell_type": "code",
   "execution_count": 26,
   "id": "d39b846a",
   "metadata": {},
   "outputs": [
    {
     "name": "stdout",
     "output_type": "stream",
     "text": [
      "(4963, 12288)\n",
      "(624, 12288)\n",
      "(875, 12288)\n"
     ]
    }
   ],
   "source": [
    "# Finall features set:\n",
    "train_img = train_images.reshape(train_images.shape[0], -1)\n",
    "test_img = test_images.reshape(test_images.shape[0], -1)\n",
    "val_img = val_images.reshape(val_images.shape[0], -1)\n",
    "\n",
    "print(train_img.shape)\n",
    "print(test_img.shape)\n",
    "print(val_img.shape)"
   ]
  },
  {
   "cell_type": "code",
   "execution_count": 27,
   "id": "1e1703fb",
   "metadata": {},
   "outputs": [],
   "source": [
    "# Labels. \n",
    "train_y = np.reshape(train_labels[:,0], (train_img_number,1))\n",
    "test_y = np.reshape(test_labels[:,0], (test_img_number,1))\n",
    "val_y = np.reshape(val_labels[:,0], (val_img_number,1))"
   ]
  },
  {
   "cell_type": "markdown",
   "id": "bf7b28fc",
   "metadata": {},
   "source": [
    "##### 1) Prepare 1st Baseline mode."
   ]
  },
  {
   "cell_type": "code",
   "execution_count": 29,
   "id": "0aeeff1d",
   "metadata": {},
   "outputs": [
    {
     "name": "stdout",
     "output_type": "stream",
     "text": [
      "WARNING:tensorflow:Compiled the loaded model, but the compiled metrics have yet to be built. `model.compile_metrics` will be empty until you train or evaluate the model.\n"
     ]
    }
   ],
   "source": [
    "# Initialize 1st mode.\n",
    "\n",
    "np.random.seed(123)\n",
    "model_name = \"Baseline_model\"\n",
    "model = models.Sequential()\n",
    "model.add(layers.Dense(50, activation='relu', input_shape=(train_img.shape[1],))) # 2 hidden layers\n",
    "model.add(layers.Dense(10, activation='relu'))\n",
    "model.add(layers.Dense(1, activation='sigmoid'))\n",
    "\n",
    "\n"
   ]
  },
  {
   "cell_type": "code",
   "execution_count": 30,
   "id": "6efbc3cc",
   "metadata": {},
   "outputs": [
    {
     "name": "stdout",
     "output_type": "stream",
     "text": [
      "Epoch 1/20\n",
      "156/156 [==============================] - 1s 5ms/step - loss: 0.4550 - accuracy: 0.7917 - val_loss: 0.5069 - val_accuracy: 0.7634\n",
      "Epoch 2/20\n",
      "156/156 [==============================] - 1s 4ms/step - loss: 0.3105 - accuracy: 0.8733 - val_loss: 0.3392 - val_accuracy: 0.8480\n",
      "Epoch 3/20\n",
      "156/156 [==============================] - 1s 4ms/step - loss: 0.2303 - accuracy: 0.9079 - val_loss: 0.1989 - val_accuracy: 0.9223\n",
      "Epoch 4/20\n",
      "156/156 [==============================] - 1s 4ms/step - loss: 0.2123 - accuracy: 0.9148 - val_loss: 0.6621 - val_accuracy: 0.7029\n",
      "Epoch 5/20\n",
      "156/156 [==============================] - 1s 4ms/step - loss: 0.1755 - accuracy: 0.9309 - val_loss: 0.1720 - val_accuracy: 0.9303\n",
      "Epoch 6/20\n",
      "156/156 [==============================] - 1s 4ms/step - loss: 0.1621 - accuracy: 0.9349 - val_loss: 0.2324 - val_accuracy: 0.9051\n",
      "Epoch 7/20\n",
      "156/156 [==============================] - 1s 4ms/step - loss: 0.1534 - accuracy: 0.9412 - val_loss: 0.9573 - val_accuracy: 0.7829\n",
      "Epoch 8/20\n",
      "156/156 [==============================] - 1s 4ms/step - loss: 0.1454 - accuracy: 0.9444 - val_loss: 0.2044 - val_accuracy: 0.9166\n",
      "Epoch 9/20\n",
      "156/156 [==============================] - 1s 4ms/step - loss: 0.1413 - accuracy: 0.9456 - val_loss: 0.2928 - val_accuracy: 0.8937\n",
      "Epoch 10/20\n",
      "156/156 [==============================] - 1s 4ms/step - loss: 0.1284 - accuracy: 0.9490 - val_loss: 0.2608 - val_accuracy: 0.8994\n",
      "Epoch 11/20\n",
      "156/156 [==============================] - 1s 4ms/step - loss: 0.1365 - accuracy: 0.9480 - val_loss: 0.2585 - val_accuracy: 0.9017\n",
      "Epoch 12/20\n",
      "156/156 [==============================] - 1s 4ms/step - loss: 0.1392 - accuracy: 0.9454 - val_loss: 0.1711 - val_accuracy: 0.9394\n",
      "Epoch 13/20\n",
      "156/156 [==============================] - 1s 4ms/step - loss: 0.1211 - accuracy: 0.9557 - val_loss: 0.1333 - val_accuracy: 0.9486\n",
      "Epoch 14/20\n",
      "156/156 [==============================] - 1s 4ms/step - loss: 0.1201 - accuracy: 0.9529 - val_loss: 0.2104 - val_accuracy: 0.9189\n",
      "Epoch 15/20\n",
      "156/156 [==============================] - 1s 5ms/step - loss: 0.1088 - accuracy: 0.9589 - val_loss: 0.1434 - val_accuracy: 0.9451\n",
      "Epoch 16/20\n",
      "156/156 [==============================] - 1s 4ms/step - loss: 0.1206 - accuracy: 0.9533 - val_loss: 0.1846 - val_accuracy: 0.9303\n",
      "Epoch 17/20\n",
      "156/156 [==============================] - 1s 4ms/step - loss: 0.1087 - accuracy: 0.9581 - val_loss: 0.1508 - val_accuracy: 0.9486\n",
      "Epoch 18/20\n",
      "156/156 [==============================] - 1s 5ms/step - loss: 0.1079 - accuracy: 0.9585 - val_loss: 0.1334 - val_accuracy: 0.9486\n",
      "Epoch 19/20\n",
      "156/156 [==============================] - 1s 5ms/step - loss: 0.1086 - accuracy: 0.9551 - val_loss: 0.1498 - val_accuracy: 0.9486\n",
      "Epoch 20/20\n",
      "156/156 [==============================] - 1s 5ms/step - loss: 0.1090 - accuracy: 0.9611 - val_loss: 0.1367 - val_accuracy: 0.9474\n"
     ]
    }
   ],
   "source": [
    "# Train model\n",
    "model.compile(optimizer='sgd',\n",
    "              loss='binary_crossentropy',\n",
    "              metrics=['accuracy'])\n",
    "\n",
    "start = time.time()\n",
    "history_base = model.fit(train_img,\n",
    "                    train_y,\n",
    "                    epochs=20,\n",
    "                    batch_size=32,\n",
    "                    validation_data=(val_img, val_y))\n",
    "end = time.time()\n",
    "train_time = round(end-start, 0)\n",
    "savepath = \"./data/models/\"+model_name+\".h5\"\n",
    "model.save(savepath)"
   ]
  },
  {
   "cell_type": "code",
   "execution_count": null,
   "id": "a727df4a",
   "metadata": {},
   "outputs": [],
   "source": [
    "# process results\n",
    "\n",
    "results_df = make_results(results_df,image_size,train_time,model_name,history_base, model, test_img, test_y)\n",
    "display(results_df)\n",
    "plot_results(history_base, model, test_img,  test_y,)"
   ]
  },
  {
   "cell_type": "code",
   "execution_count": null,
   "id": "0e2628df",
   "metadata": {},
   "outputs": [],
   "source": [
    "# This model has good accuracy for test data, but recall is much higher than our base requirement 0.95.\n",
    "# Another issue with the model is that accuracy on validation data had serious fluctuations."
   ]
  },
  {
   "cell_type": "markdown",
   "id": "7ec3f54a",
   "metadata": {},
   "source": [
    "##### 2) Baseline model with regulization"
   ]
  },
  {
   "cell_type": "markdown",
   "id": "6dfaf58e",
   "metadata": {},
   "source": [
    "We will use L2 regulization in each layer, to reduce overfitting.\n",
    "Will try different L2 coefficients to determine the best one"
   ]
  },
  {
   "cell_type": "code",
   "execution_count": null,
   "id": "2bccc7c8",
   "metadata": {},
   "outputs": [],
   "source": [
    "# Lets find the best L2 value."
   ]
  },
  {
   "cell_type": "code",
   "execution_count": null,
   "id": "346d496f",
   "metadata": {},
   "outputs": [],
   "source": [
    "L2_list = [0.001, 0.01, 0.1, 1]"
   ]
  },
  {
   "cell_type": "code",
   "execution_count": null,
   "id": "c137677e",
   "metadata": {},
   "outputs": [],
   "source": [
    "L2_fin = []\n",
    "for L2 in L2_list:\n",
    "    model2 = models.Sequential()\n",
    "    model2.add(layers.Dense(50, activation='relu', input_shape=(train_img.shape[1],), kernel_regularizer = l2(l2 = L2))) \n",
    "    model2.add(layers.Dense(10, activation='relu', kernel_regularizer = l2(l2 = L2)))\n",
    "    model2.add(layers.Dense(1, activation='sigmoid'))\n",
    "    model2.compile(optimizer='sgd',\n",
    "              loss='binary_crossentropy',\n",
    "              metrics=['accuracy'])\n",
    "    history_model2 = model2.fit(train_img,\n",
    "                    train_y,\n",
    "                    epochs=20,\n",
    "                    batch_size=32,\n",
    "                    validation_data=(val_img, val_y),\n",
    "                    verbose = 0)\n",
    "    results_test = model2.evaluate(test_img, test_y)\n",
    "    L2_fin.append((L2, results_test[1]))\n",
    "        \n"
   ]
  },
  {
   "cell_type": "code",
   "execution_count": null,
   "id": "a387a9c2",
   "metadata": {},
   "outputs": [],
   "source": [
    "L2_best = sorted(L2_fin, key = lambda x: x[1], reverse = True)[0][0]\n",
    "print(\"Best L2 regulization parameter:\", L2_best)"
   ]
  },
  {
   "cell_type": "code",
   "execution_count": null,
   "id": "77daa018",
   "metadata": {},
   "outputs": [],
   "source": [
    "# Model with regulization"
   ]
  },
  {
   "cell_type": "code",
   "execution_count": null,
   "id": "d4862c4c",
   "metadata": {},
   "outputs": [],
   "source": [
    "model_name = \"Baseline with reg\"\n",
    "model2 = models.Sequential()\n",
    "model2.add(layers.Dense(50, activation='relu', input_shape=(train_img.shape[1],), kernel_regularizer = l2(l2 = L2_best)))\n",
    "model2.add(layers.Dense(25, activation='relu', kernel_regularizer = l2(l2 = L2_best)))\n",
    "model2.add(layers.Dense(10, activation='relu', kernel_regularizer = l2(l2 = L2_best)))\n",
    "model2.add(layers.Dense(1, activation='sigmoid'))\n",
    "model2.compile(optimizer='sgd',\n",
    "              loss='binary_crossentropy',\n",
    "              metrics=['accuracy'])\n",
    "\n",
    "start = time.time()\n",
    "history_model2 = model2.fit(train_img,\n",
    "                    train_y,\n",
    "                    epochs=20,\n",
    "                    batch_size=32,\n",
    "                    validation_data=(val_img, val_y),\n",
    "                    verbose = 1)\n",
    "end = time.time()\n",
    "train_time = round(end-start, 0)\n",
    "savepath = \"./data/models/\"+model_name+\".h5\"\n",
    "model2.save(savepath)\n",
    "\n"
   ]
  },
  {
   "cell_type": "code",
   "execution_count": null,
   "id": "9d00789f",
   "metadata": {},
   "outputs": [],
   "source": [
    "results_df = make_results(results_df,image_size,train_time,model_name,history_model2, model2, test_img, test_y)\n",
    "display(results_df)\n",
    "plot_results(history_model2, model2, test_img, test_y)"
   ]
  },
  {
   "cell_type": "code",
   "execution_count": null,
   "id": "9d0a822c",
   "metadata": {},
   "outputs": [],
   "source": [
    "# This model has worse accuracy for test data compare to baseline, recall is also much lower than our base requirement 0.95.\n",
    "# Another issue with the model is that accuracy on validation data had serious fluctuations."
   ]
  },
  {
   "cell_type": "markdown",
   "id": "8ead1c0c",
   "metadata": {},
   "source": [
    "##### 3) Baseline model with regulization and Dropout"
   ]
  },
  {
   "cell_type": "code",
   "execution_count": null,
   "id": "2123e09e",
   "metadata": {},
   "outputs": [],
   "source": [
    "model_name = \"Baseline with reg, dropout\"\n",
    "model3 = models.Sequential()\n",
    "model3.add(layers.Dense(50, activation='relu', input_shape=(train_img.shape[1],), kernel_regularizer = l2(l2 = L2_best)))\n",
    "model3.add(layers.Dropout(0.5))\n",
    "model3.add(layers.Dense(10, activation='relu', kernel_regularizer = l2(l2 = L2_best)))\n",
    "model3.add(layers.Dense(1, activation='sigmoid'))\n"
   ]
  },
  {
   "cell_type": "code",
   "execution_count": null,
   "id": "bc12934f",
   "metadata": {},
   "outputs": [],
   "source": [
    "model3.compile(optimizer='sgd',\n",
    "              loss='binary_crossentropy',\n",
    "              metrics=['accuracy'])\n",
    "start = time.time()\n",
    "history_model3 = model3.fit(train_img,\n",
    "                    train_y,\n",
    "                    epochs=20,\n",
    "                    batch_size=32,\n",
    "                    validation_data=(val_img, val_y))\n",
    "end = time.time()\n",
    "train_time = round(end-start, 0)\n",
    "savepath = \"./data/models/\"+model_name+\".h5\"\n",
    "model3.save(savepath)\n"
   ]
  },
  {
   "cell_type": "code",
   "execution_count": null,
   "id": "f5a729d5",
   "metadata": {},
   "outputs": [],
   "source": [
    "results_df = make_results(results_df,image_size,train_time,model_name,history_model3, model3, test_img, test_y)\n",
    "display(results_df)\n",
    "plot_results(history_model3, model3, test_img, test_y)"
   ]
  },
  {
   "cell_type": "code",
   "execution_count": null,
   "id": "1bc8f224",
   "metadata": {},
   "outputs": [],
   "source": [
    "# This model has worse accuracy for test data compare to baseline, recall is also much lower than our base requirement 0.95.\n",
    "# Another issue with the model is that accuracy on validation data had serious fluctuations. However fluctations become lower."
   ]
  },
  {
   "cell_type": "markdown",
   "id": "81b7be60",
   "metadata": {},
   "source": [
    "##### 4) Baseline model with regulization and Dropout. Changed  optimizer to Adam"
   ]
  },
  {
   "cell_type": "code",
   "execution_count": null,
   "id": "3b2378ff",
   "metadata": {},
   "outputs": [],
   "source": [
    "model_name = \"Baseline with reg, dropout, optimizer\"\n",
    "\n",
    "model4 = models.Sequential()\n",
    "model4.add(layers.Dense(50, activation='relu', input_shape=(train_img.shape[1],), kernel_regularizer = l2(l2 = L2_best)))\n",
    "model4.add(layers.Dropout(0.5))\n",
    "model4.add(layers.Dense(10, activation='relu', kernel_regularizer = l2(l2 = L2_best)))\n",
    "model4.add(layers.Dense(1, activation='sigmoid'))"
   ]
  },
  {
   "cell_type": "code",
   "execution_count": null,
   "id": "15e37b2f",
   "metadata": {},
   "outputs": [],
   "source": [
    "model4.compile(optimizer='adam',\n",
    "              loss='binary_crossentropy',\n",
    "              metrics=['accuracy'])\n",
    "start = time.time()\n",
    "history_model4 = model4.fit(train_img,\n",
    "                    train_y,\n",
    "                    epochs=20,\n",
    "                    batch_size=32,\n",
    "                    validation_data=(val_img, val_y))\n",
    "end = time.time()\n",
    "train_time = round(end-start, 0)\n",
    "savepath = \"./data/models/\"+model_name+\".h5\"\n",
    "model4.save(savepath)"
   ]
  },
  {
   "cell_type": "code",
   "execution_count": null,
   "id": "477553b7",
   "metadata": {},
   "outputs": [],
   "source": [
    "results_train4 = model4.evaluate(train_img, train_y)"
   ]
  },
  {
   "cell_type": "code",
   "execution_count": null,
   "id": "bfe35904",
   "metadata": {},
   "outputs": [],
   "source": [
    "results_df = make_results(results_df,image_size,train_time,model_name,history_model4, model4, test_img, test_y)\n",
    "display(results_df)\n",
    "plot_results(history_model4, model4, test_img, test_y)"
   ]
  },
  {
   "cell_type": "code",
   "execution_count": null,
   "id": "5ee33d10",
   "metadata": {},
   "outputs": [],
   "source": [
    "results_test4 = model4.evaluate(test_img, test_y)\n",
    "print(f\"Test set results accuracy {results_test4[1]}\")"
   ]
  },
  {
   "cell_type": "code",
   "execution_count": null,
   "id": "73292446",
   "metadata": {},
   "outputs": [],
   "source": [
    "# Model has serious overfitting issues. "
   ]
  },
  {
   "cell_type": "markdown",
   "id": "17f1b81b",
   "metadata": {},
   "source": [
    "##### 5) Baseline + regulization + Dropout + Adam optimizer + increased train time"
   ]
  },
  {
   "cell_type": "code",
   "execution_count": null,
   "id": "88299e34",
   "metadata": {},
   "outputs": [],
   "source": [
    "model_name = \"Baseline with reg, dropout, optimizer + extra train time\"\n",
    "\n",
    "model5 = models.Sequential()\n",
    "model5.add(layers.Dense(50, activation='relu', input_shape=(train_img.shape[1],), kernel_regularizer = l2(l2 = 0.01)))\n",
    "model5.add(layers.Dropout(0.5))\n",
    "model5.add(layers.Dense(10, activation='relu', kernel_regularizer = l2(l2 = 0.01)))\n",
    "model5.add(layers.Dense(1, activation='sigmoid'))"
   ]
  },
  {
   "cell_type": "code",
   "execution_count": null,
   "id": "e8b8383d",
   "metadata": {},
   "outputs": [],
   "source": [
    "model5.compile(optimizer='adam',\n",
    "              loss='binary_crossentropy',\n",
    "              metrics=['accuracy'])\n",
    "start = time.time()\n",
    "history_model5 = model5.fit(train_img,\n",
    "                    train_y,\n",
    "                    epochs=50,\n",
    "                    batch_size=50,\n",
    "                    validation_data=(val_img, val_y))\n",
    "end = time.time()\n",
    "train_time = round(end-start, 0)\n",
    "savepath = \"./data/models/\"+model_name+\".h5\"\n",
    "model5.save(savepath)"
   ]
  },
  {
   "cell_type": "code",
   "execution_count": null,
   "id": "c9e00cd4",
   "metadata": {},
   "outputs": [],
   "source": [
    "results_df = make_results(results_df,image_size,train_time,model_name,history_model5, model5, test_img, test_y)\n",
    "display(results_df)\n",
    "plot_results(history_model5, model5, test_img, test_y)"
   ]
  },
  {
   "cell_type": "code",
   "execution_count": null,
   "id": "a30b5b86",
   "metadata": {},
   "outputs": [],
   "source": [
    "results_test5 = model5.evaluate(test_img, test_y)\n",
    "print(f\"Test set results accuracy {results_test5[1]}\")"
   ]
  },
  {
   "cell_type": "code",
   "execution_count": null,
   "id": "f3c32b3b",
   "metadata": {},
   "outputs": [],
   "source": [
    "# This model is preferable compare to other baseline models, however recall is also much lower than our base requirement 0.95.\n",
    "# Accuracy fluctations almost dissapear."
   ]
  },
  {
   "cell_type": "markdown",
   "id": "16625a37",
   "metadata": {},
   "source": [
    "##### 6) Basic CNN model, image shape 64x64"
   ]
  },
  {
   "cell_type": "code",
   "execution_count": null,
   "id": "4b7ef567",
   "metadata": {},
   "outputs": [],
   "source": [
    "model_name = \"Basic CNN\"\n",
    "\n",
    "model_CNN = models.Sequential()\n",
    "model_CNN.add(layers.Conv2D(32, (3, 3), activation='relu',\n",
    "                        input_shape=(64 ,64, 3)))\n",
    "model_CNN.add(layers.MaxPooling2D((2, 2)))\n",
    "\n",
    "model_CNN.add(layers.Conv2D(64, (4, 4), activation='relu'))\n",
    "model_CNN.add(layers.MaxPooling2D((2, 2)))\n",
    "\n",
    "model_CNN.add(layers.Conv2D(64, (3, 3), activation='relu'))\n",
    "model_CNN.add(layers.MaxPooling2D((2, 2)))\n",
    "\n",
    "model_CNN.add(layers.Flatten())\n",
    "model_CNN.add(layers.Dense(16, activation='relu'))\n",
    "model_CNN.add(layers.Dense(1, activation='sigmoid'))\n",
    "\n",
    "model_CNN.compile(loss='binary_crossentropy',\n",
    "              optimizer=\"sgd\",\n",
    "              metrics=['accuracy'])"
   ]
  },
  {
   "cell_type": "code",
   "execution_count": null,
   "id": "df83dfff",
   "metadata": {},
   "outputs": [],
   "source": [
    "start = time.time()\n",
    "history_CNN1 = model_CNN.fit(train_images,\n",
    "                    train_y,\n",
    "                    epochs=15,\n",
    "                    batch_size=32,\n",
    "                    validation_data=(val_images, val_y))\n",
    "end = time.time()\n",
    "train_time = round(end-start, 0)\n",
    "savepath = \"./data/models/\"+model_name+\".h5\"\n",
    "model_CNN.save(savepath)"
   ]
  },
  {
   "cell_type": "code",
   "execution_count": null,
   "id": "d586db52",
   "metadata": {},
   "outputs": [],
   "source": [
    "results_test = model_CNN.evaluate(test_images, test_y)"
   ]
  },
  {
   "cell_type": "code",
   "execution_count": null,
   "id": "9407d96d",
   "metadata": {},
   "outputs": [],
   "source": [
    "results_df = make_results(results_df,image_size,train_time,model_name,history_CNN1, model_CNN, test_images, test_y)\n",
    "display(results_df)\n",
    "plot_results(history_CNN1, model_CNN, test_images, test_y)"
   ]
  },
  {
   "cell_type": "markdown",
   "id": "772394db",
   "metadata": {},
   "source": [
    "##### 7) Basic CNN, shape 64 x 64 with regulization"
   ]
  },
  {
   "cell_type": "code",
   "execution_count": null,
   "id": "bee385c5",
   "metadata": {},
   "outputs": [],
   "source": [
    "model_name = \"Basic CNN with reg, dropout\"\n",
    "\n",
    "model_CNN2 = models.Sequential()\n",
    "model_CNN2.add(layers.Conv2D(32, (3, 3), activation='relu',\n",
    "                        input_shape=(64 ,64, 3)))\n",
    "model_CNN2.add(layers.MaxPooling2D((2, 2)))\n",
    "\n",
    "model_CNN2.add(layers.Conv2D(32, (4, 4), activation='relu'))\n",
    "model_CNN2.add(layers.MaxPooling2D((2, 2)))\n",
    "\n",
    "model_CNN2.add(layers.Conv2D(64, (3, 3), activation='relu'))\n",
    "model_CNN2.add(layers.MaxPooling2D((2, 2)))\n",
    "\n",
    "model_CNN2.add(layers.Flatten())\n",
    "model_CNN2.add(layers.Dense(16, activation='relu', kernel_regularizer = l2(l2 = L2_best)))\n",
    "model_CNN2.add(layers.Dense(1, activation='sigmoid'))\n",
    "\n",
    "model_CNN2.compile(loss='binary_crossentropy',\n",
    "              optimizer=\"Adam\",\n",
    "              metrics=['accuracy'])"
   ]
  },
  {
   "cell_type": "code",
   "execution_count": null,
   "id": "59c709fa",
   "metadata": {},
   "outputs": [],
   "source": []
  },
  {
   "cell_type": "code",
   "execution_count": null,
   "id": "2efe0651",
   "metadata": {},
   "outputs": [],
   "source": [
    "start = time.time()\n",
    "history_CNN2 = model_CNN2.fit(train_images,\n",
    "                    train_y,\n",
    "                    epochs=15,\n",
    "                    batch_size=32,\n",
    "                    validation_data=(val_images, val_y))\n",
    "end = time.time()\n",
    "train_time = round(end-start, 0)"
   ]
  },
  {
   "cell_type": "code",
   "execution_count": null,
   "id": "e7f53035",
   "metadata": {},
   "outputs": [],
   "source": [
    "results_test = model_CNN2.evaluate(test_images, test_y)"
   ]
  },
  {
   "cell_type": "code",
   "execution_count": null,
   "id": "d02a842b",
   "metadata": {},
   "outputs": [],
   "source": [
    "results_df = make_results(results_df,image_size,train_time,model_name,history_CNN2, model_CNN2, test_images, test_y)\n",
    "display(results_df)\n",
    "plot_results(history_CNN2, model_CNN2, test_images, test_y)"
   ]
  },
  {
   "cell_type": "markdown",
   "id": "c32a4bfd",
   "metadata": {},
   "source": [
    "##### 7) Basic CNN, shape 100 x 100"
   ]
  },
  {
   "cell_type": "code",
   "execution_count": null,
   "id": "741d9d0f",
   "metadata": {},
   "outputs": [],
   "source": [
    "# # get all the data in the directory split/train, and reshape them\n",
    "# train_generator_100 = ImageDataGenerator(rescale=1./255).flow_from_directory(\n",
    "#         train_folder, \n",
    "#         target_size=(100, 100), batch_size= train_img_number)\n",
    "\n",
    "# # get all the data in the directory split/validation, and reshape them\n",
    "# val_generator_100 = ImageDataGenerator(rescale=1./255).flow_from_directory(\n",
    "#         val_folder, \n",
    "#         target_size=(100, 100), batch_size = val_img_number)\n",
    "\n",
    "# # get all the data in the directory split/test, and reshape them\n",
    "# test_generator_100 = ImageDataGenerator(rescale=1./255).flow_from_directory(\n",
    "#         test_folder, \n",
    "#         target_size=(100, 100), batch_size = test_img_number) \n",
    "\n",
    "# Reshape images to 100x100\n",
    "\n",
    "image_size = (100,100)\n",
    "train_generator_100, val_generator_100, test_generator_100 = process_data_no_aug(image_size)\n",
    "\n",
    "train_images2, train_labels2 = next(train_generator_100)\n",
    "test_images2, test_labels2 = next(test_generator_100)\n",
    "val_images2, val_labels2 = next(val_generator_100)\n",
    "\n",
    "\n"
   ]
  },
  {
   "cell_type": "code",
   "execution_count": null,
   "id": "85439569",
   "metadata": {},
   "outputs": [],
   "source": [
    "# Reshape images\n",
    "train_img2 = train_images2.reshape(train_images2.shape[0], -1)\n",
    "test_img2 = test_images2.reshape(test_images2.shape[0], -1)\n",
    "val_img2 = val_images2.reshape(val_images2.shape[0], -1)\n",
    "\n",
    "# Check the shape after. \n",
    "print(train_img2.shape)\n",
    "print(test_img2.shape)\n",
    "print(val_img2.shape)"
   ]
  },
  {
   "cell_type": "code",
   "execution_count": null,
   "id": "01e8723f",
   "metadata": {},
   "outputs": [],
   "source": [
    "# Labels\n",
    "train_y2 = np.reshape(train_labels[:,0], (train_img_number,1))\n",
    "test_y2 = np.reshape(test_labels[:,0], (test_img_number,1))\n",
    "val_y2 = np.reshape(val_labels[:,0], (val_img_number,1))"
   ]
  },
  {
   "cell_type": "code",
   "execution_count": null,
   "id": "5756ca21",
   "metadata": {},
   "outputs": [],
   "source": [
    "# Create model.\n",
    "model_name = \"Basic CNN 100x100\"\n",
    "\n",
    "model_CNN3 = models.Sequential()\n",
    "model_CNN3.add(layers.Conv2D(32, (3, 3), activation='relu',\n",
    "                        input_shape=(100 ,100, 3)))\n",
    "model_CNN3.add(layers.MaxPooling2D((2, 2)))\n",
    "\n",
    "model_CNN3.add(layers.Conv2D(32, (4, 4), activation='relu'))\n",
    "model_CNN3.add(layers.MaxPooling2D((2, 2)))\n",
    "\n",
    "model_CNN3.add(layers.Conv2D(64, (3, 3), activation='relu'))\n",
    "model_CNN3.add(layers.MaxPooling2D((2, 2)))\n",
    "\n",
    "model_CNN3.add(layers.Flatten())\n",
    "model_CNN3.add(layers.Dense(16, activation='relu'))\n",
    "model_CNN3.add(layers.Dense(1, activation='sigmoid'))\n",
    "\n",
    "model_CNN3.compile(loss='binary_crossentropy',\n",
    "              optimizer=\"sgd\",\n",
    "              metrics=['accuracy'])"
   ]
  },
  {
   "cell_type": "code",
   "execution_count": null,
   "id": "c47e5b3e",
   "metadata": {},
   "outputs": [],
   "source": [
    "start = time.time()\n",
    "\n",
    "history_CNN3 = model_CNN3.fit(train_images2,\n",
    "                    train_y2,\n",
    "                    epochs=15,\n",
    "                    batch_size=50,\n",
    "                    validation_data=(val_images2, val_y2))\n",
    "end = time.time()\n",
    "train_time = round(end-start, 0)\n",
    "savepath = \"./data/models/\"+model_name+\".h5\"\n",
    "model_CNN3.save(savepath)\n"
   ]
  },
  {
   "cell_type": "code",
   "execution_count": null,
   "id": "138e51ac",
   "metadata": {},
   "outputs": [],
   "source": [
    "results_test = model_CNN3.evaluate(test_images2, test_y2)"
   ]
  },
  {
   "cell_type": "code",
   "execution_count": null,
   "id": "6a31d1f9",
   "metadata": {},
   "outputs": [],
   "source": [
    "results_df = make_results(results_df,image_size,train_time,model_name,history_CNN3, model_CNN3, test_images2, test_y2)\n",
    "display(results_df)\n",
    "plot_results(history_CNN3, model_CNN3, test_images2, test_y2)"
   ]
  },
  {
   "cell_type": "markdown",
   "id": "5fd04da9",
   "metadata": {},
   "source": [
    "##### 8) Basic CNN, shape 100 x 100 with regulization and dropout"
   ]
  },
  {
   "cell_type": "code",
   "execution_count": null,
   "id": "81c11e81",
   "metadata": {},
   "outputs": [],
   "source": [
    "model_name = \"Basic CNN 100x100 with reg and dropout\"\n",
    "\n",
    "model_CNN4 = models.Sequential()\n",
    "model_CNN4.add(layers.Conv2D(32, (3, 3), activation='relu',\n",
    "                        input_shape=(100 ,100, 3)))\n",
    "model_CNN4.add(layers.MaxPooling2D((2, 2)))\n",
    "\n",
    "model_CNN4.add(layers.Conv2D(64, (4, 4), activation='relu'))\n",
    "model_CNN4.add(layers.MaxPooling2D((2, 2)))\n",
    "\n",
    "model_CNN4.add(layers.Conv2D(64, (3, 3), activation='relu'))\n",
    "model_CNN4.add(layers.MaxPooling2D((2, 2)))\n",
    "\n",
    "model_CNN4.add(layers.Flatten())\n",
    "model_CNN4.add(layers.Dense(16, activation='relu', kernel_regularizer = l2(l2 = 0.01)))\n",
    "model_CNN4.add(layers.Dropout(0.3))\n",
    "model_CNN4.add(layers.Dense(1, activation='sigmoid'))\n",
    "\n",
    "model_CNN4.compile(loss='binary_crossentropy',\n",
    "              optimizer=\"sgd\",\n",
    "              metrics=['accuracy'])"
   ]
  },
  {
   "cell_type": "code",
   "execution_count": null,
   "id": "58d2d2c4",
   "metadata": {},
   "outputs": [],
   "source": [
    "start = time.time()\n",
    "\n",
    "history_CNN4 = model_CNN4.fit(train_images2,\n",
    "                    train_y2,\n",
    "                    epochs=15,\n",
    "                    batch_size=32,\n",
    "                    validation_data=(val_images2, val_y2))\n",
    "end = time.time()\n",
    "train_time = round(end-start, 0)\n",
    "savepath = \"./data/models/\"+model_name+\".h5\"\n",
    "model_CNN4.save(savepath)"
   ]
  },
  {
   "cell_type": "code",
   "execution_count": null,
   "id": "55537c86",
   "metadata": {},
   "outputs": [],
   "source": [
    "results_test = model_CNN4.evaluate(test_images2, test_y2)"
   ]
  },
  {
   "cell_type": "code",
   "execution_count": null,
   "id": "5580677e",
   "metadata": {},
   "outputs": [],
   "source": [
    "results_df = make_results(results_df,image_size,train_time,model_name,history_CNN4, model_CNN4, test_images2, test_y2)\n",
    "display(results_df)\n",
    "plot_results(history_CNN4, model_CNN4, test_images2, test_y2)"
   ]
  },
  {
   "cell_type": "code",
   "execution_count": null,
   "id": "274ab12c",
   "metadata": {},
   "outputs": [],
   "source": []
  },
  {
   "cell_type": "code",
   "execution_count": null,
   "id": "b89477a2",
   "metadata": {},
   "outputs": [],
   "source": []
  },
  {
   "cell_type": "markdown",
   "id": "940881ed",
   "metadata": {},
   "source": [
    "##### Change data"
   ]
  },
  {
   "cell_type": "code",
   "execution_count": null,
   "id": "09d826b3",
   "metadata": {},
   "outputs": [],
   "source": [
    "image_size = (100,100)\n",
    "batch_size = 120\n",
    "train_generator_arg_100, val_generator_arg_100, test_generator_arg_100 = process_data_aug(image_size, batch_size)\n"
   ]
  },
  {
   "cell_type": "code",
   "execution_count": null,
   "id": "1ff2d885",
   "metadata": {},
   "outputs": [],
   "source": [
    "# train_datagen_arg_100 = ImageDataGenerator(rescale=1./255, \n",
    "#                                    rotation_range=40, \n",
    "#                                    width_shift_range=0.1, \n",
    "#                                    height_shift_range=0.1, \n",
    "#                                    shear_range=0.2, \n",
    "#                                    horizontal_flip=False)\n",
    "# test_generator_arg_100 = ImageDataGenerator(rescale=1./255).flow_from_directory(\n",
    "#         test_folder, \n",
    "#         target_size=(100, 100), \n",
    "#         batch_size = test_img_number,\n",
    "#         class_mode='binary') \n",
    "\n",
    "# # get all the data in the directory split/validation, and reshape them\n",
    "# val_generator_arg_100 = ImageDataGenerator(rescale=1./255).flow_from_directory(\n",
    "#         val_folder, \n",
    "#         target_size=(100, 100),\n",
    "#         batch_size = 32,\n",
    "#         class_mode='binary')\n",
    "\n",
    "# # get all the data in the directory split/train , and reshape them\n",
    "# train_generator_arg_100 = train_datagen_arg_100.flow_from_directory(\n",
    "#         train_folder, target_size=(100, 100),\n",
    "#         batch_size = 64, class_mode='binary')\n"
   ]
  },
  {
   "cell_type": "code",
   "execution_count": null,
   "id": "63c7effa",
   "metadata": {},
   "outputs": [],
   "source": [
    "train_images_100_arg, train_labels_100_arg = next(train_generator_arg_100)\n",
    "test_images_100_arg, test_labels_100_arg = next(test_generator_arg_100)\n",
    "val_images_100_arg, val_labels_100_arg = next(val_generator_arg_100)\n",
    "\n",
    "#test_y = np.reshape(test_labels_100_arg[:,], (test_img_number,1))"
   ]
  },
  {
   "cell_type": "markdown",
   "id": "9d8c3f8b",
   "metadata": {},
   "source": [
    "##### 9) Augment CNN, shape 100 x 100 with regularization"
   ]
  },
  {
   "cell_type": "code",
   "execution_count": null,
   "id": "9ae08031",
   "metadata": {},
   "outputs": [],
   "source": [
    "model_name = \"Augmented CNN 100x100 with reg\"\n",
    "\n",
    "model_CNN6 = models.Sequential()\n",
    "model_CNN6.add(layers.Conv2D(32, (3, 3), activation='relu',\n",
    "                        input_shape=(100 ,100, 3)))\n",
    "model_CNN6.add(layers.MaxPooling2D((2, 2)))\n",
    "\n",
    "model_CNN6.add(layers.Conv2D(64, (3, 3), activation='relu'))\n",
    "model_CNN6.add(layers.MaxPooling2D((2, 2)))\n",
    "model_CNN6.add(layers.Dropout(0.2))\n",
    "\n",
    "model_CNN6.add(layers.Conv2D(64, (3, 3), activation='relu'))\n",
    "model_CNN6.add(layers.MaxPooling2D((2, 2)))\n",
    "\n",
    "model_CNN6.add(layers.Flatten())\n",
    "model_CNN6.add(layers.Dense(50, activation='relu', kernel_regularizer = l2(l2 = 0.01)))\n",
    "model_CNN6.add(layers.Dropout(0.3))\n",
    "model_CNN6.add(layers.Dense(1, activation='sigmoid'))\n",
    "\n",
    "\n",
    "\n",
    "model_CNN6.compile(loss='binary_crossentropy',\n",
    "              optimizer=\"Adam\",\n",
    "              metrics=['accuracy'])"
   ]
  },
  {
   "cell_type": "code",
   "execution_count": null,
   "id": "4fa15d5d",
   "metadata": {},
   "outputs": [],
   "source": [
    "start = time.time()\n",
    "history_CNN6 = model_CNN6.fit_generator(train_generator_arg_100, \n",
    "                                steps_per_epoch=25, \n",
    "                                epochs=15, \n",
    "                                validation_data=val_generator_arg_100, \n",
    "                                validation_steps=25)\n",
    "end = time.time()\n",
    "train_time = round(end-start, 0)\n",
    "savepath = \"./data/models/\"+model_name+\".h5\"\n",
    "model_CNN6.save(savepath)"
   ]
  },
  {
   "cell_type": "code",
   "execution_count": null,
   "id": "a29d236d",
   "metadata": {},
   "outputs": [],
   "source": [
    "results_df = make_results(results_df,image_size,train_time,model_name,history_CNN6, model_CNN6, test_images_100_arg, test_y)\n",
    "display(results_df)\n",
    "plot_results(history_CNN6, model_CNN6, test_images_100_arg, test_y)"
   ]
  },
  {
   "cell_type": "markdown",
   "id": "93486211",
   "metadata": {},
   "source": [
    "argumented CNN 100 batch 64/32 Rmsprop"
   ]
  },
  {
   "cell_type": "markdown",
   "id": "979ababe",
   "metadata": {},
   "source": [
    "##### 10) Augment CNN, shape 100 x 100 with reg and RMSprop optimizer"
   ]
  },
  {
   "cell_type": "code",
   "execution_count": null,
   "id": "5bb41931",
   "metadata": {},
   "outputs": [],
   "source": [
    "model_name = \"Augmented CNN 100x100 with reg and RMSprop optimizer\"\n",
    "\n",
    "model_CNN8 = models.Sequential()\n",
    "model_CNN8.add(layers.Conv2D(32, (3, 3), activation='relu',\n",
    "                        input_shape=(100 ,100, 3)))\n",
    "model_CNN8.add(layers.MaxPooling2D((2, 2)))\n",
    "\n",
    "model_CNN8.add(layers.Conv2D(64, (4, 4), activation='relu', kernel_regularizer = l2(l2 = 0.01)))\n",
    "model_CNN8.add(layers.MaxPooling2D((2, 2)))\n",
    "\n",
    "model_CNN8.add(layers.Conv2D(64, (3, 3), activation='relu'))\n",
    "model_CNN8.add(layers.MaxPooling2D((2, 2)))\n",
    "\n",
    "model_CNN8.add(layers.Flatten())\n",
    "model_CNN8.add(layers.Dense(50, activation='relu', kernel_regularizer = l2(l2 = 0.01)))\n",
    "model_CNN8.add(layers.Dropout(0.3))\n",
    "model_CNN8.add(layers.Dense(1, activation='sigmoid'))\n",
    "\n",
    "model_CNN8.compile(loss='binary_crossentropy',\n",
    "              optimizer=\"rmsprop\",\n",
    "              metrics=['accuracy'])\n"
   ]
  },
  {
   "cell_type": "code",
   "execution_count": null,
   "id": "eede378f",
   "metadata": {},
   "outputs": [],
   "source": [
    "start = time.time()\n",
    "\n",
    "history_CNN8 = model_CNN8.fit_generator(train_generator_arg_100, \n",
    "                                steps_per_epoch=25, \n",
    "                                epochs=10, \n",
    "                                validation_data=val_generator_arg_100, \n",
    "                                validation_steps=25)\n",
    "\n",
    "end = time.time()\n",
    "train_time = round(end-start, 0)\n",
    "savepath = \"./data/models/\"+model_name+\".h5\"\n",
    "model_CNN8.save(savepath)"
   ]
  },
  {
   "cell_type": "code",
   "execution_count": null,
   "id": "e8fae8c4",
   "metadata": {},
   "outputs": [],
   "source": [
    "results_df = make_results(results_df,image_size,train_time,model_name,history_CNN8, model_CNN8, test_images_100_arg, test_y)\n",
    "display(results_df)\n",
    "plot_results(history_CNN8, model_CNN8, test_images_100_arg, test_y)"
   ]
  },
  {
   "cell_type": "code",
   "execution_count": null,
   "id": "8bf3f05f",
   "metadata": {},
   "outputs": [],
   "source": [
    "results_test = model_CNN8.evaluate(test_images_100_arg, test_y)"
   ]
  },
  {
   "cell_type": "markdown",
   "id": "b4a85795",
   "metadata": {},
   "source": [
    "##### 11) Augment CNN, shape 100 x 100 with reg with additional regularizer"
   ]
  },
  {
   "cell_type": "code",
   "execution_count": null,
   "id": "b9a6c083",
   "metadata": {},
   "outputs": [],
   "source": [
    "model_name = \"Augmented CNN 100x100 with additional reg, increased training time\"\n",
    "model_CNN9 = models.Sequential()\n",
    "model_CNN9.add(layers.Conv2D(32, (3, 3), activation='relu',\n",
    "                        input_shape=(100 ,100, 3)))\n",
    "model_CNN9.add(layers.MaxPooling2D((2, 2)))\n",
    "\n",
    "model_CNN9.add(layers.Conv2D(64, (4, 4), activation='relu'))\n",
    "model_CNN9.add(layers.MaxPooling2D((2, 2)))\n",
    "\n",
    "model_CNN9.add(layers.Conv2D(64, (3, 3), activation='relu'))\n",
    "model_CNN9.add(layers.MaxPooling2D((2, 2)))\n",
    "\n",
    "model_CNN9.add(layers.Flatten())\n",
    "model_CNN9.add(layers.Dense(50, activation='relu', kernel_regularizer = l2(l2 = 0.01)))\n",
    "model_CNN9.add(layers.Dropout(0.3))\n",
    "model_CNN9.add(layers.Dense(1, activation='sigmoid'))\n",
    "\n",
    "model_CNN9.compile(loss='binary_crossentropy',\n",
    "              optimizer=\"adam\",\n",
    "              metrics=['accuracy'])"
   ]
  },
  {
   "cell_type": "code",
   "execution_count": null,
   "id": "89d4dd75",
   "metadata": {},
   "outputs": [],
   "source": [
    "start = time.time()\n",
    "history_CNN9 = model_CNN9.fit_generator(train_generator_arg_100, \n",
    "                                steps_per_epoch=25, \n",
    "                                epochs=30, \n",
    "                                validation_data=val_generator_arg_100, \n",
    "                                validation_steps=25)\n",
    "\n",
    "end = time.time()\n",
    "train_time = round(end-start, 0)\n",
    "savepath = \"./data/models/\"+model_name+\".h5\"\n",
    "model_CNN9.save(savepath)"
   ]
  },
  {
   "cell_type": "code",
   "execution_count": null,
   "id": "bb6ad92f",
   "metadata": {},
   "outputs": [],
   "source": [
    "results_test = model_CNN9.evaluate(test_images_100_arg, test_y)"
   ]
  },
  {
   "cell_type": "code",
   "execution_count": null,
   "id": "761c8b6c",
   "metadata": {},
   "outputs": [],
   "source": [
    "results_df = make_results(results_df,image_size,train_time,model_name,history_CNN9, model_CNN9, test_images_100_arg, test_y)\n",
    "display(results_df)\n",
    "plot_results(history_CNN9, model_CNN9, test_images_100_arg, test_y)"
   ]
  },
  {
   "cell_type": "code",
   "execution_count": null,
   "id": "40c6565d",
   "metadata": {},
   "outputs": [],
   "source": []
  },
  {
   "cell_type": "markdown",
   "id": "a1b47bc8",
   "metadata": {},
   "source": [
    "##### 12) Pre-trained Augmented CNN 100x100 frozen layer VGG16"
   ]
  },
  {
   "cell_type": "code",
   "execution_count": null,
   "id": "7ee406d7",
   "metadata": {},
   "outputs": [],
   "source": [
    "model_name = \"Pre-trained Augmented CNN 100x100 frozen layer VGG16, batch 92/32\"\n",
    "\n",
    "base_model_cnn = VGG16(\n",
    "        weights='imagenet',\n",
    "        include_top=False, \n",
    "        input_shape=(100,100,3))\n",
    "# Freeze VGG layer\n",
    "base_model_cnn.trainable = False\n",
    "model_new7 = models.Sequential()\n",
    "model_new7.add(base_model_cnn)\n",
    "model_new7.add(layers.Flatten())\n",
    "model_new7.add(layers.Dropout(0.3))\n",
    "model_new7.add(layers.Dense(64, activation=\"relu\", kernel_regularizer = l2(l2 = 0.01)))\n",
    "model_new7.add(layers.Dropout(0.3))\n",
    "model_new7.add(layers.Dense(1,activation=\"sigmoid\"))\n",
    "model_new7.compile(\n",
    "    loss='binary_crossentropy',\n",
    "    optimizer=\"adam\",\n",
    "    metrics=['accuracy'])\n",
    "start = time.time()\n",
    "history__new7 = model_new7.fit_generator(train_generator_arg_100, \n",
    "                                steps_per_epoch=25, \n",
    "                                epochs=10, \n",
    "                                validation_data=val_generator_arg_100, \n",
    "                                validation_steps=25)\n",
    "end = time.time()\n",
    "train_time = round(end-start, 0)\n",
    "savepath = \"./data/models/\"+model_name+\".h5\"\n",
    "model_new7.save(savepath)"
   ]
  },
  {
   "cell_type": "code",
   "execution_count": null,
   "id": "ec63042a",
   "metadata": {
    "scrolled": true
   },
   "outputs": [],
   "source": [
    "results_df = make_results(results_df,image_size,train_time,model_name,history__new7, model_new7, test_images_100_arg, test_y)\n",
    "display(results_df)\n",
    "plot_results(history__new7, model_new7, test_images_100_arg, test_y)"
   ]
  },
  {
   "cell_type": "markdown",
   "id": "a06c20de",
   "metadata": {},
   "source": [
    "##### 12) Pre-trained Augmented CNN 100x100 frozen layer VGG16 batch 64/32"
   ]
  },
  {
   "cell_type": "code",
   "execution_count": null,
   "id": "29f0d312",
   "metadata": {},
   "outputs": [],
   "source": [
    "image_size = (100,100)\n",
    "train_datagen_arg_100 = ImageDataGenerator(rescale=1./255, \n",
    "                                   rotation_range=10, \n",
    "                                   width_shift_range=0.2, \n",
    "                                   height_shift_range=0.2, \n",
    "                                   shear_range=0.2, \n",
    "                                   vertical_flip=True)\n",
    "test_generator_arg_100 = ImageDataGenerator(rescale=1./255).flow_from_directory(\n",
    "        test_folder, \n",
    "        target_size=image_size, \n",
    "        batch_size = test_img_number,\n",
    "        class_mode='binary') \n",
    "\n",
    "# get all the data in the directory split/validation, and reshape them\n",
    "val_generator_arg_100 = ImageDataGenerator(rescale=1./255).flow_from_directory(\n",
    "        val_folder, \n",
    "        target_size=image_size,\n",
    "        batch_size = 24,\n",
    "        class_mode='binary',\n",
    "        shuffle = True)\n",
    "\n",
    "# get all the data in the directory split/train , and reshape them\n",
    "train_generator_arg_100 = train_datagen_arg_100.flow_from_directory(\n",
    "        train_folder, target_size=image_size,\n",
    "        batch_size = 64, class_mode='binary',\n",
    "        shuffle = True)\n",
    "test_images, test_labels = next(test_generator_arg_100)\n",
    "test_y = np.reshape(test_labels[:,], (test_img_number,1))"
   ]
  },
  {
   "cell_type": "code",
   "execution_count": null,
   "id": "283f2af1",
   "metadata": {},
   "outputs": [],
   "source": [
    "model_name = \"Pre-trained Augmented CNN 100x100 frozen layer VGG16 with weights\"\n",
    "\n",
    "base_model_cnn = VGG16(\n",
    "        weights='imagenet',\n",
    "        include_top=False, \n",
    "        input_shape=(100,100,3))\n",
    "# Freeze VGG layer\n",
    "base_model_cnn.trainable = False\n",
    "model_new4 = models.Sequential()\n",
    "model_new4.add(base_model_cnn)\n",
    "model_new4.add(layers.Flatten())\n",
    "model_new4.add(layers.Dense(64, activation=\"relu\", kernel_regularizer = l2(l2 = 0.01)))\n",
    "model_new4.add(layers.Dropout(0.3))\n",
    "model_new4.add(layers.Dense(1,activation=\"sigmoid\"))\n",
    "model_new4.compile(\n",
    "    loss='binary_crossentropy',\n",
    "    optimizer=\"adam\",\n",
    "    metrics=['accuracy'])\n",
    "start = time.time()\n",
    "history__new4 = model_new4.fit_generator(train_generator_arg_100, \n",
    "                                steps_per_epoch=25, \n",
    "                                epochs=10, \n",
    "                                validation_data=val_generator_arg_100, \n",
    "                                validation_steps=25, class_weight = {0: 2, 1: 1})\n",
    "end = time.time()\n",
    "train_time = round(end-start, 0)\n",
    "savepath = \"./data/models/\"+model_name+\".h5\"\n",
    "model_new4.save(savepath)"
   ]
  },
  {
   "cell_type": "code",
   "execution_count": null,
   "id": "b430c935",
   "metadata": {},
   "outputs": [],
   "source": [
    "results_df = make_results(results_df,image_size,train_time,model_name,history__new4, model_new4, test_images_100_arg, test_y)\n",
    "display(results_df)\n",
    "plot_results(history__new4, model_new4, test_images_100_arg, test_y)"
   ]
  },
  {
   "cell_type": "code",
   "execution_count": null,
   "id": "05cc5cc7",
   "metadata": {},
   "outputs": [],
   "source": []
  },
  {
   "cell_type": "code",
   "execution_count": null,
   "id": "4b727653",
   "metadata": {},
   "outputs": [],
   "source": [
    "# train_datagen_arg_100 = ImageDataGenerator(rescale=1./255, \n",
    "#                                    rotation_range=20, \n",
    "#                                    width_shift_range=0.1, \n",
    "#                                    height_shift_range=0.1, \n",
    "#                                    shear_range=0.2, \n",
    "#                                    horizontal_flip=False)\n",
    "# test_generator_arg_100 = ImageDataGenerator(rescale=1./255).flow_from_directory(\n",
    "#         test_folder, \n",
    "#         target_size=(100, 100), \n",
    "#         batch_size = test_img_number,\n",
    "#         class_mode='binary') \n",
    "\n",
    "# # get all the data in the directory split/validation, and reshape them\n",
    "# val_generator_arg_100 = ImageDataGenerator(rescale=1./255).flow_from_directory(\n",
    "#         val_folder, \n",
    "#         target_size=(100, 100),\n",
    "#         batch_size = 32,\n",
    "#         class_mode='binary',\n",
    "#         shuffle = True)\n",
    "\n",
    "# # get all the data in the directory split/train , and reshape them\n",
    "# train_generator_arg_100 = train_datagen_arg_100.flow_from_directory(\n",
    "#         train_folder, target_size=(100, 100),\n",
    "#         batch_size = 64, class_mode='binary',\n",
    "#         shuffle = True)\n"
   ]
  },
  {
   "cell_type": "code",
   "execution_count": null,
   "id": "730f6746",
   "metadata": {},
   "outputs": [],
   "source": [
    "# model_name = \"2 Pre-trained Augmented CNN 100x100 frozen layer VGG16\"\n",
    "\n",
    "# base_model_cnn = VGG16(\n",
    "#         weights='imagenet',\n",
    "#         include_top=False, \n",
    "#         input_shape=(100,100,3))\n",
    "# # Freeze VGG layer\n",
    "# base_model_cnn.trainable = False"
   ]
  },
  {
   "cell_type": "code",
   "execution_count": null,
   "id": "1d76f6f0",
   "metadata": {},
   "outputs": [],
   "source": [
    "# model_new6 = models.Sequential()\n",
    "# model_new6.add(base_model_cnn)\n",
    "# model_new6.add(layers.Flatten())\n",
    "# model_new6.add(layers.Dense(1000, activation=\"relu\", kernel_regularizer = l2(l2 = 0.01)))\n",
    "# model_new6.add(layers.Dropout(0.7))\n",
    "# model_new6.add(layers.Dense(1000, activation=\"relu\", kernel_regularizer = l2(l2 = 0.01)))\n",
    "# model_new6.add(layers.Dropout(0.7))\n",
    "# model_new6.add(layers.Dense(300, activation=\"relu\", kernel_regularizer = l2(l2 = 0.01)))\n",
    "# model_new6.add(layers.Dropout(0.6))\n",
    "# model_new6.add(layers.Dense(1,activation=\"sigmoid\"))\n",
    "# model_new6.compile(\n",
    "#     loss='binary_crossentropy',\n",
    "#     optimizer=\"adam\",\n",
    "#     metrics=['accuracy'])"
   ]
  },
  {
   "cell_type": "code",
   "execution_count": null,
   "id": "dfe5c377",
   "metadata": {},
   "outputs": [],
   "source": [
    "# start = time.time()\n",
    "# history__new6 = model_new6.fit_generator(train_generator_arg_100, \n",
    "#                                 steps_per_epoch=25, \n",
    "#                                 epochs=5, \n",
    "#                                 validation_data=val_generator_arg_100, \n",
    "#                                 validation_steps=25)\n",
    "# end = time.time()\n",
    "# train_time = round(end-start, 0)"
   ]
  },
  {
   "cell_type": "code",
   "execution_count": null,
   "id": "8b90b318",
   "metadata": {},
   "outputs": [],
   "source": [
    "# results_df = make_results(results_df,image_size,train_time,model_name,history__new6, model_new6, test_images_100_arg, test_y)\n",
    "# display(results_df)\n",
    "# plot_results(history__new6, model_new6, test_images_100_arg, test_y)"
   ]
  },
  {
   "cell_type": "code",
   "execution_count": null,
   "id": "fac0ed81",
   "metadata": {},
   "outputs": [],
   "source": []
  },
  {
   "cell_type": "code",
   "execution_count": null,
   "id": "b85ae2f9",
   "metadata": {},
   "outputs": [],
   "source": [
    "train_datagen_arg_100 = ImageDataGenerator(rescale=1./255, \n",
    "                                   rotation_range=20, \n",
    "                                   width_shift_range=0.2, \n",
    "                                   height_shift_range=0.2, \n",
    "                                   shear_range=0.2, \n",
    "                                   vertical_flip=True)\n",
    "test_generator_arg_100 = ImageDataGenerator(rescale=1./255).flow_from_directory(\n",
    "        test_folder, \n",
    "        target_size=(100, 100), \n",
    "        batch_size = test_img_number,\n",
    "        class_mode='binary') \n",
    "\n",
    "# get all the data in the directory split/validation, and reshape them\n",
    "val_generator_arg_100 = ImageDataGenerator(rescale=1./255).flow_from_directory(\n",
    "        val_folder, \n",
    "        target_size=(100, 100),\n",
    "        batch_size = 10,\n",
    "        class_mode='binary',\n",
    "        shuffle = True)\n",
    "\n",
    "# get all the data in the directory split/train , and reshape them\n",
    "train_generator_arg_100 = train_datagen_arg_100.flow_from_directory(\n",
    "        train_folder, target_size=(100, 100),\n",
    "        batch_size = 64, class_mode='binary',\n",
    "        shuffle = True)\n",
    "test_images, test_labels = next(test_generator_arg_100)\n",
    "test_y = np.reshape(test_labels[:,], (test_img_number,1))\n",
    "\n",
    "\n",
    "model_name = \"Pre-trained Augmented CNN 100x100 frozen layer VGG16\"\n",
    "\n",
    "base_model_cnn = VGG16(\n",
    "        weights='imagenet',\n",
    "        include_top=False, \n",
    "        input_shape=(100,100,3))\n",
    "# Freeze VGG layer\n",
    "base_model_cnn.trainable = False\n",
    "\n",
    "model_new6 = models.Sequential()\n",
    "model_new6.add(base_model_cnn)\n",
    "model_new6.add(layers.Flatten())\n",
    "model_new6.add(layers.Dense(64, activation=\"relu\", kernel_regularizer = l2(l2 = 0.01)))\n",
    "model_new6.add(layers.Dropout(0.2))\n",
    "model_new6.add(layers.Dense(1,activation=\"sigmoid\"))\n",
    "model_new6.compile(\n",
    "    loss='binary_crossentropy',\n",
    "    optimizer=\"adam\",\n",
    "    metrics=['accuracy'])\n",
    "\n",
    "start = time.time()\n",
    "history__new6 = model_new6.fit_generator(train_generator_arg_100, \n",
    "                                steps_per_epoch=25, \n",
    "                                epochs=10, \n",
    "                                validation_data=val_generator_arg_100, \n",
    "                                validation_steps=25)\n",
    "end = time.time()\n",
    "train_time = round(end-start, 0)\n",
    "\n",
    "results_df = make_results(results_df,image_size,train_time,model_name,history__new6, model_new6, test_images, test_y)\n",
    "display(results_df)\n",
    "plot_results(history__new6, model_new6, test_images, test_y)\n",
    "savepath = \"./data/models/\"+model_name+\".h5\"\n",
    "model_new6.save(savepath)"
   ]
  },
  {
   "cell_type": "code",
   "execution_count": null,
   "id": "3c941c05",
   "metadata": {},
   "outputs": [],
   "source": []
  },
  {
   "cell_type": "code",
   "execution_count": null,
   "id": "02bd7286",
   "metadata": {},
   "outputs": [],
   "source": [
    "# # new formula less dense :\n",
    "# model_new6.add(layers.Dense(1000, activation=\"relu\", kernel_regularizer = l2(l2 = 0.01)))\n",
    "# model_new6.add(layers.Dropout(0.7))\n",
    "# model_new6.add(layers.Dense(64, activation=\"relu\", kernel_regularizer = l2(l2 = 0.01)))\n",
    "# model_new6.add(layers.Dropout(0.5))\n",
    "\n",
    "# # even less model\n",
    "# model_new6.add(layers.Dense(64, activation=\"relu\", kernel_regularizer = l2(l2 = 0.01)))\n",
    "# model_new6.add(layers.Dropout(0.2))"
   ]
  },
  {
   "cell_type": "code",
   "execution_count": null,
   "id": "3a47d377",
   "metadata": {},
   "outputs": [],
   "source": [
    "# test shift range to 0.2 , vertical flip = true, shuffle = true, epoch = 5, 64/32 batches -  0.4295\t0.7479"
   ]
  },
  {
   "cell_type": "code",
   "execution_count": null,
   "id": "4d90377a",
   "metadata": {},
   "outputs": [],
   "source": [
    "# test shift range to 0.2 , vertical flip = true, shuffle = true,epoch = 12, 64/32 batches : 0.899\t0.9564"
   ]
  },
  {
   "cell_type": "code",
   "execution_count": null,
   "id": "d027a52e",
   "metadata": {},
   "outputs": [],
   "source": [
    "# test shift range to 0.2 , vertical flip = true, shuffle = true,epoch = 20, 64/32 batches -  0.8734\t0.971"
   ]
  },
  {
   "cell_type": "code",
   "execution_count": null,
   "id": "2064bbe4",
   "metadata": {},
   "outputs": [],
   "source": [
    "# test shift range to 0.2 , vertical flip = true, shuffle = true,epoch = 10, 64/32 batches -   0.8381 0.9846"
   ]
  },
  {
   "cell_type": "code",
   "execution_count": null,
   "id": "10fffdf7",
   "metadata": {},
   "outputs": [],
   "source": [
    "# test shift range to 0.2 , vertical flip = true, shuffle = true,epoch = 10, 96/32 batches -    0.8894\t0.9564"
   ]
  },
  {
   "cell_type": "code",
   "execution_count": null,
   "id": "43c6c785",
   "metadata": {},
   "outputs": [],
   "source": [
    "# test shift range to 0.2 , vertical flip = true, shuffle = true,epoch = 10, 120/32 batches -    0.9054\t0.959"
   ]
  },
  {
   "cell_type": "code",
   "execution_count": null,
   "id": "388018dc",
   "metadata": {},
   "outputs": [],
   "source": [
    "# test shift range to 0.2 , vertical flip = true, shuffle = true,epoch = 10, 120/32 batches -    0.7788\t0.9923"
   ]
  },
  {
   "cell_type": "code",
   "execution_count": null,
   "id": "b60520cf",
   "metadata": {},
   "outputs": [],
   "source": [
    "# test shift range to 0.2 , vertical flip = true, shuffle = true,epoch = 10, 240/32 batches -  don't work"
   ]
  },
  {
   "cell_type": "code",
   "execution_count": null,
   "id": "2b64fd15",
   "metadata": {},
   "outputs": [],
   "source": [
    "# test shift range to 0.2 , vertical flip = true, shuffle = true,epoch = 10, 64/10 batches -  0.8942\t0.9538"
   ]
  },
  {
   "cell_type": "code",
   "execution_count": null,
   "id": "0228747a",
   "metadata": {},
   "outputs": [],
   "source": [
    "# test shift range to 0.2 , vertical flip = true, shuffle = true,epoch = 8, 64/10 batches -   0.8894\t0.9667"
   ]
  },
  {
   "cell_type": "code",
   "execution_count": null,
   "id": "d268caa8",
   "metadata": {},
   "outputs": [],
   "source": [
    "# test shift range to 0.2 , vertical flip = true, shuffle = true,epoch = 8, 64/10 batches -   0.8606\t0.9795"
   ]
  },
  {
   "cell_type": "code",
   "execution_count": null,
   "id": "daed2bc3",
   "metadata": {},
   "outputs": [],
   "source": [
    "# test shift range to 0.2 , vertical flip = true, shuffle = true,epoch = 10, 64/10 batches -   0.9151\t0.9538"
   ]
  },
  {
   "cell_type": "code",
   "execution_count": null,
   "id": "5566d64d",
   "metadata": {},
   "outputs": [],
   "source": [
    "# test shift range to 0.2 , vertical flip = true, shuffle = true,epoch = 10, 64/10 batches, class  - {0: 2, 1: 1}  0.9071\t0.9333 0.9151\t0.9538"
   ]
  },
  {
   "cell_type": "code",
   "execution_count": null,
   "id": "22669e20",
   "metadata": {},
   "outputs": [],
   "source": [
    "# test shift range to 0.2 , vertical flip = true, shuffle = true,epoch = 10, 64/10 batches, class  - {0: 2, 1: 1}, less connected  0.9071\t0.9333 0.9151\t0.9538\n",
    "\n"
   ]
  },
  {
   "cell_type": "code",
   "execution_count": null,
   "id": "2877af0c",
   "metadata": {},
   "outputs": [],
   "source": [
    "# even less model class weight  0.928\t0.9135\t0.9667\n"
   ]
  },
  {
   "cell_type": "code",
   "execution_count": null,
   "id": "ab2a9308",
   "metadata": {},
   "outputs": [],
   "source": [
    "# even less model, class weight, epoch 8,   \n",
    "\n"
   ]
  },
  {
   "cell_type": "code",
   "execution_count": null,
   "id": "39a310de",
   "metadata": {},
   "outputs": [],
   "source": [
    "# ,epoc 10 without class_weight = {0: 2, 1: 1} "
   ]
  },
  {
   "cell_type": "code",
   "execution_count": null,
   "id": "cff8647a",
   "metadata": {},
   "outputs": [],
   "source": [
    "\n",
    "# train_datagen_arg_100 = ImageDataGenerator(rescale=1./255, \n",
    "#                                    rotation_range=20, \n",
    "#                                    width_shift_range=0.2, \n",
    "#                                    height_shift_range=0.2, \n",
    "#                                    shear_range=0.2, \n",
    "#                                    vertical_flip=True)\n",
    "# test_generator_arg_100 = ImageDataGenerator(rescale=1./255).flow_from_directory(\n",
    "#         test_folder, \n",
    "#         target_size=(100, 100), \n",
    "#         batch_size = test_img_number,\n",
    "#         class_mode='binary') \n",
    "\n",
    "# # get all the data in the directory split/validation, and reshape them\n",
    "# val_generator_arg_100 = ImageDataGenerator(rescale=1./255).flow_from_directory(\n",
    "#         val_folder, \n",
    "#         target_size=(100, 100),\n",
    "#         batch_size = 10,\n",
    "#         class_mode='binary',\n",
    "#         shuffle = True)\n",
    "\n",
    "# # get all the data in the directory split/train , and reshape them\n",
    "# train_generator_arg_100 = train_datagen_arg_100.flow_from_directory(\n",
    "#         train_folder, target_size=(100, 100),\n",
    "#         batch_size = 64, class_mode='binary',\n",
    "#         shuffle = True)\n",
    "# test_images, test_labels = next(test_generator_arg_100)\n",
    "# test_y = np.reshape(test_labels[:,], (test_img_number,1))\n",
    "\n",
    "\n",
    "# model_name = \"Pre-trained Augmented CNN 100x100 frozen layer VGG16\"\n",
    "\n",
    "# base_model_cnn = MobileNetV2(weights='imagenet',\n",
    "#         include_top=False, \n",
    "#         input_shape=(100,100,3))\n",
    "        \n",
    "# # Freeze VGG layer\n",
    "# base_model_cnn.trainable = False\n",
    "\n",
    "# model_new9 = models.Sequential()\n",
    "# model_new9.add(base_model_cnn)\n",
    "# model_new9.add(layers.Flatten())\n",
    "# model_new9.add(layers.Dense(1000, activation=\"relu\", kernel_regularizer = l2(l2 = 0.01)))\n",
    "# model_new9.add(layers.Dropout(0.7))\n",
    "# model_new9.add(layers.Dense(1000, activation=\"relu\", kernel_regularizer = l2(l2 = 0.01)))\n",
    "# model_new9.add(layers.Dropout(0.7))\n",
    "# model_new9.add(layers.Dense(300, activation=\"relu\", kernel_regularizer = l2(l2 = 0.01)))\n",
    "# model_new9.add(layers.Dropout(0.6))\n",
    "# model_new9.add(layers.Dense(1,activation=\"sigmoid\"))\n",
    "# model_new9.compile(\n",
    "#     loss='binary_crossentropy',\n",
    "#     optimizer=\"adam\",\n",
    "#     metrics=['accuracy'])\n",
    "\n",
    "# start = time.time()\n",
    "# history__new9 = model_new9.fit_generator(train_generator_arg_100, \n",
    "#                                 steps_per_epoch=25, \n",
    "#                                 epochs=10, \n",
    "#                                 validation_data=val_generator_arg_100, \n",
    "#                                 validation_steps=25)\n",
    "# end = time.time()\n",
    "# train_time = round(end-start, 0)\n",
    "\n",
    "# results_df = make_results(results_df,image_size,train_time,model_name,history__new9, model_new9, test_images, test_y)\n",
    "# display(results_df)\n",
    "# plot_results(history__new9, model_new9, test_images, test_y)"
   ]
  },
  {
   "cell_type": "code",
   "execution_count": null,
   "id": "b672d956",
   "metadata": {},
   "outputs": [],
   "source": [
    "# MOBINET test shift range to 0.2 , vertical flip = true, shuffle = true,epoch = 8, 64/10 batches -  fuckedup "
   ]
  },
  {
   "cell_type": "code",
   "execution_count": null,
   "id": "dc15d161",
   "metadata": {},
   "outputs": [],
   "source": [
    "# MOBINET test shift range to 0.2 , vertical flip = true, shuffle = true,epoch = 10, 64/10 batches -  0.7997\t0.959 "
   ]
  },
  {
   "cell_type": "code",
   "execution_count": null,
   "id": "1024b094",
   "metadata": {},
   "outputs": [],
   "source": [
    "model_new6.evaluate(test_generator_arg_100)"
   ]
  },
  {
   "cell_type": "code",
   "execution_count": null,
   "id": "960b87a5",
   "metadata": {},
   "outputs": [],
   "source": []
  },
  {
   "cell_type": "code",
   "execution_count": null,
   "id": "28c2dd88",
   "metadata": {},
   "outputs": [],
   "source": [
    "train_datagen_arg_100 = ImageDataGenerator(rescale=1./255, \n",
    "                                   rotation_range=20, \n",
    "                                   width_shift_range=0.2, \n",
    "                                   height_shift_range=0.2, \n",
    "                                   shear_range=0.2, \n",
    "                                   vertical_flip=True)\n",
    "test_generator_arg_100 = ImageDataGenerator(rescale=1./255).flow_from_directory(\n",
    "        test_folder, \n",
    "        target_size=(224, 224), \n",
    "        batch_size = test_img_number,\n",
    "        class_mode='binary') \n",
    "\n",
    "# get all the data in the directory split/validation, and reshape them\n",
    "val_generator_arg_100 = ImageDataGenerator(rescale=1./255).flow_from_directory(\n",
    "        val_folder, \n",
    "        target_size=(224, 224),\n",
    "        batch_size = 10,\n",
    "        class_mode='binary',\n",
    "        shuffle = True)\n",
    "\n",
    "# get all the data in the directory split/train , and reshape them\n",
    "train_generator_arg_100 = train_datagen_arg_100.flow_from_directory(\n",
    "        train_folder, target_size=(224, 224),\n",
    "        batch_size = 64, class_mode='binary',\n",
    "        shuffle = True)\n",
    "test_images, test_labels = next(test_generator_arg_100)\n",
    "test_y = np.reshape(test_labels[:,], (test_img_number,1))\n",
    "\n",
    "\n",
    "model_name = \"Pre-trained Augmented CNN 224x224 frozen layer MobileNetV2\"\n",
    "\n",
    "base_model_cnn = MobileNetV2(weights='imagenet',\n",
    "        include_top=False, \n",
    "        input_shape=(224,224,3))\n",
    "        \n",
    "# Freeze VGG layer\n",
    "base_model_cnn.trainable = False\n",
    "\n",
    "model_new10 = models.Sequential()\n",
    "model_new10.add(base_model_cnn)\n",
    "model_new10.add(layers.Flatten())\n",
    "model_new10.add(layers.Dense(64, activation=\"relu\", kernel_regularizer = l2(l2 = 0.01)))\n",
    "model_new10.add(layers.Dropout(0.2))\n",
    "model_new10.add(layers.Dense(1,activation=\"sigmoid\"))\n",
    "model_new10.compile(\n",
    "    loss='binary_crossentropy',\n",
    "    optimizer=\"adam\",\n",
    "    metrics=['accuracy'])\n",
    "\n",
    "start = time.time()\n",
    "history__new10 = model_new10.fit_generator(train_generator_arg_100, \n",
    "                                steps_per_epoch=25, \n",
    "                                epochs=14, \n",
    "                                validation_data=val_generator_arg_100, \n",
    "                                validation_steps=25)\n",
    "end = time.time()\n",
    "train_time = round(end-start, 0)\n",
    "\n",
    "results_df = make_results(results_df,image_size,train_time,model_name,history__new10, model_new10, test_images, test_y)\n",
    "display(results_df)\n",
    "plot_results(history__new10, model_new10, test_images, test_y)\n",
    "savepath = \"./data/models/\"+model_name+\".h5\"\n",
    "model_new10.save(savepath)"
   ]
  },
  {
   "cell_type": "code",
   "execution_count": null,
   "id": "b31d09b1",
   "metadata": {},
   "outputs": [],
   "source": [
    "# epochs=14,"
   ]
  },
  {
   "cell_type": "code",
   "execution_count": null,
   "id": "5b6395b3",
   "metadata": {},
   "outputs": [],
   "source": []
  },
  {
   "cell_type": "code",
   "execution_count": null,
   "id": "88e099ed",
   "metadata": {},
   "outputs": [],
   "source": []
  },
  {
   "cell_type": "code",
   "execution_count": null,
   "id": "b004cfbf",
   "metadata": {},
   "outputs": [],
   "source": []
  },
  {
   "cell_type": "code",
   "execution_count": null,
   "id": "c8e25037",
   "metadata": {},
   "outputs": [],
   "source": []
  },
  {
   "cell_type": "code",
   "execution_count": null,
   "id": "e20a9a0e",
   "metadata": {},
   "outputs": [],
   "source": []
  },
  {
   "cell_type": "code",
   "execution_count": null,
   "id": "6822786d",
   "metadata": {},
   "outputs": [],
   "source": [
    "# Class weight \n",
    "# class_weight = {0: 2,\n",
    "#             1: 1}"
   ]
  },
  {
   "cell_type": "markdown",
   "id": "37420bf5",
   "metadata": {},
   "source": [
    "##### 12) Pre-trained Augmented CNN 200x200 frozen layer VGG16\n"
   ]
  },
  {
   "cell_type": "code",
   "execution_count": null,
   "id": "8b607dac",
   "metadata": {},
   "outputs": [],
   "source": [
    "image_size = (200,200)\n",
    "train_datagen_arg_100 = ImageDataGenerator(rescale=1./255, \n",
    "                                   rotation_range=20, \n",
    "                                   width_shift_range=0.2, \n",
    "                                   height_shift_range=0.2, \n",
    "                                   shear_range=0.2, \n",
    "                                   vertical_flip=True)\n",
    "test_generator_arg_100 = ImageDataGenerator(rescale=1./255).flow_from_directory(\n",
    "        test_folder, \n",
    "        target_size=image_size, \n",
    "        batch_size = test_img_number,\n",
    "        class_mode='binary') \n",
    "\n",
    "# get all the data in the directory split/validation, and reshape them\n",
    "val_generator_arg_100 = ImageDataGenerator(rescale=1./255).flow_from_directory(\n",
    "        val_folder, \n",
    "        target_size=image_size,\n",
    "        batch_size = 16,\n",
    "        class_mode='binary',\n",
    "        shuffle = True)\n",
    "\n",
    "# get all the data in the directory split/train , and reshape them\n",
    "train_generator_arg_100 = train_datagen_arg_100.flow_from_directory(\n",
    "        train_folder, target_size=image_size,\n",
    "        batch_size = 64, class_mode='binary',\n",
    "        shuffle = True)\n",
    "test_images, test_labels = next(test_generator_arg_100)\n",
    "test_y = np.reshape(test_labels[:,], (test_img_number,1))\n",
    "\n",
    "\n",
    "model_name = \"Pre-trained Augmented CNN 200x200 frozen layer VGG16\"\n",
    "\n",
    "base_model_cnn = VGG16(\n",
    "        weights='imagenet',\n",
    "        include_top=False, \n",
    "        input_shape=(200,200,3))\n",
    "# Freeze VGG layer\n",
    "base_model_cnn.trainable = False\n",
    "\n",
    "model_new6 = models.Sequential()\n",
    "model_new6.add(base_model_cnn)\n",
    "model_new6.add(layers.Flatten())\n",
    "model_new6.add(layers.Dense(64, activation=\"relu\", kernel_regularizer = l2(l2 = 0.01)))\n",
    "model_new6.add(layers.Dropout(0.2))\n",
    "model_new6.add(layers.Dense(1,activation=\"sigmoid\"))\n",
    "model_new6.compile(\n",
    "    loss='binary_crossentropy',\n",
    "    optimizer=\"adam\",\n",
    "    metrics=['accuracy'])\n",
    "\n",
    "\n",
    "start = time.time()\n",
    "history__new6 = model_new6.fit_generator(train_generator_arg_100, \n",
    "                                steps_per_epoch=25, \n",
    "                                epochs=10, \n",
    "                                validation_data=val_generator_arg_100, \n",
    "                                validation_steps=25)\n",
    "end = time.time()\n",
    "train_time = round(end-start, 0)\n",
    "\n",
    "results_df = make_results(results_df,image_size,train_time,model_name,history__new6, model_new6, test_images, test_y)\n",
    "display(results_df)\n",
    "plot_results(history__new6, model_new6, test_images, test_y)\n",
    "model_new6.save('data/models/model_new6.h5')\n",
    "savepath = \"./data/models/\"+model_name+\".h5\"\n",
    "model_new6.save(savepath)\n",
    "\n"
   ]
  },
  {
   "cell_type": "code",
   "execution_count": null,
   "id": "5b0b757e",
   "metadata": {},
   "outputs": [],
   "source": [
    "# 200x200 test shift range to 0.2 , vertical flip = true, shuffle = true,epoch = 10, 120/32 batches -"
   ]
  },
  {
   "cell_type": "code",
   "execution_count": null,
   "id": "48500e10",
   "metadata": {},
   "outputs": [],
   "source": [
    "# easy model - 64/16"
   ]
  },
  {
   "cell_type": "code",
   "execution_count": null,
   "id": "b5d31bf1",
   "metadata": {},
   "outputs": [],
   "source": [
    "# train_datagen_arg_100 = ImageDataGenerator(rescale=1./255, \n",
    "#                                    rotation_range=20, \n",
    "#                                    width_shift_range=0.2, \n",
    "#                                    height_shift_range=0.2, \n",
    "#                                    shear_range=0.2, \n",
    "#                                    vertical_flip=True)\n",
    "# test_generator_arg_100 = ImageDataGenerator(rescale=1./255).flow_from_directory(\n",
    "#         test_folder, \n",
    "#         target_size=(100, 100), \n",
    "#         batch_size = test_img_number,\n",
    "#         class_mode='binary') \n",
    "\n",
    "# # get all the data in the directory split/validation, and reshape them\n",
    "# val_generator_arg_100 = ImageDataGenerator(rescale=1./255).flow_from_directory(\n",
    "#         val_folder, \n",
    "#         target_size=(100, 100),\n",
    "#         batch_size = 32,\n",
    "#         class_mode='binary',\n",
    "#         shuffle = True)\n",
    "\n",
    "# # get all the data in the directory split/train , and reshape them\n",
    "# train_generator_arg_100 = train_datagen_arg_100.flow_from_directory(\n",
    "#         train_folder, target_size=(100, 100),\n",
    "#         batch_size = 64, class_mode='binary',\n",
    "#         shuffle = True)\n",
    "# test_images, test_labels = next(test_generator_arg_100)\n",
    "# test_y = np.reshape(test_labels[:,], (test_img_number,1))\n",
    "\n",
    "\n",
    "# model_name = \"2 Pre-trained Augmented CNN 100x100 frozen layer VGG16\"\n",
    "\n",
    "# base_model_cnn = VGG16(\n",
    "#         weights='imagenet',\n",
    "#         include_top=False, \n",
    "#         input_shape=(100,100,3))\n",
    "# # Freeze VGG layer\n",
    "# base_model_cnn.trainable = False\n",
    "\n",
    "# model_new6 = models.Sequential()\n",
    "# model_new6.add(base_model_cnn)\n",
    "# model_new6.add(layers.Flatten())\n",
    "# model_new6.add(layers.Dense(1000, activation=\"relu\", kernel_regularizer = l2(l2 = 0.01)))\n",
    "# model_new6.add(layers.Dropout(0.7))\n",
    "# model_new6.add(layers.Dense(1000, activation=\"relu\", kernel_regularizer = l2(l2 = 0.01)))\n",
    "# model_new6.add(layers.Dropout(0.7))\n",
    "# model_new6.add(layers.Dense(300, activation=\"relu\", kernel_regularizer = l2(l2 = 0.01)))\n",
    "# model_new6.add(layers.Dropout(0.6))\n",
    "# model_new6.add(layers.Dense(1,activation=\"sigmoid\"))\n",
    "# model_new6.compile(\n",
    "#     loss='binary_crossentropy',\n",
    "#     optimizer=\"adam\",\n",
    "#     metrics=['accuracy'])\n",
    "\n",
    "# start = time.time()\n",
    "# history__new6 = model_new6.fit_generator(train_generator_arg_100, \n",
    "#                                 steps_per_epoch=25, \n",
    "#                                 epochs=12, \n",
    "#                                 validation_data=val_generator_arg_100, \n",
    "#                                 validation_steps=25)\n",
    "# end = time.time()\n",
    "# train_time = round(end-start, 0)\n",
    "\n",
    "# results_df = make_results(results_df,image_size,train_time,model_name,history__new6, model_new6, test_images, test_y)\n",
    "# display(results_df)\n",
    "# plot_results(history__new6, model_new6, test_images, test_y)"
   ]
  },
  {
   "cell_type": "code",
   "execution_count": null,
   "id": "b798fc9d",
   "metadata": {},
   "outputs": [],
   "source": [
    "results_df"
   ]
  },
  {
   "cell_type": "markdown",
   "id": "bcd81452",
   "metadata": {},
   "source": [
    "##### Fine tuning\n",
    "`"
   ]
  },
  {
   "cell_type": "code",
   "execution_count": null,
   "id": "df2d9654",
   "metadata": {},
   "outputs": [],
   "source": [
    " \n",
    "# Define best model\n",
    "best_model = model_new6\n",
    "test_images_in_resolution = test_images\n",
    "test_images_labels = test_y\n",
    "predictions = best_model.predict(test_images_in_resolution)\n",
    "predictions_base = [1 if x > 0.5 else 0 for x in predictions]\n",
    "test_accuracy_base = round(accuracy_score(test_images_labels, predictions_base),4)\n",
    "test_recall_base = round(recall_score(test_images_labels, predictions_base),4)"
   ]
  },
  {
   "cell_type": "code",
   "execution_count": null,
   "id": "b4fd92fe",
   "metadata": {},
   "outputs": [],
   "source": []
  },
  {
   "cell_type": "code",
   "execution_count": null,
   "id": "990be318",
   "metadata": {},
   "outputs": [],
   "source": [
    "# Loop with changing prediction bondaries\n",
    "list_of_thresholds = list(np.linspace(0.2, 0.8, 13))\n",
    "list_of_options=[]\n",
    "for threshold in list_of_thresholds:\n",
    "    prediction_new = [1 if x > threshold else 0 for x in predictions]\n",
    "    test_accuracy = round(accuracy_score(test_images_labels, prediction_new),4)\n",
    "    test_recall = round(recall_score(test_images_labels, prediction_new),4)\n",
    "    list_of_options.append((threshold, test_accuracy, test_recall))\n",
    "    "
   ]
  },
  {
   "cell_type": "code",
   "execution_count": null,
   "id": "4a60472d",
   "metadata": {},
   "outputs": [],
   "source": [
    "# Base model predictions\n",
    "print(\"Optimization focusen on accuracy\")\n",
    "print(f\"Model accuracy {test_accuracy_base}. Model recall {test_recall_base}\")\n",
    "\n",
    "\n",
    "# Best prediction threshold for accuracy\n",
    "threshold_acc = sorted(list_of_options, key = lambda x: x[1], reverse = True)[0]\n",
    "print(\"Optimization focusen on accuracy\")\n",
    "print(f\"Model accuracy {threshold_acc[1]}. Model recall {threshold_acc[2]}\")\n",
    "\n",
    "\n",
    "# Best prediction threshold for recall\n",
    "threshold_recall = sorted(list_of_options, key = lambda x: x[2], reverse = True)[0]\n",
    "print(\"Optimization focusen on recall\")\n",
    "print(f\"Model accuracy {threshold_recall[1]}. Model recall {threshold_recall[2]}\")\n",
    "\n"
   ]
  },
  {
   "cell_type": "code",
   "execution_count": null,
   "id": "b804c6ef",
   "metadata": {},
   "outputs": [],
   "source": [
    "# Dubious cases removal\n",
    "lower_border = 0.5\n",
    "upper_border = 0.6\n",
    "new_list = zip (test_images_labels, predictions)\n",
    "new_predictions = [item for item in new_list if ((item[1] > upper_border) or (item[1] < lower_border))]\n",
    "new_test_set = [new_prediction[0] for new_prediction in new_predictions]\n",
    "new_predictions_after = [1 if x[1] > 0.5 else 0 for x in new_predictions]\n",
    "new_accuracy = round(accuracy_score(new_test_set, new_predictions_after),4)\n",
    "new_recall = round(recall_score(new_test_set, new_predictions_after),4)\n",
    "print(f\"Doubious cases investigation:\")\n",
    "print(f\"Doubious cases that were removed:{round((1-len(new_predictions)/len(predictions))*100,4)}%\")\n",
    "print(f\"Model accuracy after removal {new_accuracy}. Model recall after removal {new_recall}\")\n"
   ]
  },
  {
   "cell_type": "markdown",
   "id": "a3468e98",
   "metadata": {},
   "source": [
    "# Conclusion\n",
    "---\n",
    "Based on results our finall model will be: \n",
    "\n",
    "With the following parameters:\n",
    "\n",
    "Because of the following reasons: \n",
    "1) It satisfy requirements on recall.\n",
    "\n",
    "2) It has high accuracy. \n",
    "\n",
    "Further accuracy improvement might not be possible due to human factor(qualit of materials and bias based on it) \n",
    "\n",
    "Overall, this data tells us that current X-ray have enought information so we can be sure that each patient will be treated well. "
   ]
  }
 ],
 "metadata": {
  "kernelspec": {
   "display_name": "Python 3 (ipykernel)",
   "language": "python",
   "name": "python3"
  },
  "language_info": {
   "codemirror_mode": {
    "name": "ipython",
    "version": 3
   },
   "file_extension": ".py",
   "mimetype": "text/x-python",
   "name": "python",
   "nbconvert_exporter": "python",
   "pygments_lexer": "ipython3",
   "version": "3.8.12"
  }
 },
 "nbformat": 4,
 "nbformat_minor": 5
}

{
 "cells": [
  {
   "cell_type": "markdown",
   "id": "3959122b",
   "metadata": {},
   "source": [
    "# Vision Zero, Chicago, modeling car crashes with injuries."
   ]
  },
  {
   "cell_type": "markdown",
   "id": "52999b83",
   "metadata": {},
   "source": [
    "# Overview\n",
    "I was hired by a government agency CMAP (Chicago Metropolitan Agency for Planning) to create a model which predicts injuries during car crashes based on information collected by Chicago Police Department (CPD). I  concluded that there are many features that determine the oucome of car crash(overall 200 features, only 31 were used in our model), some of them: type of crash , day, season, time, type of crash, are there injuried people, phyesical imparement factors(drugs, alchogol, distraction etc), speed limit, weather, lightning and road conditions etc .\n",
    "\n",
    "To acheive my goal, I trained more than 100 models and tuned hyperparameters, model types that were used: \n",
    "- LogisticRegression\n",
    "- KNN\n",
    "- Naive Bayes(different type) \n",
    "- DecisionTree\n",
    "- Random Forest\n",
    "- ADA Boost\n",
    "- Gradient boost\n",
    "- XGB Classifier\n",
    "\n",
    "\n",
    "# Business Understanding\n",
    "Our stakeholder wants to understand what factors of crash influence on injury outcome as the last possible outcome. They perfectly understand that car crashes will be happening but they want to reduce the number of injuries because individual health prevails under public mobility. \n",
    "\n",
    "# Data\n",
    "\n",
    "1) Database Traffic Crashes - Crashes. Years: 2017 - now\n",
    "Provided by City of Chicago\n",
    "\n",
    "https://data.cityofchicago.org/Transportation/Traffic-Crashes-Crashes/85ca-t3if \n",
    "\n",
    "2) Database Traffic Crashes - People. Years: 2017 - now\n",
    "Provided by City of Chicago\n",
    "\n",
    "https://data.cityofchicago.org/Transportation/Traffic-Crashes-People/u6pd-qa9d\n",
    "\n",
    "3) Database Traffic Crashes - Vehicles. Years: 2017 - now\n",
    "Provided by City of Chicago  \n",
    "\n",
    "https://data.cityofchicago.org/Transportation/Traffic-Crashes-Vehicles/68nd-jvt3\n",
    "\n",
    "##### In my research I used data for 2021 year.\n",
    "\n",
    "# Metrics\n",
    "#### Our project will answer following question:\n",
    "What factors influence injuries?\n",
    "\n",
    "#### Hypothesis:\n",
    "H0 - car crashes with injuries are random\n",
    "\n",
    "HA - There is a significant dependancy between injuries and the features of dataset\n",
    "\n",
    "#### TP, TN, FP, FN definition\n",
    "TP - we predict car crash with injury and it actually happened.\n",
    "\n",
    "TN - we predicted that there is no injury and there was no injury,\n",
    "\n",
    "FP - We predicted injury but there was no injury in real life\n",
    "\n",
    "FN - We predicted that there will be no injury but it happened\n",
    "\n",
    "\n",
    "#### Metrics used  \n",
    "To compare models we will focus on 2 major metrics:\n",
    "\n",
    "Accuracy - how good we can predict TP and TN. General metrics that will show model performance.\n",
    "\n",
    "Recall - Health of people is our priority, we will be focused to minimize FN, so we can consider as much real car crashes with injuries in our model as possible, even if our model mark some car crashes with injuries but there will be no such. From the other side we need consider accuracy."
   ]
  },
  {
   "cell_type": "markdown",
   "id": "edcdcd20",
   "metadata": {},
   "source": [
    "\n",
    "# Data Understanding\n",
    "#### Sources of data:\n",
    "1) Database Traffic Crashes - Crashes. Years: 2017 - now\n",
    "Covers: Main characteristics of car crash.\n",
    "Provided by City of Chicago \n",
    "https://data.cityofchicago.org/Transportation/Traffic-Crashes-Crashes/85ca-t3if\n",
    "\n",
    "2) Database Traffic Crashes - People. Years: 2017 - now\n",
    "Covers: People/drivers involved in car crash.\n",
    "Provided by City of Chicago \n",
    "https://data.cityofchicago.org/Transportation/Traffic-Crashes-People/u6pd-qa9d\n",
    "\n",
    "3) Database Traffic Crashes - Vehicles. Years: 2017 - now\n",
    "Covers: Vehicles involved in car crash.\n",
    "Provided by City of Chicago \n",
    "https://data.cityofchicago.org/Transportation/Traffic-Crashes-Vehicles/68nd-jvt3\n",
    "\n",
    "#### Main dataset contains the following columns:\n"
   ]
  },
  {
   "cell_type": "markdown",
   "id": "24102ee3",
   "metadata": {},
   "source": [
    "# Data Cleaning\n",
    "### Importing required modules"
   ]
  },
  {
   "cell_type": "code",
   "execution_count": 1,
   "id": "4b0985f7",
   "metadata": {},
   "outputs": [],
   "source": [
    "# Work with data\n",
    "import pandas as pd\n",
    "import numpy as np\n",
    "from scipy import stats as stats\n",
    "\n",
    "# Visualizations\n",
    "import seaborn as sns\n",
    "import matplotlib.pyplot as plt\n",
    "\n",
    "#Modeling\n",
    "\n",
    "from sklearn.preprocessing import OneHotEncoder\n",
    "from sklearn.linear_model import LogisticRegression\n",
    "from sklearn.tree import DecisionTreeClassifier, plot_tree\n",
    "from sklearn.naive_bayes import MultinomialNB, ComplementNB, BernoulliNB, GaussianNB\n",
    "from sklearn.model_selection import GridSearchCV, cross_val_score, cross_validate, KFold, StratifiedKFold, train_test_split\n",
    "from sklearn.ensemble import RandomForestClassifier, GradientBoostingClassifier, AdaBoostClassifier\n",
    "from sklearn.metrics import ConfusionMatrixDisplay, confusion_matrix, classification_report, roc_curve, plot_roc_curve, roc_auc_score, accuracy_score, recall_score, f1_score\n",
    "from xgboost import XGBClassifier\n",
    "\n",
    "# Keras\n",
    "from keras.preprocessing.image import ImageDataGenerator, array_to_img, img_to_array, load_img\n",
    "from keras import models\n",
    "from keras import layers\n",
    "from keras.regularizers import l2\n",
    "\n",
    "#Other\n",
    "import pickle\n",
    "import time\n",
    "import gzip\n",
    "import os, shutil \n",
    "from zipfile import ZipFile\n",
    "import scipy\n",
    "from PIL import Image\n",
    "from scipy import ndimage\n",
    "\n",
    "\n",
    "from warnings import simplefilter\n",
    "from sklearn.exceptions import ConvergenceWarning, FitFailedWarning\n",
    "simplefilter(action='ignore', category= FutureWarning)\n",
    "simplefilter(action='ignore', category= ConvergenceWarning)\n",
    "simplefilter(action='ignore', category= FitFailedWarning)\n",
    "simplefilter(action='ignore', category= UserWarning)\n",
    "\n",
    "\n",
    "\n",
    "\n",
    "\n",
    "np.random.seed(123)\n",
    "\n",
    "  \n",
    "\n",
    "\n"
   ]
  },
  {
   "cell_type": "markdown",
   "id": "9508df54",
   "metadata": {},
   "source": [
    "### Data preparation"
   ]
  },
  {
   "cell_type": "markdown",
   "id": "6bc17371",
   "metadata": {},
   "source": [
    "Below we create three objects representing the existing directories: `data/normal/` as `data_normal_dir` and `data/pneumonia/` as `data_pneumonia_dir`, `data/test/normal/` as `test/normal` and `data/test/pneumonia/` as `test/pneumonia`. We will create a new directory `split/` as `new_dir`, where we will split the dataset in three groups (or three subdirectories): `train`, `test`, and `validation`, each containing `normal` and `pneumonia` subfolders. The final desired structure is represented below: \n",
    "\n",
    "![title](images/folder_structure.png)"
   ]
  },
  {
   "cell_type": "code",
   "execution_count": 2,
   "id": "91f4d4dd",
   "metadata": {},
   "outputs": [],
   "source": [
    "data_normal_dir = 'data/normal/'\n",
    "data_pneumonia_dir = 'data/pneumonia/'\n",
    "new_dir = 'data/split/'\n",
    "data_test_normal_dir = 'data/test/normal/'\n",
    "data_test_pneumonia_dir = 'data/test/pneumonia/'"
   ]
  },
  {
   "cell_type": "code",
   "execution_count": null,
   "id": "fb42fa46",
   "metadata": {},
   "outputs": [],
   "source": []
  },
  {
   "cell_type": "code",
   "execution_count": 3,
   "id": "05079c68",
   "metadata": {},
   "outputs": [],
   "source": [
    "# Train set\n",
    "imgs_normal = [file for file in os.listdir(data_normal_dir) if file.endswith('.jpeg')]\n",
    "imgs_pneumonia = [file for file in os.listdir(data_pneumonia_dir) if file.endswith('.jpeg')]\n",
    "# Test set\n",
    "imgs_normal_test = [file for file in os.listdir(data_test_normal_dir) if file.endswith('.jpeg')]\n",
    "imgs_pneumonia_test = [file for file in os.listdir(data_test_pneumonia_dir) if file.endswith('.jpeg')]"
   ]
  },
  {
   "cell_type": "code",
   "execution_count": 4,
   "id": "2aab53db",
   "metadata": {},
   "outputs": [
    {
     "data": {
      "text/plain": [
       "'NORMAL-2552119-0002.jpeg'"
      ]
     },
     "execution_count": 4,
     "metadata": {},
     "output_type": "execute_result"
    }
   ],
   "source": [
    "os.listdir(data_normal_dir)[0]"
   ]
  },
  {
   "cell_type": "code",
   "execution_count": 5,
   "id": "0b31b99f",
   "metadata": {},
   "outputs": [
    {
     "name": "stdout",
     "output_type": "stream",
     "text": [
      "Train set:\n",
      "There are 1349 normal images, image name example, NORMAL-2552119-0002.jpeg\n",
      "There are 4489 pneumonia images, image name example, BACTERIA-4038442-0001.jpeg\n",
      "Test set:\n",
      "There are 234 normal images, image name example, NORMAL-8698006-0001.jpeg\n",
      "There are 390 pneumonia images, image name example, VIRUS-2040583-0001.jpeg\n"
     ]
    }
   ],
   "source": [
    "print(\"Train set:\")\n",
    "print('There are', len(imgs_normal), 'normal images, image name example,',os.listdir(data_normal_dir)[0])\n",
    "print('There are', len(imgs_pneumonia), 'pneumonia images, image name example,',os.listdir(data_pneumonia_dir)[0])\n",
    "print(\"Test set:\")\n",
    "print('There are', len(imgs_normal_test), 'normal images, image name example,',os.listdir(data_test_normal_dir)[0])\n",
    "print('There are', len(imgs_pneumonia_test), 'pneumonia images, image name example,',os.listdir(data_test_pneumonia_dir)[0])\n"
   ]
  },
  {
   "cell_type": "markdown",
   "id": "e267b8b1",
   "metadata": {},
   "source": [
    "Make new split directory"
   ]
  },
  {
   "cell_type": "code",
   "execution_count": 6,
   "id": "81a613a9",
   "metadata": {},
   "outputs": [],
   "source": [
    "os.mkdir(new_dir)"
   ]
  },
  {
   "cell_type": "markdown",
   "id": "d8828063",
   "metadata": {},
   "source": [
    "Create new directories"
   ]
  },
  {
   "cell_type": "code",
   "execution_count": 7,
   "id": "78b73147",
   "metadata": {},
   "outputs": [],
   "source": [
    "# Define path\n",
    "train_folder = os.path.join(new_dir, 'train')\n",
    "train_normal = os.path.join(train_folder, 'normal')\n",
    "train_pneumonia = os.path.join(train_folder, 'pneumonia')\n",
    "\n",
    "test_folder = os.path.join(new_dir, 'test')\n",
    "test_normal = os.path.join(test_folder, 'normal')\n",
    "test_pneumonia = os.path.join(test_folder, 'pneumonia')\n",
    "\n",
    "val_folder = os.path.join(new_dir, 'validation')\n",
    "val_normal = os.path.join(val_folder, 'normal')\n",
    "val_pneumonia = os.path.join(val_folder, 'pneumonia')"
   ]
  },
  {
   "cell_type": "code",
   "execution_count": 8,
   "id": "176fb86e",
   "metadata": {},
   "outputs": [
    {
     "data": {
      "text/plain": [
       "'data/split/train/pneumonia'"
      ]
     },
     "execution_count": 8,
     "metadata": {},
     "output_type": "execute_result"
    }
   ],
   "source": [
    "# Check that path is ok\n",
    "train_pneumonia"
   ]
  },
  {
   "cell_type": "code",
   "execution_count": 9,
   "id": "599fdbcf",
   "metadata": {},
   "outputs": [],
   "source": [
    "# Create directories\n",
    "os.mkdir(test_folder)\n",
    "os.mkdir(test_normal)\n",
    "os.mkdir(test_pneumonia)\n",
    "\n",
    "os.mkdir(train_folder)\n",
    "os.mkdir(train_normal)\n",
    "os.mkdir(train_pneumonia)\n",
    "\n",
    "os.mkdir(val_folder)\n",
    "os.mkdir(val_normal)\n",
    "os.mkdir(val_pneumonia)"
   ]
  },
  {
   "cell_type": "markdown",
   "id": "7c001c9f",
   "metadata": {},
   "source": [
    "Copy images"
   ]
  },
  {
   "cell_type": "code",
   "execution_count": 10,
   "id": "cb04f087",
   "metadata": {},
   "outputs": [],
   "source": [
    "# Setting size of validation set\n",
    "val_set_norm = int(len(os.listdir(data_normal_dir))*0.15)\n",
    "val_set_pneumo = int(len(os.listdir(data_pneumonia_dir))*0.15)"
   ]
  },
  {
   "cell_type": "code",
   "execution_count": 11,
   "id": "cdba286a",
   "metadata": {},
   "outputs": [
    {
     "data": {
      "text/plain": [
       "673"
      ]
     },
     "execution_count": 11,
     "metadata": {},
     "output_type": "execute_result"
    }
   ],
   "source": [
    "val_set_pneumo"
   ]
  },
  {
   "cell_type": "code",
   "execution_count": 12,
   "id": "bd1b8685",
   "metadata": {},
   "outputs": [],
   "source": [
    "# train normal\n",
    "imgs_train_norm = imgs_normal[:len(os.listdir(data_normal_dir))-val_set_norm]\n",
    "for img in imgs_train_norm:\n",
    "    origin = os.path.join(data_normal_dir, img)\n",
    "    destination = os.path.join(train_normal, img)\n",
    "    shutil.copyfile(origin, destination)\n",
    "# train pneumonia\n",
    "imgs_train_pneumonia = imgs_pneumonia[:len(os.listdir(data_pneumonia_dir))-val_set_pneumo]\n",
    "for img in imgs_train_pneumonia:\n",
    "    origin = os.path.join(data_pneumonia_dir, img)\n",
    "    destination = os.path.join(train_pneumonia, img)\n",
    "    shutil.copyfile(origin, destination)\n"
   ]
  },
  {
   "cell_type": "code",
   "execution_count": 13,
   "id": "98fc649c",
   "metadata": {},
   "outputs": [
    {
     "data": {
      "text/plain": [
       "673"
      ]
     },
     "execution_count": 13,
     "metadata": {},
     "output_type": "execute_result"
    }
   ],
   "source": [
    "len(imgs_pneumonia[len(os.listdir(data_pneumonia_dir))-val_set_pneumo:])"
   ]
  },
  {
   "cell_type": "code",
   "execution_count": 14,
   "id": "ac52785c",
   "metadata": {},
   "outputs": [
    {
     "data": {
      "text/plain": [
       "3816"
      ]
     },
     "execution_count": 14,
     "metadata": {},
     "output_type": "execute_result"
    }
   ],
   "source": [
    "len(imgs_train_pneumonia)"
   ]
  },
  {
   "cell_type": "code",
   "execution_count": null,
   "id": "9d9f7c80",
   "metadata": {},
   "outputs": [],
   "source": []
  },
  {
   "cell_type": "code",
   "execution_count": 16,
   "id": "c8db317c",
   "metadata": {},
   "outputs": [],
   "source": [
    "# validation set\n",
    "imgs = imgs_normal[len(os.listdir(data_normal_dir))-val_set_norm:]\n",
    "for img in imgs:\n",
    "    origin = os.path.join(data_normal_dir, img)\n",
    "    destination = os.path.join(val_normal, img)\n",
    "    shutil.copyfile(origin, destination)\n",
    "\n",
    "imgs = imgs_pneumonia[len(os.listdir(data_pneumonia_dir))-val_set_pneumo:]\n",
    "for img in imgs:\n",
    "    origin = os.path.join(data_pneumonia_dir, img)\n",
    "    destination = os.path.join(val_pneumonia, img)\n",
    "    shutil.copyfile(origin, destination)"
   ]
  },
  {
   "cell_type": "code",
   "execution_count": 17,
   "id": "5be7a0bc",
   "metadata": {},
   "outputs": [],
   "source": [
    "# test normal\n",
    "imgs = imgs_normal_test\n",
    "for img in imgs:\n",
    "    origin = os.path.join(data_test_normal_dir, img)\n",
    "    destination = os.path.join(test_normal, img)\n",
    "    shutil.copyfile(origin, destination)\n",
    "# test pneumonia\n",
    "imgs = imgs_pneumonia_test\n",
    "for img in imgs:\n",
    "    origin = os.path.join(data_test_pneumonia_dir, img)\n",
    "    destination = os.path.join(test_pneumonia, img)\n",
    "    shutil.copyfile(origin, destination)   \n"
   ]
  },
  {
   "cell_type": "markdown",
   "id": "23927d63",
   "metadata": {},
   "source": [
    "Check the folders:"
   ]
  },
  {
   "cell_type": "code",
   "execution_count": 18,
   "id": "cd27dd76",
   "metadata": {},
   "outputs": [],
   "source": [
    "# Train images\n",
    "train_img_number = len(os.listdir(train_normal)) + len(os.listdir(train_pneumonia))\n",
    "# Validation images\n",
    "val_img_number = len(os.listdir(val_normal)) + len(os.listdir(val_pneumonia))\n",
    "# Test images\n",
    "test_img_number = len(os.listdir(test_normal)) + len(os.listdir(test_pneumonia))\n"
   ]
  },
  {
   "cell_type": "code",
   "execution_count": 19,
   "id": "07e6bd45",
   "metadata": {},
   "outputs": [
    {
     "name": "stdout",
     "output_type": "stream",
     "text": [
      "Training set: 4963 images\n",
      "There are 1147 normal images in the training set\n",
      "There are 3816 pneumonia images in the training set\n",
      "Validation set: 875 images\n",
      "There are 202 normal images in the validation set\n",
      "There are 673 pneumonia images in the validation set\n",
      "Test set: 624 images\n",
      "There are 234 normal images in the test set\n",
      "There are 390 pneumonia images in the test set\n"
     ]
    }
   ],
   "source": [
    "print('Training set:',train_img_number, \"images\" )\n",
    "print('There are', len(os.listdir(train_normal)), 'normal images in the training set')\n",
    "print('There are', len(os.listdir(train_pneumonia)), 'pneumonia images in the training set')\n",
    "print('Validation set:', val_img_number, \"images\" )\n",
    "print('There are', len(os.listdir(val_normal)), 'normal images in the validation set')\n",
    "print('There are', len(os.listdir(val_pneumonia)), 'pneumonia images in the validation set')\n",
    "print('Test set:', test_img_number, 'images')\n",
    "print('There are', len(os.listdir(test_normal)), 'normal images in the test set')\n",
    "print('There are', len(os.listdir(test_pneumonia)), 'pneumonia images in the test set')\n"
   ]
  },
  {
   "cell_type": "markdown",
   "id": "802f7c7f",
   "metadata": {},
   "source": [
    "### Setting up help functions:"
   ]
  },
  {
   "cell_type": "markdown",
   "id": "03922d12",
   "metadata": {},
   "source": [
    "##### Results visualization:"
   ]
  },
  {
   "cell_type": "code",
   "execution_count": null,
   "id": "1de85881",
   "metadata": {},
   "outputs": [],
   "source": []
  },
  {
   "cell_type": "code",
   "execution_count": 20,
   "id": "24e34177",
   "metadata": {},
   "outputs": [],
   "source": [
    "def visualize_training_results(results):\n",
    "    fig, (left, right) = plt.subplots(1,2, figsize = (16,6))\n",
    "    history = results.history\n",
    "    left.plot(history['val_loss'], label = \"val loss\")\n",
    "    left.plot(history['loss'], label = \"loss\")\n",
    "    left.set_title('Loss')\n",
    "    left.set_xlabel('Epochs')\n",
    "    left.set_ylabel('Loss')\n",
    "    left.legend()\n",
    "    \n",
    "    right.plot(history['val_accuracy'], label = \"val accuracy\")\n",
    "    right.plot(history['accuracy'], label = \"accuracy\")\n",
    "    right.set_title('Accuracy')\n",
    "    right.set_xlabel('Epochs')\n",
    "    right.set_ylabel('Accuracy')\n",
    "    right.legend()\n",
    "\n",
    "    plt.show()\n",
    "    \n",
    "    "
   ]
  },
  {
   "cell_type": "code",
   "execution_count": null,
   "id": "155cac12",
   "metadata": {},
   "outputs": [],
   "source": []
  },
  {
   "cell_type": "markdown",
   "id": "3f3b4516",
   "metadata": {},
   "source": [
    "### Use a densely connected network as a baseline"
   ]
  },
  {
   "cell_type": "code",
   "execution_count": 21,
   "id": "966152ab",
   "metadata": {},
   "outputs": [
    {
     "name": "stdout",
     "output_type": "stream",
     "text": [
      "Found 4963 images belonging to 2 classes.\n",
      "Found 875 images belonging to 2 classes.\n",
      "Found 624 images belonging to 2 classes.\n"
     ]
    }
   ],
   "source": [
    "# get all the data in the directory split/train, and reshape them\n",
    "train_generator = ImageDataGenerator(rescale=1./255).flow_from_directory(\n",
    "        train_folder, \n",
    "        target_size=(64, 64), batch_size= train_img_number)\n",
    "\n",
    "# get all the data in the directory split/validation, and reshape them\n",
    "val_generator = ImageDataGenerator(rescale=1./255).flow_from_directory(\n",
    "        val_folder, \n",
    "        target_size=(64, 64), batch_size = val_img_number)\n",
    "\n",
    "# get all the data in the directory split/test, and reshape them\n",
    "test_generator = ImageDataGenerator(rescale=1./255).flow_from_directory(\n",
    "        test_folder, \n",
    "        target_size=(64, 64), batch_size = test_img_number) \n",
    "\n",
    "\n",
    "\n"
   ]
  },
  {
   "cell_type": "code",
   "execution_count": 22,
   "id": "6a9eb2f0",
   "metadata": {},
   "outputs": [],
   "source": [
    "train_images, train_labels = next(train_generator)\n",
    "test_images, test_labels = next(test_generator)\n",
    "val_images, val_labels = next(val_generator)"
   ]
  },
  {
   "cell_type": "code",
   "execution_count": 23,
   "id": "062df8e7",
   "metadata": {},
   "outputs": [
    {
     "name": "stdout",
     "output_type": "stream",
     "text": [
      "Number of training samples: 4963\n",
      "Number of testing samples: 624\n",
      "Number of validation samples: 875\n",
      "train_images shape: (4963, 64, 64, 3)\n",
      "train_labels shape: (4963, 2)\n",
      "test_images shape: (624, 64, 64, 3)\n",
      "test_labels shape: (624, 2)\n",
      "val_images shape: (875, 64, 64, 3)\n",
      "val_labels shape: (875, 2)\n"
     ]
    }
   ],
   "source": [
    "# Explore dataset\n",
    "m_train = train_images.shape[0]\n",
    "num_px = train_images.shape[1]\n",
    "m_test = test_images.shape[0]\n",
    "m_val = val_images.shape[0]\n",
    "\n",
    "print (\"Number of training samples: \" + str(m_train))\n",
    "print (\"Number of testing samples: \" + str(m_test))\n",
    "print (\"Number of validation samples: \" + str(m_val))\n",
    "print (\"train_images shape: \" + str(train_images.shape))\n",
    "print (\"train_labels shape: \" + str(train_labels.shape))\n",
    "print (\"test_images shape: \" + str(test_images.shape))\n",
    "print (\"test_labels shape: \" + str(test_labels.shape))\n",
    "print (\"val_images shape: \" + str(val_images.shape))\n",
    "print (\"val_labels shape: \" + str(val_labels.shape))"
   ]
  },
  {
   "cell_type": "code",
   "execution_count": 24,
   "id": "d39b846a",
   "metadata": {},
   "outputs": [
    {
     "name": "stdout",
     "output_type": "stream",
     "text": [
      "(4963, 12288)\n",
      "(624, 12288)\n",
      "(875, 12288)\n"
     ]
    }
   ],
   "source": [
    "train_img = train_images.reshape(train_images.shape[0], -1)\n",
    "test_img = test_images.reshape(test_images.shape[0], -1)\n",
    "val_img = val_images.reshape(val_images.shape[0], -1)\n",
    "\n",
    "print(train_img.shape)\n",
    "print(test_img.shape)\n",
    "print(val_img.shape)"
   ]
  },
  {
   "cell_type": "code",
   "execution_count": 25,
   "id": "1e1703fb",
   "metadata": {},
   "outputs": [],
   "source": [
    "train_y = np.reshape(train_labels[:,0], (train_img_number,1))\n",
    "test_y = np.reshape(test_labels[:,0], (test_img_number,1))\n",
    "val_y = np.reshape(val_labels[:,0], (val_img_number,1))"
   ]
  },
  {
   "cell_type": "code",
   "execution_count": 26,
   "id": "0aeeff1d",
   "metadata": {},
   "outputs": [
    {
     "name": "stderr",
     "output_type": "stream",
     "text": [
      "2022-02-14 18:02:25.515535: I tensorflow/core/platform/cpu_feature_guard.cc:151] This TensorFlow binary is optimized with oneAPI Deep Neural Network Library (oneDNN) to use the following CPU instructions in performance-critical operations:  AVX2 AVX512F FMA\n",
      "To enable them in other operations, rebuild TensorFlow with the appropriate compiler flags.\n"
     ]
    }
   ],
   "source": [
    "\n",
    "np.random.seed(123)\n",
    "model = models.Sequential()\n",
    "model.add(layers.Dense(50, activation='relu', input_shape=(train_img.shape[1],))) # 2 hidden layers\n",
    "model.add(layers.Dense(25, activation='relu'))\n",
    "model.add(layers.Dense(10, activation='relu'))\n",
    "model.add(layers.Dense(1, activation='sigmoid'))\n"
   ]
  },
  {
   "cell_type": "code",
   "execution_count": 27,
   "id": "6efbc3cc",
   "metadata": {},
   "outputs": [
    {
     "name": "stdout",
     "output_type": "stream",
     "text": [
      "Epoch 1/20\n",
      "156/156 [==============================] - 1s 5ms/step - loss: 0.4373 - accuracy: 0.8046 - val_loss: 0.3366 - val_accuracy: 0.8331\n",
      "Epoch 2/20\n",
      "156/156 [==============================] - 1s 4ms/step - loss: 0.2979 - accuracy: 0.8767 - val_loss: 1.1041 - val_accuracy: 0.3874\n",
      "Epoch 3/20\n",
      "156/156 [==============================] - 1s 4ms/step - loss: 0.2423 - accuracy: 0.9021 - val_loss: 0.1898 - val_accuracy: 0.9280\n",
      "Epoch 4/20\n",
      "156/156 [==============================] - 1s 4ms/step - loss: 0.2117 - accuracy: 0.9170 - val_loss: 0.2655 - val_accuracy: 0.8891\n",
      "Epoch 5/20\n",
      "156/156 [==============================] - 1s 4ms/step - loss: 0.1772 - accuracy: 0.9283 - val_loss: 0.2290 - val_accuracy: 0.9097\n",
      "Epoch 6/20\n",
      "156/156 [==============================] - 1s 4ms/step - loss: 0.1538 - accuracy: 0.9385 - val_loss: 2.7614 - val_accuracy: 0.2366\n",
      "Epoch 7/20\n",
      "156/156 [==============================] - 1s 4ms/step - loss: 0.1667 - accuracy: 0.9385 - val_loss: 2.7428 - val_accuracy: 0.2423\n",
      "Epoch 8/20\n",
      "156/156 [==============================] - 1s 4ms/step - loss: 0.1620 - accuracy: 0.9412 - val_loss: 0.1701 - val_accuracy: 0.9371\n",
      "Epoch 9/20\n",
      "156/156 [==============================] - 1s 4ms/step - loss: 0.1463 - accuracy: 0.9414 - val_loss: 0.1376 - val_accuracy: 0.9440\n",
      "Epoch 10/20\n",
      "156/156 [==============================] - 1s 4ms/step - loss: 0.1402 - accuracy: 0.9478 - val_loss: 0.1670 - val_accuracy: 0.9394\n",
      "Epoch 11/20\n",
      "156/156 [==============================] - 1s 4ms/step - loss: 0.1316 - accuracy: 0.9504 - val_loss: 3.0167 - val_accuracy: 0.2411\n",
      "Epoch 12/20\n",
      "156/156 [==============================] - 1s 4ms/step - loss: 0.1550 - accuracy: 0.9428 - val_loss: 0.1483 - val_accuracy: 0.9440\n",
      "Epoch 13/20\n",
      "156/156 [==============================] - 1s 4ms/step - loss: 0.1378 - accuracy: 0.9502 - val_loss: 0.1378 - val_accuracy: 0.9463\n",
      "Epoch 14/20\n",
      "156/156 [==============================] - 1s 4ms/step - loss: 0.1299 - accuracy: 0.9502 - val_loss: 0.3286 - val_accuracy: 0.8914\n",
      "Epoch 15/20\n",
      "156/156 [==============================] - 1s 4ms/step - loss: 0.1139 - accuracy: 0.9583 - val_loss: 0.1401 - val_accuracy: 0.9440\n",
      "Epoch 16/20\n",
      "156/156 [==============================] - 1s 4ms/step - loss: 0.1192 - accuracy: 0.9535 - val_loss: 0.1344 - val_accuracy: 0.9451\n",
      "Epoch 17/20\n",
      "156/156 [==============================] - 1s 4ms/step - loss: 0.1091 - accuracy: 0.9581 - val_loss: 0.1343 - val_accuracy: 0.9486\n",
      "Epoch 18/20\n",
      "156/156 [==============================] - 1s 4ms/step - loss: 0.1200 - accuracy: 0.9561 - val_loss: 0.2144 - val_accuracy: 0.9177\n",
      "Epoch 19/20\n",
      "156/156 [==============================] - 1s 4ms/step - loss: 0.1166 - accuracy: 0.9545 - val_loss: 0.1304 - val_accuracy: 0.9531\n",
      "Epoch 20/20\n",
      "156/156 [==============================] - 1s 5ms/step - loss: 0.1074 - accuracy: 0.9589 - val_loss: 0.1284 - val_accuracy: 0.9520\n"
     ]
    }
   ],
   "source": [
    "model.compile(optimizer='sgd',\n",
    "              loss='binary_crossentropy',\n",
    "              metrics=['accuracy'])\n",
    "\n",
    "history_base = model.fit(train_img,\n",
    "                    train_y,\n",
    "                    epochs=20,\n",
    "                    batch_size=32,\n",
    "                    validation_data=(val_img, val_y))"
   ]
  },
  {
   "cell_type": "code",
   "execution_count": 28,
   "id": "cecd2773",
   "metadata": {},
   "outputs": [
    {
     "name": "stdout",
     "output_type": "stream",
     "text": [
      "156/156 [==============================] - 0s 2ms/step - loss: 0.0877 - accuracy: 0.9676\n"
     ]
    }
   ],
   "source": [
    "results_train = model.evaluate(train_img, train_y)"
   ]
  },
  {
   "cell_type": "code",
   "execution_count": 29,
   "id": "1cf1ccf0",
   "metadata": {},
   "outputs": [
    {
     "name": "stdout",
     "output_type": "stream",
     "text": [
      "20/20 [==============================] - 0s 2ms/step - loss: 0.5745 - accuracy: 0.8141\n"
     ]
    }
   ],
   "source": [
    "results_test = model.evaluate(test_img, test_y)"
   ]
  },
  {
   "cell_type": "code",
   "execution_count": 30,
   "id": "4dc97232",
   "metadata": {},
   "outputs": [
    {
     "data": {
      "image/png": "[encoded data removed]",
      "text/plain": [
       "<Figure size 1152x432 with 2 Axes>"
      ]
     },
     "metadata": {
      "needs_background": "light"
     },
     "output_type": "display_data"
    }
   ],
   "source": [
    "visualize_training_results(history_base)"
   ]
  },
  {
   "cell_type": "code",
   "execution_count": 31,
   "id": "41290c92",
   "metadata": {},
   "outputs": [
    {
     "name": "stdout",
     "output_type": "stream",
     "text": [
      "20/20 [==============================] - 0s 2ms/step - loss: 0.5745 - accuracy: 0.8141\n",
      "Test set results accuracy 0.8141025900840759\n"
     ]
    }
   ],
   "source": [
    "results_test = model.evaluate(test_img, test_y)\n",
    "print(f\"Test set results accuracy {results_test[1]}\")"
   ]
  },
  {
   "cell_type": "markdown",
   "id": "7ec3f54a",
   "metadata": {},
   "source": [
    "### Baseline + regulization"
   ]
  },
  {
   "cell_type": "markdown",
   "id": "6dfaf58e",
   "metadata": {},
   "source": [
    "We will use L2 regulization in each layer, to reduce overfitting.\n",
    "Will try different L2 coefficients to determine the best one"
   ]
  },
  {
   "cell_type": "code",
   "execution_count": 32,
   "id": "346d496f",
   "metadata": {},
   "outputs": [],
   "source": [
    "L2_list = [0.001, 0.01, 0.1, 1]"
   ]
  },
  {
   "cell_type": "code",
   "execution_count": 33,
   "id": "c137677e",
   "metadata": {},
   "outputs": [
    {
     "name": "stdout",
     "output_type": "stream",
     "text": [
      "20/20 [==============================] - 0s 3ms/step - loss: 2.2036 - accuracy: 0.4311\n",
      "20/20 [==============================] - 0s 3ms/step - loss: 2.5169 - accuracy: 0.6346\n",
      "20/20 [==============================] - 0s 2ms/step - loss: 1.3538 - accuracy: 0.6250\n",
      "20/20 [==============================] - 0s 2ms/step - loss: 0.7131 - accuracy: 0.6250\n"
     ]
    }
   ],
   "source": [
    "L2_fin = []\n",
    "for L2 in L2_list:\n",
    "    model2 = models.Sequential()\n",
    "    model2.add(layers.Dense(50, activation='relu', input_shape=(train_img.shape[1],), kernel_regularizer = l2(l2 = L2))) \n",
    "    model2.add(layers.Dense(25, activation='relu', kernel_regularizer = l2(l2 = L2)))\n",
    "    model2.add(layers.Dense(10, activation='relu', kernel_regularizer = l2(l2 = L2)))\n",
    "    model2.add(layers.Dense(1, activation='sigmoid'))\n",
    "    model2.compile(optimizer='sgd',\n",
    "              loss='binary_crossentropy',\n",
    "              metrics=['accuracy'])\n",
    "    history_model2 = model2.fit(train_img,\n",
    "                    train_y,\n",
    "                    epochs=20,\n",
    "                    batch_size=32,\n",
    "                    validation_data=(val_img, val_y),\n",
    "                    verbose = 0)\n",
    "    results_test = model2.evaluate(test_img, test_y)\n",
    "    L2_fin.append((L2, results_test[1]))\n",
    "        \n"
   ]
  },
  {
   "cell_type": "code",
   "execution_count": 34,
   "id": "a387a9c2",
   "metadata": {},
   "outputs": [
    {
     "name": "stdout",
     "output_type": "stream",
     "text": [
      "Best L2 regulization parameter: 0.01\n"
     ]
    }
   ],
   "source": [
    "L2_best = sorted(L2_fin, key = lambda x: x[1], reverse = True)[0][0]\n",
    "print(\"Best L2 regulization parameter:\", L2_best)"
   ]
  },
  {
   "cell_type": "code",
   "execution_count": 35,
   "id": "d4862c4c",
   "metadata": {},
   "outputs": [
    {
     "name": "stdout",
     "output_type": "stream",
     "text": [
      "Epoch 1/20\n",
      "156/156 [==============================] - 2s 8ms/step - loss: 1.8957 - accuracy: 0.7971 - val_loss: 1.6828 - val_accuracy: 0.8789\n",
      "Epoch 2/20\n",
      "156/156 [==============================] - 1s 7ms/step - loss: 1.6820 - accuracy: 0.8640 - val_loss: 2.7591 - val_accuracy: 0.2331\n",
      "Epoch 3/20\n",
      "156/156 [==============================] - 1s 7ms/step - loss: 1.5358 - accuracy: 0.8954 - val_loss: 1.5222 - val_accuracy: 0.8823\n",
      "Epoch 4/20\n",
      "156/156 [==============================] - 1s 8ms/step - loss: 1.4243 - accuracy: 0.9138 - val_loss: 3.8735 - val_accuracy: 0.2309\n",
      "Epoch 5/20\n",
      "156/156 [==============================] - 1s 7ms/step - loss: 1.4436 - accuracy: 0.8843 - val_loss: 2.2010 - val_accuracy: 0.7691\n",
      "Epoch 6/20\n",
      "156/156 [==============================] - 1s 7ms/step - loss: 1.2791 - accuracy: 0.9228 - val_loss: 1.2321 - val_accuracy: 0.9234\n",
      "Epoch 7/20\n",
      "156/156 [==============================] - 1s 7ms/step - loss: 1.2003 - accuracy: 0.9281 - val_loss: 1.4384 - val_accuracy: 0.7954\n",
      "Epoch 8/20\n",
      "156/156 [==============================] - 1s 7ms/step - loss: 1.1312 - accuracy: 0.9319 - val_loss: 2.0592 - val_accuracy: 0.5280\n",
      "Epoch 9/20\n",
      "156/156 [==============================] - 1s 8ms/step - loss: 1.0590 - accuracy: 0.9408 - val_loss: 1.1201 - val_accuracy: 0.9040\n",
      "Epoch 10/20\n",
      "156/156 [==============================] - 1s 7ms/step - loss: 1.0057 - accuracy: 0.9408 - val_loss: 1.8617 - val_accuracy: 0.7783\n",
      "Epoch 11/20\n",
      "156/156 [==============================] - 1s 7ms/step - loss: 0.9408 - accuracy: 0.9506 - val_loss: 0.9213 - val_accuracy: 0.9429\n",
      "Epoch 12/20\n",
      "156/156 [==============================] - 1s 7ms/step - loss: 0.9031 - accuracy: 0.9416 - val_loss: 0.8832 - val_accuracy: 0.9429\n",
      "Epoch 13/20\n",
      "156/156 [==============================] - 1s 7ms/step - loss: 0.8528 - accuracy: 0.9502 - val_loss: 0.8375 - val_accuracy: 0.9429\n",
      "Epoch 14/20\n",
      "156/156 [==============================] - 1s 8ms/step - loss: 0.8370 - accuracy: 0.9359 - val_loss: 0.8774 - val_accuracy: 0.9154\n",
      "Epoch 15/20\n",
      "156/156 [==============================] - 1s 7ms/step - loss: 0.7784 - accuracy: 0.9480 - val_loss: 0.9969 - val_accuracy: 0.8617\n",
      "Epoch 16/20\n",
      "156/156 [==============================] - 1s 8ms/step - loss: 0.7382 - accuracy: 0.9484 - val_loss: 0.7849 - val_accuracy: 0.9280\n",
      "Epoch 17/20\n",
      "156/156 [==============================] - 1s 7ms/step - loss: 0.6999 - accuracy: 0.9498 - val_loss: 0.6883 - val_accuracy: 0.9486\n",
      "Epoch 18/20\n",
      "156/156 [==============================] - 1s 7ms/step - loss: 0.6863 - accuracy: 0.9480 - val_loss: 0.6614 - val_accuracy: 0.9474\n",
      "Epoch 19/20\n",
      "156/156 [==============================] - 1s 8ms/step - loss: 0.6349 - accuracy: 0.9547 - val_loss: 0.6604 - val_accuracy: 0.9394\n",
      "Epoch 20/20\n",
      "156/156 [==============================] - 1s 8ms/step - loss: 0.6046 - accuracy: 0.9539 - val_loss: 1.0073 - val_accuracy: 0.8320\n"
     ]
    }
   ],
   "source": [
    "model2 = models.Sequential()\n",
    "model2.add(layers.Dense(50, activation='relu', input_shape=(train_img.shape[1],), kernel_regularizer = l2(l2 = L2_best)))\n",
    "model2.add(layers.Dense(25, activation='relu', kernel_regularizer = l2(l2 = L2_best)))\n",
    "model2.add(layers.Dense(10, activation='relu', kernel_regularizer = l2(l2 = L2_best)))\n",
    "model2.add(layers.Dense(1, activation='sigmoid'))\n",
    "model2.compile(optimizer='sgd',\n",
    "              loss='binary_crossentropy',\n",
    "              metrics=['accuracy'])\n",
    "history_model2 = model2.fit(train_img,\n",
    "                    train_y,\n",
    "                    epochs=20,\n",
    "                    batch_size=32,\n",
    "                    validation_data=(val_img, val_y),\n",
    "                    verbose = 1)\n"
   ]
  },
  {
   "cell_type": "code",
   "execution_count": 36,
   "id": "9d00789f",
   "metadata": {},
   "outputs": [
    {
     "name": "stdout",
     "output_type": "stream",
     "text": [
      "156/156 [==============================] - 1s 4ms/step - loss: 0.9871 - accuracy: 0.8287\n"
     ]
    }
   ],
   "source": [
    "results_train = model2.evaluate(train_img, train_y)"
   ]
  },
  {
   "cell_type": "code",
   "execution_count": 37,
   "id": "04af4115",
   "metadata": {},
   "outputs": [
    {
     "data": {
      "image/png": "[encoded data removed]",
      "text/plain": [
       "<Figure size 1152x432 with 2 Axes>"
      ]
     },
     "metadata": {
      "needs_background": "light"
     },
     "output_type": "display_data"
    }
   ],
   "source": [
    "visualize_training_results(history_model2)"
   ]
  },
  {
   "cell_type": "code",
   "execution_count": 38,
   "id": "c228656c",
   "metadata": {},
   "outputs": [
    {
     "name": "stdout",
     "output_type": "stream",
     "text": [
      "20/20 [==============================] - 0s 4ms/step - loss: 2.1565 - accuracy: 0.6554\n",
      "Test set results accuracy 0.6554487347602844\n"
     ]
    }
   ],
   "source": [
    "results_test = model2.evaluate(test_img, test_y)\n",
    "print(f\"Test set results accuracy {results_test[1]}\")"
   ]
  },
  {
   "cell_type": "code",
   "execution_count": null,
   "id": "eb7fdda0",
   "metadata": {},
   "outputs": [],
   "source": []
  },
  {
   "cell_type": "markdown",
   "id": "8ead1c0c",
   "metadata": {},
   "source": [
    "### Baseline + regulization + Dropout"
   ]
  },
  {
   "cell_type": "code",
   "execution_count": 39,
   "id": "2123e09e",
   "metadata": {},
   "outputs": [],
   "source": [
    "model3 = models.Sequential()\n",
    "model3.add(layers.Dense(50, activation='relu', input_shape=(train_img.shape[1],), kernel_regularizer = l2(l2 = L2_best)))\n",
    "model3.add(layers.Dense(25, activation='relu', kernel_regularizer = l2(l2 = L2_best)))\n",
    "model3.add(layers.Dropout(0.5))\n",
    "model3.add(layers.Dense(10, activation='relu', kernel_regularizer = l2(l2 = L2_best)))\n",
    "model3.add(layers.Dense(1, activation='sigmoid'))\n"
   ]
  },
  {
   "cell_type": "code",
   "execution_count": 40,
   "id": "bc12934f",
   "metadata": {},
   "outputs": [
    {
     "name": "stdout",
     "output_type": "stream",
     "text": [
      "Epoch 1/20\n",
      "156/156 [==============================] - 2s 9ms/step - loss: 1.9831 - accuracy: 0.7326 - val_loss: 1.9134 - val_accuracy: 0.8354\n",
      "Epoch 2/20\n",
      "156/156 [==============================] - 1s 8ms/step - loss: 1.7499 - accuracy: 0.8309 - val_loss: 1.5887 - val_accuracy: 0.8937\n",
      "Epoch 3/20\n",
      "156/156 [==============================] - 1s 8ms/step - loss: 1.5977 - accuracy: 0.8723 - val_loss: 1.5809 - val_accuracy: 0.8617\n",
      "Epoch 4/20\n",
      "156/156 [==============================] - 1s 8ms/step - loss: 1.4642 - accuracy: 0.9053 - val_loss: 1.5883 - val_accuracy: 0.8491\n",
      "Epoch 5/20\n",
      "156/156 [==============================] - 1s 8ms/step - loss: 1.3926 - accuracy: 0.9081 - val_loss: 1.4227 - val_accuracy: 0.8857\n",
      "Epoch 6/20\n",
      "156/156 [==============================] - 1s 8ms/step - loss: 1.2965 - accuracy: 0.9140 - val_loss: 1.9466 - val_accuracy: 0.5920\n",
      "Epoch 7/20\n",
      "156/156 [==============================] - 1s 8ms/step - loss: 1.2315 - accuracy: 0.9222 - val_loss: 1.1522 - val_accuracy: 0.9383\n",
      "Epoch 8/20\n",
      "156/156 [==============================] - 1s 8ms/step - loss: 1.1636 - accuracy: 0.9277 - val_loss: 1.0925 - val_accuracy: 0.9394\n",
      "Epoch 9/20\n",
      "156/156 [==============================] - 1s 8ms/step - loss: 1.0874 - accuracy: 0.9349 - val_loss: 1.5165 - val_accuracy: 0.7189\n",
      "Epoch 10/20\n",
      "156/156 [==============================] - 1s 8ms/step - loss: 1.0481 - accuracy: 0.9295 - val_loss: 1.1366 - val_accuracy: 0.8606\n",
      "Epoch 11/20\n",
      "156/156 [==============================] - 1s 8ms/step - loss: 0.9907 - accuracy: 0.9335 - val_loss: 1.1807 - val_accuracy: 0.8091\n",
      "Epoch 12/20\n",
      "156/156 [==============================] - 1s 7ms/step - loss: 0.9287 - accuracy: 0.9420 - val_loss: 0.9564 - val_accuracy: 0.9246\n",
      "Epoch 13/20\n",
      "156/156 [==============================] - 1s 8ms/step - loss: 0.8875 - accuracy: 0.9410 - val_loss: 0.8597 - val_accuracy: 0.9406\n",
      "Epoch 14/20\n",
      "156/156 [==============================] - 1s 7ms/step - loss: 0.8429 - accuracy: 0.9428 - val_loss: 0.8036 - val_accuracy: 0.9463\n",
      "Epoch 15/20\n",
      "156/156 [==============================] - 1s 7ms/step - loss: 0.8024 - accuracy: 0.9434 - val_loss: 3.3391 - val_accuracy: 0.2320\n",
      "Epoch 16/20\n",
      "156/156 [==============================] - 1s 7ms/step - loss: 0.8189 - accuracy: 0.9283 - val_loss: 0.7389 - val_accuracy: 0.9417\n",
      "Epoch 17/20\n",
      "156/156 [==============================] - 1s 8ms/step - loss: 0.7606 - accuracy: 0.9339 - val_loss: 0.7152 - val_accuracy: 0.9406\n",
      "Epoch 18/20\n",
      "156/156 [==============================] - 1s 7ms/step - loss: 0.7233 - accuracy: 0.9389 - val_loss: 0.6836 - val_accuracy: 0.9429\n",
      "Epoch 19/20\n",
      "156/156 [==============================] - 1s 7ms/step - loss: 0.6689 - accuracy: 0.9470 - val_loss: 0.6595 - val_accuracy: 0.9429\n",
      "Epoch 20/20\n",
      "156/156 [==============================] - 1s 7ms/step - loss: 0.6575 - accuracy: 0.9404 - val_loss: 0.6203 - val_accuracy: 0.9406\n"
     ]
    }
   ],
   "source": [
    "model3.compile(optimizer='sgd',\n",
    "              loss='binary_crossentropy',\n",
    "              metrics=['accuracy'])\n",
    "\n",
    "history_model3 = model3.fit(train_img,\n",
    "                    train_y,\n",
    "                    epochs=20,\n",
    "                    batch_size=32,\n",
    "                    validation_data=(val_img, val_y))"
   ]
  },
  {
   "cell_type": "code",
   "execution_count": 41,
   "id": "e5b04fc1",
   "metadata": {},
   "outputs": [
    {
     "name": "stdout",
     "output_type": "stream",
     "text": [
      "156/156 [==============================] - 1s 3ms/step - loss: 0.5880 - accuracy: 0.9621\n"
     ]
    }
   ],
   "source": [
    "results_train3 = model3.evaluate(train_img, train_y)"
   ]
  },
  {
   "cell_type": "code",
   "execution_count": 42,
   "id": "a4e43a7e",
   "metadata": {},
   "outputs": [
    {
     "name": "stdout",
     "output_type": "stream",
     "text": [
      "20/20 [==============================] - 0s 3ms/step - loss: 0.8936 - accuracy: 0.8622\n",
      "Test set results accuracy 0.8621794581413269\n"
     ]
    }
   ],
   "source": [
    "results_test3 = model3.evaluate(test_img, test_y)\n",
    "print(f\"Test set results accuracy {results_test3[1]}\")"
   ]
  },
  {
   "cell_type": "code",
   "execution_count": 43,
   "id": "f5a729d5",
   "metadata": {},
   "outputs": [
    {
     "data": {
      "image/png": "[encoded data removed]",
      "text/plain": [
       "<Figure size 1152x432 with 2 Axes>"
      ]
     },
     "metadata": {
      "needs_background": "light"
     },
     "output_type": "display_data"
    }
   ],
   "source": [
    "visualize_training_results(history_model3)"
   ]
  },
  {
   "cell_type": "markdown",
   "id": "81b7be60",
   "metadata": {},
   "source": [
    "### Baseline + regulization + Dropout + Adam optimizer"
   ]
  },
  {
   "cell_type": "code",
   "execution_count": 44,
   "id": "3b2378ff",
   "metadata": {},
   "outputs": [],
   "source": [
    "model4 = models.Sequential()\n",
    "model4.add(layers.Dense(50, activation='relu', input_shape=(train_img.shape[1],), kernel_regularizer = l2(l2 = L2_best)))\n",
    "model4.add(layers.Dense(25, activation='relu', kernel_regularizer = l2(l2 = L2_best)))\n",
    "model4.add(layers.Dropout(0.5))\n",
    "model4.add(layers.Dense(10, activation='relu', kernel_regularizer = l2(l2 = L2_best)))\n",
    "model4.add(layers.Dense(1, activation='sigmoid'))"
   ]
  },
  {
   "cell_type": "code",
   "execution_count": 45,
   "id": "15e37b2f",
   "metadata": {},
   "outputs": [
    {
     "name": "stdout",
     "output_type": "stream",
     "text": [
      "Epoch 1/20\n",
      "156/156 [==============================] - 2s 8ms/step - loss: 1.0910 - accuracy: 0.7860 - val_loss: 0.6053 - val_accuracy: 0.8469\n",
      "Epoch 2/20\n",
      "156/156 [==============================] - 1s 9ms/step - loss: 0.5252 - accuracy: 0.8894 - val_loss: 0.3949 - val_accuracy: 0.9394\n",
      "Epoch 3/20\n",
      "156/156 [==============================] - 1s 9ms/step - loss: 0.4057 - accuracy: 0.9228 - val_loss: 0.3787 - val_accuracy: 0.9177\n",
      "Epoch 4/20\n",
      "156/156 [==============================] - 2s 10ms/step - loss: 0.3794 - accuracy: 0.9206 - val_loss: 0.3032 - val_accuracy: 0.9383\n",
      "Epoch 5/20\n",
      "156/156 [==============================] - 1s 9ms/step - loss: 0.3417 - accuracy: 0.9285 - val_loss: 0.2763 - val_accuracy: 0.9406\n",
      "Epoch 6/20\n",
      "156/156 [==============================] - 1s 8ms/step - loss: 0.3380 - accuracy: 0.9321 - val_loss: 0.2781 - val_accuracy: 0.9451\n",
      "Epoch 7/20\n",
      "156/156 [==============================] - 1s 9ms/step - loss: 0.3187 - accuracy: 0.9335 - val_loss: 0.2661 - val_accuracy: 0.9383\n",
      "Epoch 8/20\n",
      "156/156 [==============================] - 1s 8ms/step - loss: 0.3226 - accuracy: 0.9236 - val_loss: 0.3032 - val_accuracy: 0.9280\n",
      "Epoch 9/20\n",
      "156/156 [==============================] - 1s 9ms/step - loss: 0.3030 - accuracy: 0.9305 - val_loss: 0.2455 - val_accuracy: 0.9406\n",
      "Epoch 10/20\n",
      "156/156 [==============================] - 1s 9ms/step - loss: 0.2806 - accuracy: 0.9410 - val_loss: 0.3116 - val_accuracy: 0.9166\n",
      "Epoch 11/20\n",
      "156/156 [==============================] - 1s 9ms/step - loss: 0.2629 - accuracy: 0.9444 - val_loss: 0.2782 - val_accuracy: 0.9291\n",
      "Epoch 12/20\n",
      "156/156 [==============================] - 1s 8ms/step - loss: 0.2599 - accuracy: 0.9420 - val_loss: 0.3460 - val_accuracy: 0.9074\n",
      "Epoch 13/20\n",
      "156/156 [==============================] - 1s 9ms/step - loss: 0.2649 - accuracy: 0.9404 - val_loss: 0.2899 - val_accuracy: 0.9189\n",
      "Epoch 14/20\n",
      "156/156 [==============================] - 1s 8ms/step - loss: 0.2630 - accuracy: 0.9337 - val_loss: 0.2342 - val_accuracy: 0.9463\n",
      "Epoch 15/20\n",
      "156/156 [==============================] - 1s 8ms/step - loss: 0.2340 - accuracy: 0.9502 - val_loss: 0.2208 - val_accuracy: 0.9474\n",
      "Epoch 16/20\n",
      "156/156 [==============================] - 1s 9ms/step - loss: 0.2786 - accuracy: 0.9281 - val_loss: 0.2771 - val_accuracy: 0.9280\n",
      "Epoch 17/20\n",
      "156/156 [==============================] - 1s 9ms/step - loss: 0.2412 - accuracy: 0.9456 - val_loss: 0.2173 - val_accuracy: 0.9463\n",
      "Epoch 18/20\n",
      "156/156 [==============================] - 1s 9ms/step - loss: 0.2487 - accuracy: 0.9430 - val_loss: 0.3592 - val_accuracy: 0.9017\n",
      "Epoch 19/20\n",
      "156/156 [==============================] - 1s 8ms/step - loss: 0.2565 - accuracy: 0.9361 - val_loss: 0.2479 - val_accuracy: 0.9406\n",
      "Epoch 20/20\n",
      "156/156 [==============================] - 1s 8ms/step - loss: 0.2479 - accuracy: 0.9371 - val_loss: 0.2779 - val_accuracy: 0.9269\n"
     ]
    }
   ],
   "source": [
    "model4.compile(optimizer='adam',\n",
    "              loss='binary_crossentropy',\n",
    "              metrics=['accuracy'])\n",
    "\n",
    "history_model4 = model4.fit(train_img,\n",
    "                    train_y,\n",
    "                    epochs=20,\n",
    "                    batch_size=32,\n",
    "                    validation_data=(val_img, val_y))"
   ]
  },
  {
   "cell_type": "code",
   "execution_count": 46,
   "id": "477553b7",
   "metadata": {},
   "outputs": [
    {
     "name": "stdout",
     "output_type": "stream",
     "text": [
      "156/156 [==============================] - 1s 3ms/step - loss: 0.2424 - accuracy: 0.9369\n"
     ]
    }
   ],
   "source": [
    "results_train4 = model4.evaluate(train_img, train_y)"
   ]
  },
  {
   "cell_type": "code",
   "execution_count": 47,
   "id": "bfe35904",
   "metadata": {},
   "outputs": [
    {
     "data": {
      "image/png": "[encoded data removed]",
      "text/plain": [
       "<Figure size 1152x432 with 2 Axes>"
      ]
     },
     "metadata": {
      "needs_background": "light"
     },
     "output_type": "display_data"
    }
   ],
   "source": [
    "visualize_training_results(history_model4)"
   ]
  },
  {
   "cell_type": "code",
   "execution_count": 48,
   "id": "5ee33d10",
   "metadata": {},
   "outputs": [
    {
     "name": "stdout",
     "output_type": "stream",
     "text": [
      "20/20 [==============================] - 0s 3ms/step - loss: 0.8767 - accuracy: 0.7516\n",
      "Test set results accuracy 0.7516025900840759\n"
     ]
    }
   ],
   "source": [
    "results_test4 = model4.evaluate(test_img, test_y)\n",
    "print(f\"Test set results accuracy {results_test4[1]}\")"
   ]
  },
  {
   "cell_type": "markdown",
   "id": "17f1b81b",
   "metadata": {},
   "source": [
    "### Baseline + regulization + Dropout + Adam optimizer + increased train time"
   ]
  },
  {
   "cell_type": "code",
   "execution_count": 49,
   "id": "88299e34",
   "metadata": {},
   "outputs": [],
   "source": [
    "model5 = models.Sequential()\n",
    "model5.add(layers.Dense(50, activation='relu', input_shape=(train_img.shape[1],), kernel_regularizer = l2(l2 = L2_best)))\n",
    "model5.add(layers.Dense(25, activation='relu', kernel_regularizer = l2(l2 = L2_best)))\n",
    "model5.add(layers.Dropout(0.5))\n",
    "model5.add(layers.Dense(10, activation='relu', kernel_regularizer = l2(l2 = L2_best)))\n",
    "model5.add(layers.Dense(1, activation='sigmoid'))"
   ]
  },
  {
   "cell_type": "code",
   "execution_count": 50,
   "id": "e8b8383d",
   "metadata": {},
   "outputs": [
    {
     "name": "stdout",
     "output_type": "stream",
     "text": [
      "Epoch 1/50\n",
      "100/100 [==============================] - 2s 12ms/step - loss: 1.2742 - accuracy: 0.7759 - val_loss: 0.7907 - val_accuracy: 0.9166\n",
      "Epoch 2/50\n",
      "100/100 [==============================] - 1s 10ms/step - loss: 0.6356 - accuracy: 0.8584 - val_loss: 0.4821 - val_accuracy: 0.9360\n",
      "Epoch 3/50\n",
      "100/100 [==============================] - 1s 10ms/step - loss: 0.5241 - accuracy: 0.8819 - val_loss: 0.4222 - val_accuracy: 0.9280\n",
      "Epoch 4/50\n",
      "100/100 [==============================] - 1s 10ms/step - loss: 0.3921 - accuracy: 0.9315 - val_loss: 0.3889 - val_accuracy: 0.9234\n",
      "Epoch 5/50\n",
      "100/100 [==============================] - 1s 9ms/step - loss: 0.3559 - accuracy: 0.9361 - val_loss: 0.3299 - val_accuracy: 0.9383\n",
      "Epoch 6/50\n",
      "100/100 [==============================] - 1s 9ms/step - loss: 0.3465 - accuracy: 0.9313 - val_loss: 0.2955 - val_accuracy: 0.9429\n",
      "Epoch 7/50\n",
      "100/100 [==============================] - 1s 9ms/step - loss: 0.3476 - accuracy: 0.9263 - val_loss: 0.3549 - val_accuracy: 0.9177\n",
      "Epoch 8/50\n",
      "100/100 [==============================] - 1s 10ms/step - loss: 0.3026 - accuracy: 0.9408 - val_loss: 0.4435 - val_accuracy: 0.8949\n",
      "Epoch 9/50\n",
      "100/100 [==============================] - 1s 10ms/step - loss: 0.3039 - accuracy: 0.9357 - val_loss: 0.4249 - val_accuracy: 0.9029\n",
      "Epoch 10/50\n",
      "100/100 [==============================] - 1s 10ms/step - loss: 0.3051 - accuracy: 0.9321 - val_loss: 0.3137 - val_accuracy: 0.9257\n",
      "Epoch 11/50\n",
      "100/100 [==============================] - 1s 10ms/step - loss: 0.2681 - accuracy: 0.9442 - val_loss: 0.2487 - val_accuracy: 0.9509\n",
      "Epoch 12/50\n",
      "100/100 [==============================] - 1s 10ms/step - loss: 0.2795 - accuracy: 0.9367 - val_loss: 0.2575 - val_accuracy: 0.9383\n",
      "Epoch 13/50\n",
      "100/100 [==============================] - 1s 10ms/step - loss: 0.2559 - accuracy: 0.9466 - val_loss: 0.2815 - val_accuracy: 0.9360\n",
      "Epoch 14/50\n",
      "100/100 [==============================] - 1s 10ms/step - loss: 0.2658 - accuracy: 0.9422 - val_loss: 0.2378 - val_accuracy: 0.9440\n",
      "Epoch 15/50\n",
      "100/100 [==============================] - 1s 11ms/step - loss: 0.2714 - accuracy: 0.9394 - val_loss: 0.2284 - val_accuracy: 0.9474\n",
      "Epoch 16/50\n",
      "100/100 [==============================] - 1s 11ms/step - loss: 0.2331 - accuracy: 0.9476 - val_loss: 0.2333 - val_accuracy: 0.9417\n",
      "Epoch 17/50\n",
      "100/100 [==============================] - 1s 10ms/step - loss: 0.2315 - accuracy: 0.9508 - val_loss: 0.2916 - val_accuracy: 0.9234\n",
      "Epoch 18/50\n",
      "100/100 [==============================] - 1s 9ms/step - loss: 0.2491 - accuracy: 0.9410 - val_loss: 0.4208 - val_accuracy: 0.8411\n",
      "Epoch 19/50\n",
      "100/100 [==============================] - 1s 9ms/step - loss: 0.2143 - accuracy: 0.9549 - val_loss: 0.2265 - val_accuracy: 0.9451\n",
      "Epoch 20/50\n",
      "100/100 [==============================] - 1s 9ms/step - loss: 0.2136 - accuracy: 0.9514 - val_loss: 0.2428 - val_accuracy: 0.9451\n",
      "Epoch 21/50\n",
      "100/100 [==============================] - 1s 9ms/step - loss: 0.2149 - accuracy: 0.9518 - val_loss: 0.2266 - val_accuracy: 0.9440\n",
      "Epoch 22/50\n",
      "100/100 [==============================] - 1s 10ms/step - loss: 0.2220 - accuracy: 0.9498 - val_loss: 0.2469 - val_accuracy: 0.9417\n",
      "Epoch 23/50\n",
      "100/100 [==============================] - 1s 10ms/step - loss: 0.2039 - accuracy: 0.9541 - val_loss: 0.2275 - val_accuracy: 0.9429\n",
      "Epoch 24/50\n",
      "100/100 [==============================] - 1s 10ms/step - loss: 0.2286 - accuracy: 0.9430 - val_loss: 0.2354 - val_accuracy: 0.9383\n",
      "Epoch 25/50\n",
      "100/100 [==============================] - 1s 10ms/step - loss: 0.2177 - accuracy: 0.9502 - val_loss: 0.2164 - val_accuracy: 0.9440\n",
      "Epoch 26/50\n",
      "100/100 [==============================] - 1s 9ms/step - loss: 0.1943 - accuracy: 0.9577 - val_loss: 0.2230 - val_accuracy: 0.9463\n",
      "Epoch 27/50\n",
      "100/100 [==============================] - 1s 10ms/step - loss: 0.2175 - accuracy: 0.9468 - val_loss: 0.2705 - val_accuracy: 0.9257\n",
      "Epoch 28/50\n",
      "100/100 [==============================] - 1s 9ms/step - loss: 0.2008 - accuracy: 0.9549 - val_loss: 0.2839 - val_accuracy: 0.9143\n",
      "Epoch 29/50\n",
      "100/100 [==============================] - 1s 9ms/step - loss: 0.2183 - accuracy: 0.9450 - val_loss: 0.2399 - val_accuracy: 0.9406\n",
      "Epoch 30/50\n",
      "100/100 [==============================] - 1s 9ms/step - loss: 0.2047 - accuracy: 0.9494 - val_loss: 0.2010 - val_accuracy: 0.9451\n",
      "Epoch 31/50\n",
      "100/100 [==============================] - 1s 9ms/step - loss: 0.2200 - accuracy: 0.9462 - val_loss: 0.2057 - val_accuracy: 0.9451\n",
      "Epoch 32/50\n",
      "100/100 [==============================] - 1s 9ms/step - loss: 0.2134 - accuracy: 0.9502 - val_loss: 0.2046 - val_accuracy: 0.9440\n",
      "Epoch 33/50\n",
      "100/100 [==============================] - 1s 9ms/step - loss: 0.2095 - accuracy: 0.9502 - val_loss: 0.1961 - val_accuracy: 0.9486\n",
      "Epoch 34/50\n",
      "100/100 [==============================] - 1s 9ms/step - loss: 0.1874 - accuracy: 0.9601 - val_loss: 0.2301 - val_accuracy: 0.9440\n",
      "Epoch 35/50\n",
      "100/100 [==============================] - 1s 9ms/step - loss: 0.1809 - accuracy: 0.9613 - val_loss: 0.2147 - val_accuracy: 0.9451\n",
      "Epoch 36/50\n",
      "100/100 [==============================] - 1s 10ms/step - loss: 0.1897 - accuracy: 0.9551 - val_loss: 0.2288 - val_accuracy: 0.9394\n",
      "Epoch 37/50\n",
      "100/100 [==============================] - 1s 9ms/step - loss: 0.2103 - accuracy: 0.9476 - val_loss: 0.2050 - val_accuracy: 0.9463\n",
      "Epoch 38/50\n",
      "100/100 [==============================] - 1s 9ms/step - loss: 0.1907 - accuracy: 0.9557 - val_loss: 0.1970 - val_accuracy: 0.9509\n",
      "Epoch 39/50\n",
      "100/100 [==============================] - 1s 9ms/step - loss: 0.2032 - accuracy: 0.9563 - val_loss: 0.2869 - val_accuracy: 0.9040\n",
      "Epoch 40/50\n",
      "100/100 [==============================] - 1s 9ms/step - loss: 0.2234 - accuracy: 0.9462 - val_loss: 0.2107 - val_accuracy: 0.9463\n",
      "Epoch 41/50\n",
      "100/100 [==============================] - 1s 9ms/step - loss: 0.1944 - accuracy: 0.9549 - val_loss: 0.1921 - val_accuracy: 0.9509\n",
      "Epoch 42/50\n",
      "100/100 [==============================] - 1s 9ms/step - loss: 0.1890 - accuracy: 0.9549 - val_loss: 0.2084 - val_accuracy: 0.9509\n",
      "Epoch 43/50\n",
      "100/100 [==============================] - 1s 9ms/step - loss: 0.2214 - accuracy: 0.9462 - val_loss: 0.2536 - val_accuracy: 0.9280\n",
      "Epoch 44/50\n",
      "100/100 [==============================] - 1s 9ms/step - loss: 0.1885 - accuracy: 0.9543 - val_loss: 0.2787 - val_accuracy: 0.9131\n",
      "Epoch 45/50\n",
      "100/100 [==============================] - 1s 9ms/step - loss: 0.2087 - accuracy: 0.9468 - val_loss: 0.2536 - val_accuracy: 0.9269\n",
      "Epoch 46/50\n",
      "100/100 [==============================] - 1s 9ms/step - loss: 0.1934 - accuracy: 0.9549 - val_loss: 0.2413 - val_accuracy: 0.9337\n",
      "Epoch 47/50\n",
      "100/100 [==============================] - 1s 9ms/step - loss: 0.2260 - accuracy: 0.9412 - val_loss: 0.2030 - val_accuracy: 0.9463\n",
      "Epoch 48/50\n",
      "100/100 [==============================] - 1s 9ms/step - loss: 0.1960 - accuracy: 0.9541 - val_loss: 0.2962 - val_accuracy: 0.9006\n",
      "Epoch 49/50\n",
      "100/100 [==============================] - 1s 9ms/step - loss: 0.1756 - accuracy: 0.9609 - val_loss: 0.2329 - val_accuracy: 0.9429\n",
      "Epoch 50/50\n",
      "100/100 [==============================] - 1s 9ms/step - loss: 0.1915 - accuracy: 0.9533 - val_loss: 0.2829 - val_accuracy: 0.9143\n"
     ]
    }
   ],
   "source": [
    "model5.compile(optimizer='adam',\n",
    "              loss='binary_crossentropy',\n",
    "              metrics=['accuracy'])\n",
    "\n",
    "history_model5 = model5.fit(train_img,\n",
    "                    train_y,\n",
    "                    epochs=50,\n",
    "                    batch_size=50,\n",
    "                    validation_data=(val_img, val_y))"
   ]
  },
  {
   "cell_type": "code",
   "execution_count": 51,
   "id": "bc70d1c6",
   "metadata": {},
   "outputs": [
    {
     "name": "stdout",
     "output_type": "stream",
     "text": [
      "156/156 [==============================] - 1s 3ms/step - loss: 0.2265 - accuracy: 0.9285\n"
     ]
    }
   ],
   "source": [
    "results_train5 = model5.evaluate(train_img, train_y)"
   ]
  },
  {
   "cell_type": "code",
   "execution_count": 52,
   "id": "c9e00cd4",
   "metadata": {},
   "outputs": [
    {
     "data": {
      "image/png": "[encoded data removed]",
      "text/plain": [
       "<Figure size 1152x432 with 2 Axes>"
      ]
     },
     "metadata": {
      "needs_background": "light"
     },
     "output_type": "display_data"
    }
   ],
   "source": [
    "visualize_training_results(history_model5)"
   ]
  },
  {
   "cell_type": "code",
   "execution_count": 53,
   "id": "a30b5b86",
   "metadata": {},
   "outputs": [
    {
     "name": "stdout",
     "output_type": "stream",
     "text": [
      "20/20 [==============================] - 0s 3ms/step - loss: 0.3749 - accuracy: 0.8734\n",
      "Test set results accuracy 0.8733974099159241\n"
     ]
    }
   ],
   "source": [
    "results_test5 = model5.evaluate(test_img, test_y)\n",
    "print(f\"Test set results accuracy {results_test5[1]}\")"
   ]
  },
  {
   "cell_type": "markdown",
   "id": "16625a37",
   "metadata": {},
   "source": [
    "### CNN_1, shape 64"
   ]
  },
  {
   "cell_type": "code",
   "execution_count": 54,
   "id": "4b7ef567",
   "metadata": {},
   "outputs": [],
   "source": [
    "model_CNN = models.Sequential()\n",
    "model_CNN.add(layers.Conv2D(32, (3, 3), activation='relu',\n",
    "                        input_shape=(64 ,64, 3)))\n",
    "model_CNN.add(layers.MaxPooling2D((2, 2)))\n",
    "\n",
    "model_CNN.add(layers.Conv2D(32, (4, 4), activation='relu'))\n",
    "model_CNN.add(layers.MaxPooling2D((2, 2)))\n",
    "\n",
    "model_CNN.add(layers.Conv2D(64, (3, 3), activation='relu'))\n",
    "model_CNN.add(layers.MaxPooling2D((2, 2)))\n",
    "\n",
    "model_CNN.add(layers.Flatten())\n",
    "model_CNN.add(layers.Dense(30, activation='relu'))\n",
    "model_CNN.add(layers.Dense(10, activation='relu'))\n",
    "model_CNN.add(layers.Dense(1, activation='sigmoid'))\n",
    "\n",
    "model_CNN.compile(loss='binary_crossentropy',\n",
    "              optimizer=\"sgd\",\n",
    "              metrics=['accuracy'])"
   ]
  },
  {
   "cell_type": "code",
   "execution_count": 55,
   "id": "df83dfff",
   "metadata": {},
   "outputs": [
    {
     "name": "stdout",
     "output_type": "stream",
     "text": [
      "Epoch 1/25\n",
      "156/156 [==============================] - 22s 138ms/step - loss: 0.5459 - accuracy: 0.7689 - val_loss: 0.5497 - val_accuracy: 0.7691\n",
      "Epoch 2/25\n",
      "156/156 [==============================] - 21s 135ms/step - loss: 0.4955 - accuracy: 0.7689 - val_loss: 0.6014 - val_accuracy: 0.7691\n",
      "Epoch 3/25\n",
      "156/156 [==============================] - 21s 134ms/step - loss: 0.4229 - accuracy: 0.7689 - val_loss: 0.3538 - val_accuracy: 0.7680\n",
      "Epoch 4/25\n",
      "156/156 [==============================] - 21s 132ms/step - loss: 0.3451 - accuracy: 0.8312 - val_loss: 0.3649 - val_accuracy: 0.8914\n",
      "Epoch 5/25\n",
      "156/156 [==============================] - 20s 130ms/step - loss: 0.3052 - accuracy: 0.8884 - val_loss: 0.3219 - val_accuracy: 0.8560\n",
      "Epoch 6/25\n",
      "156/156 [==============================] - 20s 130ms/step - loss: 0.2645 - accuracy: 0.9130 - val_loss: 0.2861 - val_accuracy: 0.8834\n",
      "Epoch 7/25\n",
      "156/156 [==============================] - 20s 128ms/step - loss: 0.2475 - accuracy: 0.9232 - val_loss: 0.2346 - val_accuracy: 0.9211\n",
      "Epoch 8/25\n",
      "156/156 [==============================] - 20s 125ms/step - loss: 0.2346 - accuracy: 0.9228 - val_loss: 0.2207 - val_accuracy: 0.9257\n",
      "Epoch 9/25\n",
      "156/156 [==============================] - 20s 127ms/step - loss: 0.2171 - accuracy: 0.9371 - val_loss: 0.2157 - val_accuracy: 0.9303\n",
      "Epoch 10/25\n",
      "156/156 [==============================] - 19s 125ms/step - loss: 0.2009 - accuracy: 0.9410 - val_loss: 0.2860 - val_accuracy: 0.8949\n",
      "Epoch 11/25\n",
      "156/156 [==============================] - 19s 123ms/step - loss: 0.1923 - accuracy: 0.9448 - val_loss: 0.2243 - val_accuracy: 0.9337\n",
      "Epoch 12/25\n",
      "156/156 [==============================] - 19s 123ms/step - loss: 0.1833 - accuracy: 0.9504 - val_loss: 0.2395 - val_accuracy: 0.9211\n",
      "Epoch 13/25\n",
      "156/156 [==============================] - 19s 122ms/step - loss: 0.1739 - accuracy: 0.9492 - val_loss: 0.2121 - val_accuracy: 0.9257\n",
      "Epoch 14/25\n",
      "156/156 [==============================] - 19s 123ms/step - loss: 0.1633 - accuracy: 0.9520 - val_loss: 0.8181 - val_accuracy: 0.7897\n",
      "Epoch 15/25\n",
      "156/156 [==============================] - 19s 123ms/step - loss: 0.1666 - accuracy: 0.9500 - val_loss: 0.1759 - val_accuracy: 0.9440\n",
      "Epoch 16/25\n",
      "156/156 [==============================] - 19s 122ms/step - loss: 0.1560 - accuracy: 0.9565 - val_loss: 0.6205 - val_accuracy: 0.6080\n",
      "Epoch 17/25\n",
      "156/156 [==============================] - 19s 119ms/step - loss: 0.1611 - accuracy: 0.9502 - val_loss: 0.1628 - val_accuracy: 0.9417\n",
      "Epoch 18/25\n",
      "156/156 [==============================] - 19s 120ms/step - loss: 0.1448 - accuracy: 0.9565 - val_loss: 0.1796 - val_accuracy: 0.9337\n",
      "Epoch 19/25\n",
      "156/156 [==============================] - 19s 121ms/step - loss: 0.1381 - accuracy: 0.9597 - val_loss: 0.1772 - val_accuracy: 0.9440\n",
      "Epoch 20/25\n",
      "156/156 [==============================] - 20s 129ms/step - loss: 0.1367 - accuracy: 0.9601 - val_loss: 0.1535 - val_accuracy: 0.9406\n",
      "Epoch 21/25\n",
      "156/156 [==============================] - 19s 121ms/step - loss: 0.1339 - accuracy: 0.9603 - val_loss: 0.5124 - val_accuracy: 0.7166\n",
      "Epoch 22/25\n",
      "156/156 [==============================] - 19s 121ms/step - loss: 0.1333 - accuracy: 0.9615 - val_loss: 0.2134 - val_accuracy: 0.9131\n",
      "Epoch 23/25\n",
      "156/156 [==============================] - 19s 125ms/step - loss: 0.1271 - accuracy: 0.9597 - val_loss: 0.1277 - val_accuracy: 0.9497\n",
      "Epoch 24/25\n",
      "156/156 [==============================] - 19s 122ms/step - loss: 0.1118 - accuracy: 0.9583 - val_loss: 0.1949 - val_accuracy: 0.9189\n",
      "Epoch 25/25\n",
      "156/156 [==============================] - 19s 124ms/step - loss: 0.1002 - accuracy: 0.9645 - val_loss: 0.1318 - val_accuracy: 0.9531\n"
     ]
    }
   ],
   "source": [
    "history_CNN1 = model_CNN.fit(train_images,\n",
    "                    train_y,\n",
    "                    epochs=25,\n",
    "                    batch_size=32,\n",
    "                    validation_data=(val_images, val_y))"
   ]
  },
  {
   "cell_type": "code",
   "execution_count": 56,
   "id": "d586db52",
   "metadata": {},
   "outputs": [
    {
     "name": "stdout",
     "output_type": "stream",
     "text": [
      "20/20 [==============================] - 0s 22ms/step - loss: 0.9262 - accuracy: 0.7724\n"
     ]
    }
   ],
   "source": [
    "results_test = model_CNN.evaluate(test_images, test_y)"
   ]
  },
  {
   "cell_type": "code",
   "execution_count": 57,
   "id": "9407d96d",
   "metadata": {},
   "outputs": [
    {
     "data": {
      "image/png": "[encoded data removed]",
      "text/plain": [
       "<Figure size 1152x432 with 2 Axes>"
      ]
     },
     "metadata": {
      "needs_background": "light"
     },
     "output_type": "display_data"
    }
   ],
   "source": [
    "visualize_training_results(history_CNN1)"
   ]
  },
  {
   "cell_type": "markdown",
   "id": "772394db",
   "metadata": {},
   "source": [
    "### CNN_2, shape 64 + dropout + regulization"
   ]
  },
  {
   "cell_type": "code",
   "execution_count": 58,
   "id": "bee385c5",
   "metadata": {},
   "outputs": [],
   "source": [
    "model_CNN2 = models.Sequential()\n",
    "model_CNN2.add(layers.Conv2D(32, (3, 3), activation='relu',\n",
    "                        input_shape=(64 ,64, 3)))\n",
    "model_CNN2.add(layers.MaxPooling2D((2, 2)))\n",
    "\n",
    "model_CNN2.add(layers.Conv2D(32, (4, 4), activation='relu'))\n",
    "model_CNN2.add(layers.MaxPooling2D((2, 2)))\n",
    "\n",
    "model_CNN2.add(layers.Conv2D(64, (3, 3), activation='relu'))\n",
    "model_CNN2.add(layers.MaxPooling2D((2, 2)))\n",
    "\n",
    "model_CNN2.add(layers.Flatten())\n",
    "model_CNN2.add(layers.Dense(40, activation='relu', kernel_regularizer = l2(l2 = L2_best)))\n",
    "model_CNN2.add(layers.Dense(1, activation='sigmoid'))\n",
    "\n",
    "model_CNN2.compile(loss='binary_crossentropy',\n",
    "              optimizer=\"Adam\",\n",
    "              metrics=['accuracy'])"
   ]
  },
  {
   "cell_type": "code",
   "execution_count": null,
   "id": "59c709fa",
   "metadata": {},
   "outputs": [],
   "source": []
  },
  {
   "cell_type": "code",
   "execution_count": 59,
   "id": "2efe0651",
   "metadata": {},
   "outputs": [
    {
     "name": "stdout",
     "output_type": "stream",
     "text": [
      "Epoch 1/25\n",
      "156/156 [==============================] - 20s 124ms/step - loss: 0.4831 - accuracy: 0.8557 - val_loss: 0.2132 - val_accuracy: 0.9486\n",
      "Epoch 2/25\n",
      "156/156 [==============================] - 19s 124ms/step - loss: 0.1962 - accuracy: 0.9404 - val_loss: 0.1703 - val_accuracy: 0.9497\n",
      "Epoch 3/25\n",
      "156/156 [==============================] - 19s 124ms/step - loss: 0.1487 - accuracy: 0.9591 - val_loss: 0.3163 - val_accuracy: 0.8800\n",
      "Epoch 4/25\n",
      "156/156 [==============================] - 19s 124ms/step - loss: 0.1345 - accuracy: 0.9643 - val_loss: 0.1280 - val_accuracy: 0.9634\n",
      "Epoch 5/25\n",
      "156/156 [==============================] - 19s 124ms/step - loss: 0.1188 - accuracy: 0.9682 - val_loss: 0.1223 - val_accuracy: 0.9611\n",
      "Epoch 6/25\n",
      "156/156 [==============================] - 19s 124ms/step - loss: 0.1131 - accuracy: 0.9688 - val_loss: 0.1524 - val_accuracy: 0.9509\n",
      "Epoch 7/25\n",
      "156/156 [==============================] - 19s 124ms/step - loss: 0.0938 - accuracy: 0.9758 - val_loss: 0.1022 - val_accuracy: 0.9680\n",
      "Epoch 8/25\n",
      "156/156 [==============================] - 19s 125ms/step - loss: 0.0897 - accuracy: 0.9758 - val_loss: 0.1219 - val_accuracy: 0.9600\n",
      "Epoch 9/25\n",
      "156/156 [==============================] - 19s 123ms/step - loss: 0.0834 - accuracy: 0.9768 - val_loss: 0.1482 - val_accuracy: 0.9486\n",
      "Epoch 10/25\n",
      "156/156 [==============================] - 19s 124ms/step - loss: 0.0921 - accuracy: 0.9728 - val_loss: 0.0987 - val_accuracy: 0.9714\n",
      "Epoch 11/25\n",
      "156/156 [==============================] - 19s 123ms/step - loss: 0.0826 - accuracy: 0.9768 - val_loss: 0.1041 - val_accuracy: 0.9669\n",
      "Epoch 12/25\n",
      "156/156 [==============================] - 19s 122ms/step - loss: 0.0800 - accuracy: 0.9796 - val_loss: 0.1495 - val_accuracy: 0.9520\n",
      "Epoch 13/25\n",
      "156/156 [==============================] - 19s 124ms/step - loss: 0.0667 - accuracy: 0.9837 - val_loss: 0.0840 - val_accuracy: 0.9749\n",
      "Epoch 14/25\n",
      "156/156 [==============================] - 19s 122ms/step - loss: 0.0703 - accuracy: 0.9825 - val_loss: 0.0930 - val_accuracy: 0.9737\n",
      "Epoch 15/25\n",
      "156/156 [==============================] - 19s 123ms/step - loss: 0.0659 - accuracy: 0.9843 - val_loss: 0.0873 - val_accuracy: 0.9680\n",
      "Epoch 16/25\n",
      "156/156 [==============================] - 19s 123ms/step - loss: 0.0607 - accuracy: 0.9851 - val_loss: 0.1041 - val_accuracy: 0.9691\n",
      "Epoch 17/25\n",
      "156/156 [==============================] - 19s 124ms/step - loss: 0.0542 - accuracy: 0.9877 - val_loss: 0.0958 - val_accuracy: 0.9726\n",
      "Epoch 18/25\n",
      "156/156 [==============================] - 19s 122ms/step - loss: 0.0549 - accuracy: 0.9867 - val_loss: 0.0786 - val_accuracy: 0.9749\n",
      "Epoch 19/25\n",
      "156/156 [==============================] - 19s 124ms/step - loss: 0.0522 - accuracy: 0.9865 - val_loss: 0.0998 - val_accuracy: 0.9749\n",
      "Epoch 20/25\n",
      "156/156 [==============================] - 19s 122ms/step - loss: 0.0499 - accuracy: 0.9875 - val_loss: 0.1098 - val_accuracy: 0.9669\n",
      "Epoch 21/25\n",
      "156/156 [==============================] - 19s 123ms/step - loss: 0.0528 - accuracy: 0.9883 - val_loss: 0.0847 - val_accuracy: 0.9714\n",
      "Epoch 22/25\n",
      "156/156 [==============================] - 19s 123ms/step - loss: 0.0402 - accuracy: 0.9917 - val_loss: 0.0846 - val_accuracy: 0.9749\n",
      "Epoch 23/25\n",
      "156/156 [==============================] - 19s 124ms/step - loss: 0.0411 - accuracy: 0.9901 - val_loss: 0.0886 - val_accuracy: 0.9737\n",
      "Epoch 24/25\n",
      "156/156 [==============================] - 19s 124ms/step - loss: 0.0448 - accuracy: 0.9903 - val_loss: 0.0909 - val_accuracy: 0.9726\n",
      "Epoch 25/25\n",
      "156/156 [==============================] - 19s 124ms/step - loss: 0.0356 - accuracy: 0.9946 - val_loss: 0.0738 - val_accuracy: 0.9771\n"
     ]
    }
   ],
   "source": [
    "history_CNN2 = model_CNN2.fit(train_images,\n",
    "                    train_y,\n",
    "                    epochs=25,\n",
    "                    batch_size=32,\n",
    "                    validation_data=(val_images, val_y))"
   ]
  },
  {
   "cell_type": "code",
   "execution_count": 60,
   "id": "e7f53035",
   "metadata": {},
   "outputs": [
    {
     "name": "stdout",
     "output_type": "stream",
     "text": [
      "20/20 [==============================] - 0s 21ms/step - loss: 0.6372 - accuracy: 0.8590\n"
     ]
    }
   ],
   "source": [
    "results_test = model_CNN2.evaluate(test_images, test_y)"
   ]
  },
  {
   "cell_type": "code",
   "execution_count": 61,
   "id": "d02a842b",
   "metadata": {},
   "outputs": [
    {
     "data": {
      "image/png": "[encoded data removed]",
      "text/plain": [
       "<Figure size 1152x432 with 2 Axes>"
      ]
     },
     "metadata": {
      "needs_background": "light"
     },
     "output_type": "display_data"
    }
   ],
   "source": [
    "visualize_training_results(history_CNN2)"
   ]
  },
  {
   "cell_type": "markdown",
   "id": "c32a4bfd",
   "metadata": {},
   "source": [
    "### CNN_3, shape 100 + dropout + regulization"
   ]
  },
  {
   "cell_type": "code",
   "execution_count": 62,
   "id": "741d9d0f",
   "metadata": {},
   "outputs": [
    {
     "name": "stdout",
     "output_type": "stream",
     "text": [
      "Found 4963 images belonging to 2 classes.\n",
      "Found 875 images belonging to 2 classes.\n",
      "Found 624 images belonging to 2 classes.\n"
     ]
    }
   ],
   "source": [
    "# get all the data in the directory split/train, and reshape them\n",
    "train_generator_100 = ImageDataGenerator(rescale=1./255).flow_from_directory(\n",
    "        train_folder, \n",
    "        target_size=(100, 100), batch_size= train_img_number)\n",
    "\n",
    "# get all the data in the directory split/validation, and reshape them\n",
    "val_generator_100 = ImageDataGenerator(rescale=1./255).flow_from_directory(\n",
    "        val_folder, \n",
    "        target_size=(100, 100), batch_size = val_img_number)\n",
    "\n",
    "# get all the data in the directory split/test, and reshape them\n",
    "test_generator_100 = ImageDataGenerator(rescale=1./255).flow_from_directory(\n",
    "        test_folder, \n",
    "        target_size=(100, 100), batch_size = test_img_number) \n",
    "\n",
    "train_images2, train_labels2 = next(train_generator_100)\n",
    "test_images2, test_labels2 = next(test_generator_100)\n",
    "val_images2, val_labels2 = next(val_generator_100)\n",
    "\n",
    "\n"
   ]
  },
  {
   "cell_type": "code",
   "execution_count": 63,
   "id": "09e21a03",
   "metadata": {},
   "outputs": [
    {
     "data": {
      "text/plain": [
       "<keras.preprocessing.image.DirectoryIterator at 0x7ff296593b50>"
      ]
     },
     "execution_count": 63,
     "metadata": {},
     "output_type": "execute_result"
    }
   ],
   "source": [
    "test_generator_100"
   ]
  },
  {
   "cell_type": "code",
   "execution_count": 64,
   "id": "cfb073b3",
   "metadata": {},
   "outputs": [
    {
     "data": {
      "text/plain": [
       "(4963, 100, 100, 3)"
      ]
     },
     "execution_count": 64,
     "metadata": {},
     "output_type": "execute_result"
    }
   ],
   "source": [
    "train_images2.shape"
   ]
  },
  {
   "cell_type": "code",
   "execution_count": 65,
   "id": "85439569",
   "metadata": {},
   "outputs": [
    {
     "name": "stdout",
     "output_type": "stream",
     "text": [
      "(4963, 30000)\n",
      "(624, 30000)\n",
      "(875, 30000)\n"
     ]
    }
   ],
   "source": [
    "train_img2 = train_images2.reshape(train_images2.shape[0], -1)\n",
    "test_img2 = test_images2.reshape(test_images2.shape[0], -1)\n",
    "val_img2 = val_images2.reshape(val_images2.shape[0], -1)\n",
    "\n",
    "print(train_img2.shape)\n",
    "print(test_img2.shape)\n",
    "print(val_img2.shape)"
   ]
  },
  {
   "cell_type": "code",
   "execution_count": null,
   "id": "a482a61a",
   "metadata": {},
   "outputs": [],
   "source": []
  },
  {
   "cell_type": "code",
   "execution_count": 66,
   "id": "01e8723f",
   "metadata": {},
   "outputs": [],
   "source": [
    "train_y2 = np.reshape(train_labels[:,0], (train_img_number,1))\n",
    "test_y2 = np.reshape(test_labels[:,0], (test_img_number,1))\n",
    "val_y2 = np.reshape(val_labels[:,0], (val_img_number,1))"
   ]
  },
  {
   "cell_type": "code",
   "execution_count": 67,
   "id": "5756ca21",
   "metadata": {},
   "outputs": [],
   "source": [
    "model_CNN3 = models.Sequential()\n",
    "model_CNN3.add(layers.Conv2D(32, (3, 3), activation='relu',\n",
    "                        input_shape=(100 ,100, 3)))\n",
    "model_CNN3.add(layers.MaxPooling2D((2, 2)))\n",
    "\n",
    "model_CNN3.add(layers.Conv2D(32, (4, 4), activation='relu'))\n",
    "model_CNN3.add(layers.MaxPooling2D((2, 2)))\n",
    "\n",
    "model_CNN3.add(layers.Conv2D(64, (3, 3), activation='relu'))\n",
    "model_CNN3.add(layers.MaxPooling2D((2, 2)))\n",
    "\n",
    "model_CNN3.add(layers.Flatten())\n",
    "model_CNN3.add(layers.Dense(30, activation='relu'))\n",
    "model_CNN3.add(layers.Dense(10, activation='relu'))\n",
    "model_CNN3.add(layers.Dense(1, activation='sigmoid'))\n",
    "\n",
    "model_CNN3.compile(loss='binary_crossentropy',\n",
    "              optimizer=\"sgd\",\n",
    "              metrics=['accuracy'])"
   ]
  },
  {
   "cell_type": "code",
   "execution_count": 68,
   "id": "c47e5b3e",
   "metadata": {},
   "outputs": [
    {
     "name": "stdout",
     "output_type": "stream",
     "text": [
      "Epoch 1/25\n",
      "100/100 [==============================] - 33s 330ms/step - loss: 0.5432 - accuracy: 0.7689 - val_loss: 0.5224 - val_accuracy: 0.7691\n",
      "Epoch 2/25\n",
      "100/100 [==============================] - 40s 401ms/step - loss: 0.4827 - accuracy: 0.7745 - val_loss: 0.4499 - val_accuracy: 0.7931\n",
      "Epoch 3/25\n",
      "100/100 [==============================] - 42s 425ms/step - loss: 0.4213 - accuracy: 0.8094 - val_loss: 0.3486 - val_accuracy: 0.8137\n",
      "Epoch 4/25\n",
      "100/100 [==============================] - 43s 432ms/step - loss: 0.3412 - accuracy: 0.8565 - val_loss: 0.2624 - val_accuracy: 0.8914\n",
      "Epoch 5/25\n",
      "100/100 [==============================] - 43s 429ms/step - loss: 0.2776 - accuracy: 0.8839 - val_loss: 0.3161 - val_accuracy: 0.8594\n",
      "Epoch 6/25\n",
      "100/100 [==============================] - 42s 424ms/step - loss: 0.2364 - accuracy: 0.9085 - val_loss: 0.2025 - val_accuracy: 0.9177\n",
      "Epoch 7/25\n",
      "100/100 [==============================] - 42s 418ms/step - loss: 0.2020 - accuracy: 0.9204 - val_loss: 0.1733 - val_accuracy: 0.9200\n",
      "Epoch 8/25\n",
      "100/100 [==============================] - 41s 413ms/step - loss: 0.1670 - accuracy: 0.9359 - val_loss: 0.1594 - val_accuracy: 0.9349\n",
      "Epoch 9/25\n",
      "100/100 [==============================] - 41s 410ms/step - loss: 0.1516 - accuracy: 0.9444 - val_loss: 0.1426 - val_accuracy: 0.9406\n",
      "Epoch 10/25\n",
      "100/100 [==============================] - 40s 401ms/step - loss: 0.1368 - accuracy: 0.9470 - val_loss: 0.1383 - val_accuracy: 0.9451\n",
      "Epoch 11/25\n",
      "100/100 [==============================] - 40s 398ms/step - loss: 0.1270 - accuracy: 0.9524 - val_loss: 0.1319 - val_accuracy: 0.9429\n",
      "Epoch 12/25\n",
      "100/100 [==============================] - 41s 406ms/step - loss: 0.1171 - accuracy: 0.9563 - val_loss: 0.1235 - val_accuracy: 0.9520\n",
      "Epoch 13/25\n",
      "100/100 [==============================] - 40s 399ms/step - loss: 0.1066 - accuracy: 0.9607 - val_loss: 0.1218 - val_accuracy: 0.9577\n",
      "Epoch 14/25\n",
      "100/100 [==============================] - 40s 399ms/step - loss: 0.1062 - accuracy: 0.9585 - val_loss: 0.2450 - val_accuracy: 0.9074\n",
      "Epoch 15/25\n",
      "100/100 [==============================] - 45s 450ms/step - loss: 0.1018 - accuracy: 0.9633 - val_loss: 0.1149 - val_accuracy: 0.9566\n",
      "Epoch 16/25\n",
      "100/100 [==============================] - 46s 460ms/step - loss: 0.0969 - accuracy: 0.9649 - val_loss: 0.1764 - val_accuracy: 0.9337\n",
      "Epoch 17/25\n",
      "100/100 [==============================] - 45s 448ms/step - loss: 0.0933 - accuracy: 0.9657 - val_loss: 0.1111 - val_accuracy: 0.9554\n",
      "Epoch 18/25\n",
      "100/100 [==============================] - 46s 456ms/step - loss: 0.0868 - accuracy: 0.9664 - val_loss: 0.1574 - val_accuracy: 0.9486\n",
      "Epoch 19/25\n",
      "100/100 [==============================] - 46s 458ms/step - loss: 0.0824 - accuracy: 0.9716 - val_loss: 0.1086 - val_accuracy: 0.9566\n",
      "Epoch 20/25\n",
      "100/100 [==============================] - 43s 433ms/step - loss: 0.0763 - accuracy: 0.9716 - val_loss: 0.1623 - val_accuracy: 0.9451\n",
      "Epoch 21/25\n",
      "100/100 [==============================] - 41s 407ms/step - loss: 0.0751 - accuracy: 0.9730 - val_loss: 0.1106 - val_accuracy: 0.9554\n",
      "Epoch 22/25\n",
      "100/100 [==============================] - 41s 406ms/step - loss: 0.0719 - accuracy: 0.9744 - val_loss: 0.1411 - val_accuracy: 0.9509\n",
      "Epoch 23/25\n",
      "100/100 [==============================] - 40s 403ms/step - loss: 0.0728 - accuracy: 0.9750 - val_loss: 0.1132 - val_accuracy: 0.9554\n",
      "Epoch 24/25\n",
      "100/100 [==============================] - 41s 405ms/step - loss: 0.0688 - accuracy: 0.9758 - val_loss: 0.1049 - val_accuracy: 0.9566\n",
      "Epoch 25/25\n",
      "100/100 [==============================] - 42s 421ms/step - loss: 0.0661 - accuracy: 0.9758 - val_loss: 0.1015 - val_accuracy: 0.9600\n"
     ]
    }
   ],
   "source": [
    "history_CNN3 = model_CNN3.fit(train_images2,\n",
    "                    train_y2,\n",
    "                    epochs=25,\n",
    "                    batch_size=50,\n",
    "                    validation_data=(val_images2, val_y2))"
   ]
  },
  {
   "cell_type": "code",
   "execution_count": 69,
   "id": "138e51ac",
   "metadata": {},
   "outputs": [
    {
     "name": "stdout",
     "output_type": "stream",
     "text": [
      "20/20 [==============================] - 1s 61ms/step - loss: 0.6100 - accuracy: 0.8349\n"
     ]
    }
   ],
   "source": [
    "results_test = model_CNN3.evaluate(test_images2, test_y2)"
   ]
  },
  {
   "cell_type": "code",
   "execution_count": null,
   "id": "6a31d1f9",
   "metadata": {},
   "outputs": [],
   "source": []
  },
  {
   "cell_type": "code",
   "execution_count": 70,
   "id": "81c11e81",
   "metadata": {},
   "outputs": [],
   "source": [
    "model_CNN4 = models.Sequential()\n",
    "model_CNN4.add(layers.Conv2D(32, (3, 3), activation='relu',\n",
    "                        input_shape=(100 ,100, 3)))\n",
    "model_CNN4.add(layers.MaxPooling2D((2, 2)))\n",
    "\n",
    "model_CNN4.add(layers.Conv2D(32, (4, 4), activation='relu'))\n",
    "model_CNN4.add(layers.MaxPooling2D((2, 2)))\n",
    "\n",
    "model_CNN4.add(layers.Conv2D(64, (3, 3), activation='relu'))\n",
    "model_CNN4.add(layers.MaxPooling2D((2, 2)))\n",
    "\n",
    "model_CNN4.add(layers.Flatten())\n",
    "model_CNN4.add(layers.Dense(30, activation='relu', kernel_regularizer = l2(l2 = 0.01)))\n",
    "model_CNN4.add(layers.Dropout(0.3))\n",
    "model_CNN4.add(layers.Dense(1, activation='sigmoid'))\n",
    "\n",
    "model_CNN4.compile(loss='binary_crossentropy',\n",
    "              optimizer=\"sgd\",\n",
    "              metrics=['accuracy'])"
   ]
  },
  {
   "cell_type": "code",
   "execution_count": 71,
   "id": "58d2d2c4",
   "metadata": {},
   "outputs": [
    {
     "name": "stdout",
     "output_type": "stream",
     "text": [
      "Epoch 1/20\n",
      "156/156 [==============================] - 42s 265ms/step - loss: 1.1190 - accuracy: 0.7689 - val_loss: 1.1264 - val_accuracy: 0.7691\n",
      "Epoch 2/20\n",
      "156/156 [==============================] - 42s 271ms/step - loss: 1.0030 - accuracy: 0.7894 - val_loss: 0.9611 - val_accuracy: 0.7726\n",
      "Epoch 3/20\n",
      "156/156 [==============================] - 42s 267ms/step - loss: 0.8604 - accuracy: 0.8481 - val_loss: 1.7133 - val_accuracy: 0.3440\n",
      "Epoch 4/20\n",
      "156/156 [==============================] - 41s 263ms/step - loss: 0.7491 - accuracy: 0.8908 - val_loss: 0.7265 - val_accuracy: 0.8983\n",
      "Epoch 5/20\n",
      "156/156 [==============================] - 41s 264ms/step - loss: 0.6815 - accuracy: 0.9134 - val_loss: 0.7580 - val_accuracy: 0.8731\n",
      "Epoch 6/20\n",
      "156/156 [==============================] - 41s 263ms/step - loss: 0.6127 - accuracy: 0.9327 - val_loss: 0.5934 - val_accuracy: 0.9337\n",
      "Epoch 7/20\n",
      "156/156 [==============================] - 39s 248ms/step - loss: 0.5724 - accuracy: 0.9432 - val_loss: 0.5649 - val_accuracy: 0.9371\n",
      "Epoch 8/20\n",
      "156/156 [==============================] - 39s 248ms/step - loss: 0.5348 - accuracy: 0.9460 - val_loss: 0.5394 - val_accuracy: 0.9406\n",
      "Epoch 9/20\n",
      "156/156 [==============================] - 38s 246ms/step - loss: 0.4967 - accuracy: 0.9551 - val_loss: 0.5003 - val_accuracy: 0.9406\n",
      "Epoch 10/20\n",
      "156/156 [==============================] - 39s 249ms/step - loss: 0.4701 - accuracy: 0.9531 - val_loss: 0.4820 - val_accuracy: 0.9474\n",
      "Epoch 11/20\n",
      "156/156 [==============================] - 38s 246ms/step - loss: 0.4453 - accuracy: 0.9573 - val_loss: 0.4403 - val_accuracy: 0.9554\n",
      "Epoch 12/20\n",
      "156/156 [==============================] - 39s 248ms/step - loss: 0.4173 - accuracy: 0.9595 - val_loss: 0.8096 - val_accuracy: 0.8560\n",
      "Epoch 13/20\n",
      "156/156 [==============================] - 39s 249ms/step - loss: 0.4006 - accuracy: 0.9613 - val_loss: 0.4042 - val_accuracy: 0.9554\n",
      "Epoch 14/20\n",
      "156/156 [==============================] - 39s 247ms/step - loss: 0.3748 - accuracy: 0.9631 - val_loss: 0.3798 - val_accuracy: 0.9543\n",
      "Epoch 15/20\n",
      "156/156 [==============================] - 39s 247ms/step - loss: 0.3600 - accuracy: 0.9617 - val_loss: 0.3704 - val_accuracy: 0.9463\n",
      "Epoch 16/20\n",
      "156/156 [==============================] - 39s 249ms/step - loss: 0.3337 - accuracy: 0.9692 - val_loss: 0.3510 - val_accuracy: 0.9543\n",
      "Epoch 17/20\n",
      "156/156 [==============================] - 39s 248ms/step - loss: 0.3224 - accuracy: 0.9680 - val_loss: 0.3802 - val_accuracy: 0.9360\n",
      "Epoch 18/20\n",
      "156/156 [==============================] - 39s 249ms/step - loss: 0.3033 - accuracy: 0.9690 - val_loss: 0.3188 - val_accuracy: 0.9543\n",
      "Epoch 19/20\n",
      "156/156 [==============================] - 38s 246ms/step - loss: 0.2885 - accuracy: 0.9722 - val_loss: 0.3085 - val_accuracy: 0.9531\n",
      "Epoch 20/20\n",
      "156/156 [==============================] - 38s 245ms/step - loss: 0.2730 - accuracy: 0.9714 - val_loss: 0.3042 - val_accuracy: 0.9554\n"
     ]
    }
   ],
   "source": [
    "history_CNN4 = model_CNN4.fit(train_images2,\n",
    "                    train_y2,\n",
    "                    epochs=20,\n",
    "                    batch_size=32,\n",
    "                    validation_data=(val_images2, val_y2))"
   ]
  },
  {
   "cell_type": "code",
   "execution_count": 78,
   "id": "55537c86",
   "metadata": {},
   "outputs": [
    {
     "name": "stdout",
     "output_type": "stream",
     "text": [
      "20/20 [==============================] - 1s 30ms/step - loss: 0.8992 - accuracy: 0.8029\n"
     ]
    }
   ],
   "source": [
    "results_test = model_CNN4.evaluate(test_images2, test_y2)"
   ]
  },
  {
   "cell_type": "markdown",
   "id": "2b262437",
   "metadata": {},
   "source": [
    "##### argumented CNN 100"
   ]
  },
  {
   "cell_type": "code",
   "execution_count": 194,
   "id": "8cc2d5de",
   "metadata": {},
   "outputs": [
    {
     "name": "stdout",
     "output_type": "stream",
     "text": [
      "Found 624 images belonging to 2 classes.\n",
      "Found 875 images belonging to 2 classes.\n",
      "Found 4963 images belonging to 2 classes.\n"
     ]
    }
   ],
   "source": [
    "train_datagen_arg_100 = ImageDataGenerator(rescale=1./255, \n",
    "                                   rotation_range=40, \n",
    "                                   width_shift_range=0.1, \n",
    "                                   height_shift_range=0.1, \n",
    "                                   shear_range=0.2, \n",
    "                                   horizontal_flip=False)\n",
    "test_generator_arg_100 = ImageDataGenerator(rescale=1./255).flow_from_directory(\n",
    "        test_folder, \n",
    "        target_size=(100, 100), \n",
    "        batch_size = test_img_number,\n",
    "        class_mode='binary') \n",
    "\n",
    "# get all the data in the directory split/validation (200 images), and reshape them\n",
    "val_generator_arg_100 = ImageDataGenerator(rescale=1./255).flow_from_directory(\n",
    "        val_folder, \n",
    "        target_size=(100, 100),\n",
    "        batch_size = 32,\n",
    "        class_mode='binary')\n",
    "\n",
    "# get all the data in the directory split/train (542 images), and reshape them\n",
    "train_generator_arg_100 = train_datagen2.flow_from_directory(\n",
    "        train_folder, target_size=(100, 100),\n",
    "        batch_size = 64, class_mode='binary')\n"
   ]
  },
  {
   "cell_type": "code",
   "execution_count": 195,
   "id": "2bec451d",
   "metadata": {},
   "outputs": [],
   "source": [
    "train_images_100_arg, train_labels_100_arg = next(train_generator_arg_100)\n",
    "test_images_100_arg, test_labels_100_arg = next(test_generator_arg_100)\n",
    "val_images_100_arg, val_labels_100_arg = next(val_generator_arg_100)"
   ]
  },
  {
   "cell_type": "code",
   "execution_count": 196,
   "id": "63914dc2",
   "metadata": {},
   "outputs": [],
   "source": [
    "model_CNN6 = models.Sequential()\n",
    "model_CNN6.add(layers.Conv2D(32, (3, 3), activation='relu',\n",
    "                        input_shape=(100 ,100, 3)))\n",
    "model_CNN6.add(layers.MaxPooling2D((2, 2)))\n",
    "\n",
    "model_CNN6.add(layers.Conv2D(32, (4, 4), activation='relu'))\n",
    "model_CNN6.add(layers.MaxPooling2D((2, 2)))\n",
    "\n",
    "model_CNN6.add(layers.Conv2D(64, (3, 3), activation='relu'))\n",
    "model_CNN6.add(layers.MaxPooling2D((2, 2)))\n",
    "\n",
    "model_CNN6.add(layers.Flatten())\n",
    "model_CNN6.add(layers.Dense(50, activation='relu', kernel_regularizer = l2(l2 = 0.01)))\n",
    "model_CNN6.add(layers.Dropout(0.3))\n",
    "model_CNN6.add(layers.Dense(1, activation='sigmoid'))\n",
    "\n",
    "model_CNN6.compile(loss='binary_crossentropy',\n",
    "              optimizer=\"sgd\",\n",
    "              metrics=['accuracy'])"
   ]
  },
  {
   "cell_type": "code",
   "execution_count": null,
   "id": "616ea0d1",
   "metadata": {},
   "outputs": [
    {
     "name": "stdout",
     "output_type": "stream",
     "text": [
      "Epoch 1/20\n",
      " 8/25 [========>.....................] - ETA: 32s - loss: 1.6224 - accuracy: 0.7285"
     ]
    }
   ],
   "source": [
    "history_CNN6 = model_CNN6.fit_generator(train_generator_arg_100, \n",
    "                                steps_per_epoch=25, \n",
    "                                epochs=20, \n",
    "                                validation_data=val_generator_arg_100, \n",
    "                                validation_steps=25)"
   ]
  },
  {
   "cell_type": "code",
   "execution_count": null,
   "id": "574c946c",
   "metadata": {},
   "outputs": [],
   "source": []
  },
  {
   "cell_type": "markdown",
   "id": "9357a855",
   "metadata": {},
   "source": [
    "### 250 resolution, argumented"
   ]
  },
  {
   "cell_type": "code",
   "execution_count": 166,
   "id": "bbf4e11e",
   "metadata": {},
   "outputs": [],
   "source": [
    "train_datagen2 = ImageDataGenerator(rescale=1./255, \n",
    "                                   rotation_range=40, \n",
    "                                   width_shift_range=0.1, \n",
    "                                   height_shift_range=0.1, \n",
    "                                   shear_range=0.2, \n",
    "                                   horizontal_flip=False)"
   ]
  },
  {
   "cell_type": "code",
   "execution_count": 167,
   "id": "2b11d962",
   "metadata": {},
   "outputs": [
    {
     "name": "stdout",
     "output_type": "stream",
     "text": [
      "Found 624 images belonging to 2 classes.\n",
      "Found 875 images belonging to 2 classes.\n",
      "Found 4963 images belonging to 2 classes.\n"
     ]
    }
   ],
   "source": [
    "test_generator3 = ImageDataGenerator(rescale=1./255).flow_from_directory(\n",
    "        test_folder, \n",
    "        target_size=(250, 250), \n",
    "        batch_size = 64,\n",
    "        class_mode='binary') \n",
    "\n",
    "# get all the data in the directory split/validation (200 images), and reshape them\n",
    "val_generator3 = ImageDataGenerator(rescale=1./255).flow_from_directory(\n",
    "        val_folder, \n",
    "        target_size=(250, 250),\n",
    "        batch_size = 32,\n",
    "        class_mode='binary')\n",
    "\n",
    "# get all the data in the directory split/train (542 images), and reshape them\n",
    "train_generator3 = train_datagen2.flow_from_directory(train_folder, target_size=(250, 250), batch_size = 32, class_mode='binary')\n",
    "\n",
    "        "
   ]
  },
  {
   "cell_type": "code",
   "execution_count": 175,
   "id": "9eaea7d9",
   "metadata": {},
   "outputs": [],
   "source": [
    "train_images3, train_labels3 = next(train_generator3)\n",
    "test_images3, test_labels3 = next(test_generator3)\n",
    "val_images3, val_labels3 = next(val_generator3)"
   ]
  },
  {
   "cell_type": "code",
   "execution_count": 172,
   "id": "a12c2a66",
   "metadata": {},
   "outputs": [],
   "source": [
    "model_CNN5 = models.Sequential()\n",
    "model_CNN5.add(layers.Conv2D(32, (3, 3), activation='relu',\n",
    "                        input_shape=(250 ,250, 3)))\n",
    "model_CNN5.add(layers.MaxPooling2D((2, 2)))\n",
    "\n",
    "model_CNN5.add(layers.Conv2D(32, (4, 4), activation='relu'))\n",
    "model_CNN5.add(layers.MaxPooling2D((2, 2)))\n",
    "\n",
    "model_CNN5.add(layers.Conv2D(64, (3, 3), activation='relu'))\n",
    "model_CNN5.add(layers.MaxPooling2D((2, 2)))\n",
    "\n",
    "model_CNN5.add(layers.Flatten())\n",
    "model_CNN5.add(layers.Dense(30, activation='relu', kernel_regularizer = l2(l2 = 0.01)))\n",
    "model_CNN5.add(layers.Dropout(0.3))\n",
    "model_CNN5.add(layers.Dense(1, activation='sigmoid'))\n",
    "\n",
    "model_CNN5.compile(loss='binary_crossentropy',\n",
    "              optimizer=\"adam\",\n",
    "              metrics=['accuracy'])"
   ]
  },
  {
   "cell_type": "code",
   "execution_count": 173,
   "id": "d6db3d3a",
   "metadata": {},
   "outputs": [
    {
     "name": "stdout",
     "output_type": "stream",
     "text": [
      "Epoch 1/60\n",
      "25/25 [==============================] - 77s 3s/step - loss: 0.7755 - accuracy: 0.7663 - val_loss: 0.5485 - val_accuracy: 0.8225\n",
      "Epoch 2/60\n",
      "25/25 [==============================] - 74s 3s/step - loss: 0.5028 - accuracy: 0.7977 - val_loss: 0.5711 - val_accuracy: 0.7850\n",
      "Epoch 3/60\n",
      "25/25 [==============================] - 72s 3s/step - loss: 0.4835 - accuracy: 0.7964 - val_loss: 0.5398 - val_accuracy: 0.7738\n",
      "Epoch 4/60\n",
      "25/25 [==============================] - 74s 3s/step - loss: 0.5036 - accuracy: 0.7713 - val_loss: 0.4931 - val_accuracy: 0.7563\n",
      "Epoch 5/60\n",
      "25/25 [==============================] - 75s 3s/step - loss: 0.4349 - accuracy: 0.8250 - val_loss: 0.4680 - val_accuracy: 0.8575\n",
      "Epoch 6/60\n",
      "25/25 [==============================] - 73s 3s/step - loss: 0.4605 - accuracy: 0.8418 - val_loss: 0.5154 - val_accuracy: 0.8575\n",
      "Epoch 7/60\n",
      "25/25 [==============================] - 75s 3s/step - loss: 0.4665 - accuracy: 0.8000 - val_loss: 0.3617 - val_accuracy: 0.8788\n",
      "Epoch 8/60\n",
      "25/25 [==============================] - 74s 3s/step - loss: 0.4117 - accuracy: 0.8375 - val_loss: 0.4224 - val_accuracy: 0.8712\n",
      "Epoch 9/60\n",
      "25/25 [==============================] - 74s 3s/step - loss: 0.3884 - accuracy: 0.8475 - val_loss: 0.3761 - val_accuracy: 0.8788\n",
      "Epoch 10/60\n",
      "25/25 [==============================] - 75s 3s/step - loss: 0.4054 - accuracy: 0.8675 - val_loss: 0.3186 - val_accuracy: 0.8913\n",
      "Epoch 11/60\n",
      "25/25 [==============================] - 74s 3s/step - loss: 0.4228 - accuracy: 0.8363 - val_loss: 0.4498 - val_accuracy: 0.8700\n",
      "Epoch 12/60\n",
      "25/25 [==============================] - 75s 3s/step - loss: 0.3711 - accuracy: 0.8600 - val_loss: 0.3633 - val_accuracy: 0.8825\n",
      "Epoch 13/60\n",
      "25/25 [==============================] - 74s 3s/step - loss: 0.3677 - accuracy: 0.8550 - val_loss: 0.4464 - val_accuracy: 0.8913\n",
      "Epoch 14/60\n",
      "25/25 [==============================] - 74s 3s/step - loss: 0.3408 - accuracy: 0.8587 - val_loss: 0.4066 - val_accuracy: 0.8363\n",
      "Epoch 15/60\n",
      "25/25 [==============================] - 75s 3s/step - loss: 0.3819 - accuracy: 0.8550 - val_loss: 0.3939 - val_accuracy: 0.8788\n",
      "Epoch 16/60\n",
      "25/25 [==============================] - 74s 3s/step - loss: 0.3770 - accuracy: 0.8438 - val_loss: 0.3532 - val_accuracy: 0.8925\n",
      "Epoch 17/60\n",
      "25/25 [==============================] - 75s 3s/step - loss: 0.3593 - accuracy: 0.8537 - val_loss: 0.5091 - val_accuracy: 0.7713\n",
      "Epoch 18/60\n",
      "25/25 [==============================] - 76s 3s/step - loss: 0.3567 - accuracy: 0.8512 - val_loss: 0.3336 - val_accuracy: 0.8687\n",
      "Epoch 19/60\n",
      "25/25 [==============================] - 74s 3s/step - loss: 0.3865 - accuracy: 0.8487 - val_loss: 0.3251 - val_accuracy: 0.8988\n",
      "Epoch 20/60\n",
      "25/25 [==============================] - 76s 3s/step - loss: 0.3470 - accuracy: 0.8550 - val_loss: 0.4510 - val_accuracy: 0.8275\n",
      "Epoch 21/60\n",
      "25/25 [==============================] - 75s 3s/step - loss: 0.3386 - accuracy: 0.8612 - val_loss: 0.3154 - val_accuracy: 0.9150\n",
      "Epoch 22/60\n",
      "25/25 [==============================] - 74s 3s/step - loss: 0.3052 - accuracy: 0.8813 - val_loss: 0.2859 - val_accuracy: 0.9062\n",
      "Epoch 23/60\n",
      "25/25 [==============================] - 73s 3s/step - loss: 0.3481 - accuracy: 0.8586 - val_loss: 0.3721 - val_accuracy: 0.8913\n",
      "Epoch 24/60\n",
      "25/25 [==============================] - 73s 3s/step - loss: 0.3629 - accuracy: 0.8625 - val_loss: 0.3922 - val_accuracy: 0.8612\n",
      "Epoch 25/60\n",
      "25/25 [==============================] - 75s 3s/step - loss: 0.3897 - accuracy: 0.8475 - val_loss: 0.4157 - val_accuracy: 0.8413\n",
      "Epoch 26/60\n",
      "25/25 [==============================] - 75s 3s/step - loss: 0.3640 - accuracy: 0.8650 - val_loss: 0.3069 - val_accuracy: 0.8925\n",
      "Epoch 27/60\n",
      "25/25 [==============================] - 74s 3s/step - loss: 0.3501 - accuracy: 0.8716 - val_loss: 0.4020 - val_accuracy: 0.8763\n",
      "Epoch 28/60\n",
      "25/25 [==============================] - 75s 3s/step - loss: 0.3541 - accuracy: 0.8638 - val_loss: 0.3077 - val_accuracy: 0.9062\n",
      "Epoch 29/60\n",
      "25/25 [==============================] - 75s 3s/step - loss: 0.3587 - accuracy: 0.8662 - val_loss: 0.3904 - val_accuracy: 0.8863\n",
      "Epoch 30/60\n",
      "25/25 [==============================] - 74s 3s/step - loss: 0.3575 - accuracy: 0.8675 - val_loss: 0.3105 - val_accuracy: 0.9075\n",
      "Epoch 31/60\n",
      "25/25 [==============================] - 75s 3s/step - loss: 0.3361 - accuracy: 0.8750 - val_loss: 0.2689 - val_accuracy: 0.9112\n",
      "Epoch 32/60\n",
      "25/25 [==============================] - 75s 3s/step - loss: 0.3329 - accuracy: 0.8875 - val_loss: 0.2999 - val_accuracy: 0.9125\n",
      "Epoch 33/60\n",
      "25/25 [==============================] - 76s 3s/step - loss: 0.3123 - accuracy: 0.8813 - val_loss: 0.4146 - val_accuracy: 0.8112\n",
      "Epoch 34/60\n",
      "25/25 [==============================] - 74s 3s/step - loss: 0.2978 - accuracy: 0.8949 - val_loss: 0.2728 - val_accuracy: 0.9100\n",
      "Epoch 35/60\n",
      "25/25 [==============================] - 74s 3s/step - loss: 0.3032 - accuracy: 0.8775 - val_loss: 0.3012 - val_accuracy: 0.8975\n",
      "Epoch 36/60\n",
      "25/25 [==============================] - 74s 3s/step - loss: 0.3041 - accuracy: 0.8700 - val_loss: 0.3068 - val_accuracy: 0.8950\n",
      "Epoch 37/60\n",
      "25/25 [==============================] - 75s 3s/step - loss: 0.2851 - accuracy: 0.8988 - val_loss: 0.4147 - val_accuracy: 0.8188\n",
      "Epoch 38/60\n",
      "25/25 [==============================] - 75s 3s/step - loss: 0.3299 - accuracy: 0.8788 - val_loss: 0.2839 - val_accuracy: 0.9100\n",
      "Epoch 39/60\n",
      "25/25 [==============================] - 73s 3s/step - loss: 0.3201 - accuracy: 0.8872 - val_loss: 0.3747 - val_accuracy: 0.8600\n",
      "Epoch 40/60\n",
      "25/25 [==============================] - 74s 3s/step - loss: 0.3705 - accuracy: 0.8537 - val_loss: 0.3945 - val_accuracy: 0.8388\n",
      "Epoch 41/60\n",
      "25/25 [==============================] - 74s 3s/step - loss: 0.3089 - accuracy: 0.8888 - val_loss: 0.3175 - val_accuracy: 0.8650\n",
      "Epoch 42/60\n",
      "25/25 [==============================] - 74s 3s/step - loss: 0.2907 - accuracy: 0.9050 - val_loss: 0.3616 - val_accuracy: 0.8675\n",
      "Epoch 43/60\n",
      "25/25 [==============================] - 74s 3s/step - loss: 0.2874 - accuracy: 0.8875 - val_loss: 0.2538 - val_accuracy: 0.9200\n",
      "Epoch 44/60\n",
      "25/25 [==============================] - 75s 3s/step - loss: 0.3067 - accuracy: 0.8763 - val_loss: 0.3479 - val_accuracy: 0.9075\n",
      "Epoch 45/60\n",
      "25/25 [==============================] - 74s 3s/step - loss: 0.3076 - accuracy: 0.8925 - val_loss: 0.3543 - val_accuracy: 0.8775\n",
      "Epoch 46/60\n",
      "25/25 [==============================] - 75s 3s/step - loss: 0.2994 - accuracy: 0.8825 - val_loss: 0.2686 - val_accuracy: 0.9250\n",
      "Epoch 47/60\n",
      "25/25 [==============================] - 74s 3s/step - loss: 0.3191 - accuracy: 0.8813 - val_loss: 0.2948 - val_accuracy: 0.9212\n",
      "Epoch 48/60\n",
      "25/25 [==============================] - 74s 3s/step - loss: 0.2593 - accuracy: 0.9050 - val_loss: 0.2376 - val_accuracy: 0.9262\n",
      "Epoch 49/60\n",
      "25/25 [==============================] - 75s 3s/step - loss: 0.3382 - accuracy: 0.8825 - val_loss: 0.3161 - val_accuracy: 0.8850\n",
      "Epoch 50/60\n",
      "25/25 [==============================] - 73s 3s/step - loss: 0.2703 - accuracy: 0.9025 - val_loss: 0.2755 - val_accuracy: 0.8888\n",
      "Epoch 51/60\n",
      "25/25 [==============================] - 74s 3s/step - loss: 0.2978 - accuracy: 0.8900 - val_loss: 0.3549 - val_accuracy: 0.8550\n",
      "Epoch 52/60\n",
      "25/25 [==============================] - 74s 3s/step - loss: 0.2887 - accuracy: 0.9025 - val_loss: 0.2571 - val_accuracy: 0.9337\n",
      "Epoch 53/60\n",
      "25/25 [==============================] - 75s 3s/step - loss: 0.2715 - accuracy: 0.9000 - val_loss: 0.2862 - val_accuracy: 0.8913\n",
      "Epoch 54/60\n",
      "25/25 [==============================] - 74s 3s/step - loss: 0.2641 - accuracy: 0.9200 - val_loss: 0.3086 - val_accuracy: 0.8900\n",
      "Epoch 55/60\n",
      "25/25 [==============================] - 74s 3s/step - loss: 0.2962 - accuracy: 0.9050 - val_loss: 0.3734 - val_accuracy: 0.8612\n",
      "Epoch 56/60\n",
      "25/25 [==============================] - 74s 3s/step - loss: 0.3008 - accuracy: 0.8900 - val_loss: 0.2896 - val_accuracy: 0.9150\n",
      "Epoch 57/60\n",
      "25/25 [==============================] - 73s 3s/step - loss: 0.2888 - accuracy: 0.8898 - val_loss: 0.2788 - val_accuracy: 0.9025\n",
      "Epoch 58/60\n",
      "25/25 [==============================] - 75s 3s/step - loss: 0.2996 - accuracy: 0.9050 - val_loss: 0.3107 - val_accuracy: 0.8888\n",
      "Epoch 59/60\n"
     ]
    },
    {
     "name": "stdout",
     "output_type": "stream",
     "text": [
      "25/25 [==============================] - 75s 3s/step - loss: 0.3010 - accuracy: 0.9013 - val_loss: 0.2990 - val_accuracy: 0.9175\n",
      "Epoch 60/60\n",
      "25/25 [==============================] - 73s 3s/step - loss: 0.2864 - accuracy: 0.8900 - val_loss: 0.2629 - val_accuracy: 0.9137\n"
     ]
    }
   ],
   "source": [
    "history_CNN5 = model_CNN5.fit_generator(train_generator3, \n",
    "                                steps_per_epoch=25, \n",
    "                                epochs=60, \n",
    "                                validation_data=val_generator3, \n",
    "                                validation_steps=25)"
   ]
  },
  {
   "cell_type": "code",
   "execution_count": 182,
   "id": "5077e059",
   "metadata": {},
   "outputs": [
    {
     "name": "stdout",
     "output_type": "stream",
     "text": [
      "Found 624 images belonging to 2 classes.\n",
      "20/20 [==============================] - 5s 227ms/step - loss: 1.7951 - accuracy: 0.4247\n"
     ]
    }
   ],
   "source": [
    "test_generator3 = ImageDataGenerator(rescale=1./255).flow_from_directory(\n",
    "        test_folder, \n",
    "        target_size=(250, 250), \n",
    "        batch_size = 624,\n",
    "        class_mode='binary') \n",
    "test_images3, test_labels3 = next(test_generator3)\n",
    "\n",
    "results_test = model_CNN5.evaluate(test_images3, test_y3)"
   ]
  },
  {
   "cell_type": "code",
   "execution_count": null,
   "id": "e2c5d8dd",
   "metadata": {},
   "outputs": [],
   "source": []
  },
  {
   "cell_type": "code",
   "execution_count": null,
   "id": "bedef9f6",
   "metadata": {},
   "outputs": [],
   "source": []
  },
  {
   "cell_type": "code",
   "execution_count": null,
   "id": "a7ca5e38",
   "metadata": {},
   "outputs": [],
   "source": []
  },
  {
   "cell_type": "code",
   "execution_count": null,
   "id": "fa6ad6fb",
   "metadata": {},
   "outputs": [],
   "source": []
  },
  {
   "cell_type": "code",
   "execution_count": null,
   "id": "6895089c",
   "metadata": {},
   "outputs": [],
   "source": []
  },
  {
   "cell_type": "markdown",
   "id": "a54df880",
   "metadata": {},
   "source": [
    "### CNN_3, shape 299 + dropout + regulization\n"
   ]
  },
  {
   "cell_type": "code",
   "execution_count": 125,
   "id": "8fa1c42c",
   "metadata": {},
   "outputs": [
    {
     "name": "stdout",
     "output_type": "stream",
     "text": [
      "Found 4963 images belonging to 2 classes.\n",
      "Found 875 images belonging to 2 classes.\n",
      "Found 624 images belonging to 2 classes.\n",
      "(4963, 268203)\n",
      "(624, 268203)\n",
      "(875, 268203)\n"
     ]
    }
   ],
   "source": [
    "# get all the data in the directory split/train, and reshape them\n",
    "train_generator_299 = ImageDataGenerator(rescale=1./255).flow_from_directory(\n",
    "        train_folder, \n",
    "        target_size=(299, 299), batch_size= train_img_number)\n",
    "\n",
    "# get all the data in the directory split/validation, and reshape them\n",
    "val_generator_299 = ImageDataGenerator(rescale=1./255).flow_from_directory(\n",
    "        val_folder, \n",
    "        target_size=(299, 299), batch_size = val_img_number)\n",
    "\n",
    "# get all the data in the directory split/test, and reshape them\n",
    "test_generator_299 = ImageDataGenerator(rescale=1./255).flow_from_directory(\n",
    "        test_folder, \n",
    "        target_size=(299, 299), batch_size = test_img_number) \n",
    "\n",
    "train_images3, train_labels3 = next(train_generator_299)\n",
    "test_images3, test_labels3 = next(test_generator_299)\n",
    "val_images3, val_labels3 = next(val_generator_299)\n",
    "\n",
    "train_img3 = train_images3.reshape(train_images3.shape[0], -1)\n",
    "test_img3 = test_images3.reshape(test_images3.shape[0], -1)\n",
    "val_img3 = val_images3.reshape(val_images3.shape[0], -1)\n",
    "\n",
    "print(train_img3.shape)\n",
    "print(test_img3.shape)\n",
    "print(val_img3.shape)\n",
    "\n"
   ]
  },
  {
   "cell_type": "code",
   "execution_count": 126,
   "id": "50453e8e",
   "metadata": {},
   "outputs": [],
   "source": [
    "train_y3 = np.reshape(train_labels3[:,0], (train_img_number,1))\n",
    "test_y3 = np.reshape(test_labels3[:,0], (test_img_number,1))\n",
    "val_y3 = np.reshape(val_labels3[:,0], (val_img_number,1))"
   ]
  },
  {
   "cell_type": "code",
   "execution_count": null,
   "id": "882a4e07",
   "metadata": {},
   "outputs": [],
   "source": [
    "from keras.applications.xception import Xception\n",
    "cnn_base = Xception(weights='imagenet',  \n",
    "                 input_shape=(299, 299, 3))\n",
    "\n"
   ]
  },
  {
   "cell_type": "code",
   "execution_count": 127,
   "id": "bf1af9d5",
   "metadata": {},
   "outputs": [],
   "source": [
    "model_X = models.Sequential()\n",
    "model_X.add(cnn_base)\n",
    "model_X.add(layers.Flatten())\n",
    "model_X.add(layers.Dense(128, activation='relu'))\n",
    "model_X.add(layers.Dropout(0.4))\n",
    "model_X.add(layers.Dense(1, activation='sigmoid'))\n",
    "cnn_base.trainable = False\n"
   ]
  },
  {
   "cell_type": "code",
   "execution_count": 128,
   "id": "c0a0c329",
   "metadata": {},
   "outputs": [],
   "source": [
    "model_X.compile(loss='binary_crossentropy',\n",
    "               optimizer=\"SGD\",\n",
    "               metrics=['accuracy'])\n"
   ]
  },
  {
   "cell_type": "code",
   "execution_count": 129,
   "id": "6e94cb52",
   "metadata": {},
   "outputs": [
    {
     "name": "stdout",
     "output_type": "stream",
     "text": [
      "Epoch 1/30\n",
      "156/156 [==============================] - 3786s 24s/step - loss: 0.6230 - accuracy: 0.7608 - val_loss: 0.5765 - val_accuracy: 0.7691\n",
      "Epoch 2/30\n",
      "156/156 [==============================] - 6901s 44s/step - loss: 0.5565 - accuracy: 0.7689 - val_loss: 0.5439 - val_accuracy: 0.7691\n",
      "Epoch 3/30\n",
      "156/156 [==============================] - 6791s 44s/step - loss: 0.5375 - accuracy: 0.7689 - val_loss: 0.5334 - val_accuracy: 0.7691\n",
      "Epoch 4/30\n",
      "156/156 [==============================] - ETA: 0s - loss: 0.5310 - accuracy: 0.7689 "
     ]
    },
    {
     "ename": "KeyboardInterrupt",
     "evalue": "",
     "output_type": "error",
     "traceback": [
      "\u001b[0;31m---------------------------------------------------------------------------\u001b[0m",
      "\u001b[0;31mKeyboardInterrupt\u001b[0m                         Traceback (most recent call last)",
      "\u001b[0;32m/var/folders/bg/b5dfn0gj1lz88k7ms283yrlm0000gn/T/ipykernel_1778/1525022931.py\u001b[0m in \u001b[0;36m<module>\u001b[0;34m\u001b[0m\n\u001b[0;32m----> 1\u001b[0;31m history_CNN5 = model_X.fit(train_images3,\n\u001b[0m\u001b[1;32m      2\u001b[0m                     \u001b[0mtrain_y3\u001b[0m\u001b[0;34m,\u001b[0m\u001b[0;34m\u001b[0m\u001b[0;34m\u001b[0m\u001b[0m\n\u001b[1;32m      3\u001b[0m                     \u001b[0mepochs\u001b[0m\u001b[0;34m=\u001b[0m\u001b[0;36m30\u001b[0m\u001b[0;34m,\u001b[0m\u001b[0;34m\u001b[0m\u001b[0;34m\u001b[0m\u001b[0m\n\u001b[1;32m      4\u001b[0m                     \u001b[0mbatch_size\u001b[0m\u001b[0;34m=\u001b[0m\u001b[0;36m32\u001b[0m\u001b[0;34m,\u001b[0m\u001b[0;34m\u001b[0m\u001b[0;34m\u001b[0m\u001b[0m\n\u001b[1;32m      5\u001b[0m                     validation_data=(val_images3, val_y3))\n",
      "\u001b[0;32m/opt/anaconda3/lib/python3.8/site-packages/keras/utils/traceback_utils.py\u001b[0m in \u001b[0;36merror_handler\u001b[0;34m(*args, **kwargs)\u001b[0m\n\u001b[1;32m     62\u001b[0m     \u001b[0mfiltered_tb\u001b[0m \u001b[0;34m=\u001b[0m \u001b[0;32mNone\u001b[0m\u001b[0;34m\u001b[0m\u001b[0;34m\u001b[0m\u001b[0m\n\u001b[1;32m     63\u001b[0m     \u001b[0;32mtry\u001b[0m\u001b[0;34m:\u001b[0m\u001b[0;34m\u001b[0m\u001b[0;34m\u001b[0m\u001b[0m\n\u001b[0;32m---> 64\u001b[0;31m       \u001b[0;32mreturn\u001b[0m \u001b[0mfn\u001b[0m\u001b[0;34m(\u001b[0m\u001b[0;34m*\u001b[0m\u001b[0margs\u001b[0m\u001b[0;34m,\u001b[0m \u001b[0;34m**\u001b[0m\u001b[0mkwargs\u001b[0m\u001b[0;34m)\u001b[0m\u001b[0;34m\u001b[0m\u001b[0;34m\u001b[0m\u001b[0m\n\u001b[0m\u001b[1;32m     65\u001b[0m     \u001b[0;32mexcept\u001b[0m \u001b[0mException\u001b[0m \u001b[0;32mas\u001b[0m \u001b[0me\u001b[0m\u001b[0;34m:\u001b[0m  \u001b[0;31m# pylint: disable=broad-except\u001b[0m\u001b[0;34m\u001b[0m\u001b[0;34m\u001b[0m\u001b[0m\n\u001b[1;32m     66\u001b[0m       \u001b[0mfiltered_tb\u001b[0m \u001b[0;34m=\u001b[0m \u001b[0m_process_traceback_frames\u001b[0m\u001b[0;34m(\u001b[0m\u001b[0me\u001b[0m\u001b[0;34m.\u001b[0m\u001b[0m__traceback__\u001b[0m\u001b[0;34m)\u001b[0m\u001b[0;34m\u001b[0m\u001b[0;34m\u001b[0m\u001b[0m\n",
      "\u001b[0;32m/opt/anaconda3/lib/python3.8/site-packages/keras/engine/training.py\u001b[0m in \u001b[0;36mfit\u001b[0;34m(self, x, y, batch_size, epochs, verbose, callbacks, validation_split, validation_data, shuffle, class_weight, sample_weight, initial_epoch, steps_per_epoch, validation_steps, validation_batch_size, validation_freq, max_queue_size, workers, use_multiprocessing)\u001b[0m\n\u001b[1;32m   1418\u001b[0m                 \u001b[0mmodel\u001b[0m\u001b[0;34m=\u001b[0m\u001b[0mself\u001b[0m\u001b[0;34m,\u001b[0m\u001b[0;34m\u001b[0m\u001b[0;34m\u001b[0m\u001b[0m\n\u001b[1;32m   1419\u001b[0m                 steps_per_execution=self._steps_per_execution)\n\u001b[0;32m-> 1420\u001b[0;31m           val_logs = self.evaluate(\n\u001b[0m\u001b[1;32m   1421\u001b[0m               \u001b[0mx\u001b[0m\u001b[0;34m=\u001b[0m\u001b[0mval_x\u001b[0m\u001b[0;34m,\u001b[0m\u001b[0;34m\u001b[0m\u001b[0;34m\u001b[0m\u001b[0m\n\u001b[1;32m   1422\u001b[0m               \u001b[0my\u001b[0m\u001b[0;34m=\u001b[0m\u001b[0mval_y\u001b[0m\u001b[0;34m,\u001b[0m\u001b[0;34m\u001b[0m\u001b[0;34m\u001b[0m\u001b[0m\n",
      "\u001b[0;32m/opt/anaconda3/lib/python3.8/site-packages/keras/utils/traceback_utils.py\u001b[0m in \u001b[0;36merror_handler\u001b[0;34m(*args, **kwargs)\u001b[0m\n\u001b[1;32m     62\u001b[0m     \u001b[0mfiltered_tb\u001b[0m \u001b[0;34m=\u001b[0m \u001b[0;32mNone\u001b[0m\u001b[0;34m\u001b[0m\u001b[0;34m\u001b[0m\u001b[0m\n\u001b[1;32m     63\u001b[0m     \u001b[0;32mtry\u001b[0m\u001b[0;34m:\u001b[0m\u001b[0;34m\u001b[0m\u001b[0;34m\u001b[0m\u001b[0m\n\u001b[0;32m---> 64\u001b[0;31m       \u001b[0;32mreturn\u001b[0m \u001b[0mfn\u001b[0m\u001b[0;34m(\u001b[0m\u001b[0;34m*\u001b[0m\u001b[0margs\u001b[0m\u001b[0;34m,\u001b[0m \u001b[0;34m**\u001b[0m\u001b[0mkwargs\u001b[0m\u001b[0;34m)\u001b[0m\u001b[0;34m\u001b[0m\u001b[0;34m\u001b[0m\u001b[0m\n\u001b[0m\u001b[1;32m     65\u001b[0m     \u001b[0;32mexcept\u001b[0m \u001b[0mException\u001b[0m \u001b[0;32mas\u001b[0m \u001b[0me\u001b[0m\u001b[0;34m:\u001b[0m  \u001b[0;31m# pylint: disable=broad-except\u001b[0m\u001b[0;34m\u001b[0m\u001b[0;34m\u001b[0m\u001b[0m\n\u001b[1;32m     66\u001b[0m       \u001b[0mfiltered_tb\u001b[0m \u001b[0;34m=\u001b[0m \u001b[0m_process_traceback_frames\u001b[0m\u001b[0;34m(\u001b[0m\u001b[0me\u001b[0m\u001b[0;34m.\u001b[0m\u001b[0m__traceback__\u001b[0m\u001b[0;34m)\u001b[0m\u001b[0;34m\u001b[0m\u001b[0;34m\u001b[0m\u001b[0m\n",
      "\u001b[0;32m/opt/anaconda3/lib/python3.8/site-packages/keras/engine/training.py\u001b[0m in \u001b[0;36mevaluate\u001b[0;34m(self, x, y, batch_size, verbose, sample_weight, steps, callbacks, max_queue_size, workers, use_multiprocessing, return_dict, **kwargs)\u001b[0m\n\u001b[1;32m   1714\u001b[0m             \u001b[0;32mwith\u001b[0m \u001b[0mtf\u001b[0m\u001b[0;34m.\u001b[0m\u001b[0mprofiler\u001b[0m\u001b[0;34m.\u001b[0m\u001b[0mexperimental\u001b[0m\u001b[0;34m.\u001b[0m\u001b[0mTrace\u001b[0m\u001b[0;34m(\u001b[0m\u001b[0;34m'test'\u001b[0m\u001b[0;34m,\u001b[0m \u001b[0mstep_num\u001b[0m\u001b[0;34m=\u001b[0m\u001b[0mstep\u001b[0m\u001b[0;34m,\u001b[0m \u001b[0m_r\u001b[0m\u001b[0;34m=\u001b[0m\u001b[0;36m1\u001b[0m\u001b[0;34m)\u001b[0m\u001b[0;34m:\u001b[0m\u001b[0;34m\u001b[0m\u001b[0;34m\u001b[0m\u001b[0m\n\u001b[1;32m   1715\u001b[0m               \u001b[0mcallbacks\u001b[0m\u001b[0;34m.\u001b[0m\u001b[0mon_test_batch_begin\u001b[0m\u001b[0;34m(\u001b[0m\u001b[0mstep\u001b[0m\u001b[0;34m)\u001b[0m\u001b[0;34m\u001b[0m\u001b[0;34m\u001b[0m\u001b[0m\n\u001b[0;32m-> 1716\u001b[0;31m               \u001b[0mtmp_logs\u001b[0m \u001b[0;34m=\u001b[0m \u001b[0mself\u001b[0m\u001b[0;34m.\u001b[0m\u001b[0mtest_function\u001b[0m\u001b[0;34m(\u001b[0m\u001b[0miterator\u001b[0m\u001b[0;34m)\u001b[0m\u001b[0;34m\u001b[0m\u001b[0;34m\u001b[0m\u001b[0m\n\u001b[0m\u001b[1;32m   1717\u001b[0m               \u001b[0;32mif\u001b[0m \u001b[0mdata_handler\u001b[0m\u001b[0;34m.\u001b[0m\u001b[0mshould_sync\u001b[0m\u001b[0;34m:\u001b[0m\u001b[0;34m\u001b[0m\u001b[0;34m\u001b[0m\u001b[0m\n\u001b[1;32m   1718\u001b[0m                 \u001b[0mcontext\u001b[0m\u001b[0;34m.\u001b[0m\u001b[0masync_wait\u001b[0m\u001b[0;34m(\u001b[0m\u001b[0;34m)\u001b[0m\u001b[0;34m\u001b[0m\u001b[0;34m\u001b[0m\u001b[0m\n",
      "\u001b[0;32m/opt/anaconda3/lib/python3.8/site-packages/tensorflow/python/util/traceback_utils.py\u001b[0m in \u001b[0;36merror_handler\u001b[0;34m(*args, **kwargs)\u001b[0m\n\u001b[1;32m    148\u001b[0m     \u001b[0mfiltered_tb\u001b[0m \u001b[0;34m=\u001b[0m \u001b[0;32mNone\u001b[0m\u001b[0;34m\u001b[0m\u001b[0;34m\u001b[0m\u001b[0m\n\u001b[1;32m    149\u001b[0m     \u001b[0;32mtry\u001b[0m\u001b[0;34m:\u001b[0m\u001b[0;34m\u001b[0m\u001b[0;34m\u001b[0m\u001b[0m\n\u001b[0;32m--> 150\u001b[0;31m       \u001b[0;32mreturn\u001b[0m \u001b[0mfn\u001b[0m\u001b[0;34m(\u001b[0m\u001b[0;34m*\u001b[0m\u001b[0margs\u001b[0m\u001b[0;34m,\u001b[0m \u001b[0;34m**\u001b[0m\u001b[0mkwargs\u001b[0m\u001b[0;34m)\u001b[0m\u001b[0;34m\u001b[0m\u001b[0;34m\u001b[0m\u001b[0m\n\u001b[0m\u001b[1;32m    151\u001b[0m     \u001b[0;32mexcept\u001b[0m \u001b[0mException\u001b[0m \u001b[0;32mas\u001b[0m \u001b[0me\u001b[0m\u001b[0;34m:\u001b[0m\u001b[0;34m\u001b[0m\u001b[0;34m\u001b[0m\u001b[0m\n\u001b[1;32m    152\u001b[0m       \u001b[0mfiltered_tb\u001b[0m \u001b[0;34m=\u001b[0m \u001b[0m_process_traceback_frames\u001b[0m\u001b[0;34m(\u001b[0m\u001b[0me\u001b[0m\u001b[0;34m.\u001b[0m\u001b[0m__traceback__\u001b[0m\u001b[0;34m)\u001b[0m\u001b[0;34m\u001b[0m\u001b[0;34m\u001b[0m\u001b[0m\n",
      "\u001b[0;32m/opt/anaconda3/lib/python3.8/site-packages/tensorflow/python/eager/def_function.py\u001b[0m in \u001b[0;36m__call__\u001b[0;34m(self, *args, **kwds)\u001b[0m\n\u001b[1;32m    913\u001b[0m \u001b[0;34m\u001b[0m\u001b[0m\n\u001b[1;32m    914\u001b[0m       \u001b[0;32mwith\u001b[0m \u001b[0mOptionalXlaContext\u001b[0m\u001b[0;34m(\u001b[0m\u001b[0mself\u001b[0m\u001b[0;34m.\u001b[0m\u001b[0m_jit_compile\u001b[0m\u001b[0;34m)\u001b[0m\u001b[0;34m:\u001b[0m\u001b[0;34m\u001b[0m\u001b[0;34m\u001b[0m\u001b[0m\n\u001b[0;32m--> 915\u001b[0;31m         \u001b[0mresult\u001b[0m \u001b[0;34m=\u001b[0m \u001b[0mself\u001b[0m\u001b[0;34m.\u001b[0m\u001b[0m_call\u001b[0m\u001b[0;34m(\u001b[0m\u001b[0;34m*\u001b[0m\u001b[0margs\u001b[0m\u001b[0;34m,\u001b[0m \u001b[0;34m**\u001b[0m\u001b[0mkwds\u001b[0m\u001b[0;34m)\u001b[0m\u001b[0;34m\u001b[0m\u001b[0;34m\u001b[0m\u001b[0m\n\u001b[0m\u001b[1;32m    916\u001b[0m \u001b[0;34m\u001b[0m\u001b[0m\n\u001b[1;32m    917\u001b[0m       \u001b[0mnew_tracing_count\u001b[0m \u001b[0;34m=\u001b[0m \u001b[0mself\u001b[0m\u001b[0;34m.\u001b[0m\u001b[0mexperimental_get_tracing_count\u001b[0m\u001b[0;34m(\u001b[0m\u001b[0;34m)\u001b[0m\u001b[0;34m\u001b[0m\u001b[0;34m\u001b[0m\u001b[0m\n",
      "\u001b[0;32m/opt/anaconda3/lib/python3.8/site-packages/tensorflow/python/eager/def_function.py\u001b[0m in \u001b[0;36m_call\u001b[0;34m(self, *args, **kwds)\u001b[0m\n\u001b[1;32m    952\u001b[0m       \u001b[0;31m# In this case we have not created variables on the first call. So we can\u001b[0m\u001b[0;34m\u001b[0m\u001b[0;34m\u001b[0m\u001b[0;34m\u001b[0m\u001b[0m\n\u001b[1;32m    953\u001b[0m       \u001b[0;31m# run the first trace but we should fail if variables are created.\u001b[0m\u001b[0;34m\u001b[0m\u001b[0;34m\u001b[0m\u001b[0;34m\u001b[0m\u001b[0m\n\u001b[0;32m--> 954\u001b[0;31m       \u001b[0mresults\u001b[0m \u001b[0;34m=\u001b[0m \u001b[0mself\u001b[0m\u001b[0;34m.\u001b[0m\u001b[0m_stateful_fn\u001b[0m\u001b[0;34m(\u001b[0m\u001b[0;34m*\u001b[0m\u001b[0margs\u001b[0m\u001b[0;34m,\u001b[0m \u001b[0;34m**\u001b[0m\u001b[0mkwds\u001b[0m\u001b[0;34m)\u001b[0m\u001b[0;34m\u001b[0m\u001b[0;34m\u001b[0m\u001b[0m\n\u001b[0m\u001b[1;32m    955\u001b[0m       \u001b[0;32mif\u001b[0m \u001b[0mself\u001b[0m\u001b[0;34m.\u001b[0m\u001b[0m_created_variables\u001b[0m \u001b[0;32mand\u001b[0m \u001b[0;32mnot\u001b[0m \u001b[0mALLOW_DYNAMIC_VARIABLE_CREATION\u001b[0m\u001b[0;34m:\u001b[0m\u001b[0;34m\u001b[0m\u001b[0;34m\u001b[0m\u001b[0m\n\u001b[1;32m    956\u001b[0m         raise ValueError(\"Creating variables on a non-first call to a function\"\n",
      "\u001b[0;32m/opt/anaconda3/lib/python3.8/site-packages/tensorflow/python/eager/function.py\u001b[0m in \u001b[0;36m__call__\u001b[0;34m(self, *args, **kwargs)\u001b[0m\n\u001b[1;32m   2954\u001b[0m       (graph_function,\n\u001b[1;32m   2955\u001b[0m        filtered_flat_args) = self._maybe_define_function(args, kwargs)\n\u001b[0;32m-> 2956\u001b[0;31m     return graph_function._call_flat(\n\u001b[0m\u001b[1;32m   2957\u001b[0m         filtered_flat_args, captured_inputs=graph_function.captured_inputs)  # pylint: disable=protected-access\n\u001b[1;32m   2958\u001b[0m \u001b[0;34m\u001b[0m\u001b[0m\n",
      "\u001b[0;32m/opt/anaconda3/lib/python3.8/site-packages/tensorflow/python/eager/function.py\u001b[0m in \u001b[0;36m_call_flat\u001b[0;34m(self, args, captured_inputs, cancellation_manager)\u001b[0m\n\u001b[1;32m   1851\u001b[0m         and executing_eagerly):\n\u001b[1;32m   1852\u001b[0m       \u001b[0;31m# No tape is watching; skip to running the function.\u001b[0m\u001b[0;34m\u001b[0m\u001b[0;34m\u001b[0m\u001b[0;34m\u001b[0m\u001b[0m\n\u001b[0;32m-> 1853\u001b[0;31m       return self._build_call_outputs(self._inference_function.call(\n\u001b[0m\u001b[1;32m   1854\u001b[0m           ctx, args, cancellation_manager=cancellation_manager))\n\u001b[1;32m   1855\u001b[0m     forward_backward = self._select_forward_and_backward_functions(\n",
      "\u001b[0;32m/opt/anaconda3/lib/python3.8/site-packages/tensorflow/python/eager/function.py\u001b[0m in \u001b[0;36mcall\u001b[0;34m(self, ctx, args, cancellation_manager)\u001b[0m\n\u001b[1;32m    497\u001b[0m       \u001b[0;32mwith\u001b[0m \u001b[0m_InterpolateFunctionError\u001b[0m\u001b[0;34m(\u001b[0m\u001b[0mself\u001b[0m\u001b[0;34m)\u001b[0m\u001b[0;34m:\u001b[0m\u001b[0;34m\u001b[0m\u001b[0;34m\u001b[0m\u001b[0m\n\u001b[1;32m    498\u001b[0m         \u001b[0;32mif\u001b[0m \u001b[0mcancellation_manager\u001b[0m \u001b[0;32mis\u001b[0m \u001b[0;32mNone\u001b[0m\u001b[0;34m:\u001b[0m\u001b[0;34m\u001b[0m\u001b[0;34m\u001b[0m\u001b[0m\n\u001b[0;32m--> 499\u001b[0;31m           outputs = execute.execute(\n\u001b[0m\u001b[1;32m    500\u001b[0m               \u001b[0mstr\u001b[0m\u001b[0;34m(\u001b[0m\u001b[0mself\u001b[0m\u001b[0;34m.\u001b[0m\u001b[0msignature\u001b[0m\u001b[0;34m.\u001b[0m\u001b[0mname\u001b[0m\u001b[0;34m)\u001b[0m\u001b[0;34m,\u001b[0m\u001b[0;34m\u001b[0m\u001b[0;34m\u001b[0m\u001b[0m\n\u001b[1;32m    501\u001b[0m               \u001b[0mnum_outputs\u001b[0m\u001b[0;34m=\u001b[0m\u001b[0mself\u001b[0m\u001b[0;34m.\u001b[0m\u001b[0m_num_outputs\u001b[0m\u001b[0;34m,\u001b[0m\u001b[0;34m\u001b[0m\u001b[0;34m\u001b[0m\u001b[0m\n",
      "\u001b[0;32m/opt/anaconda3/lib/python3.8/site-packages/tensorflow/python/eager/execute.py\u001b[0m in \u001b[0;36mquick_execute\u001b[0;34m(op_name, num_outputs, inputs, attrs, ctx, name)\u001b[0m\n\u001b[1;32m     52\u001b[0m   \u001b[0;32mtry\u001b[0m\u001b[0;34m:\u001b[0m\u001b[0;34m\u001b[0m\u001b[0;34m\u001b[0m\u001b[0m\n\u001b[1;32m     53\u001b[0m     \u001b[0mctx\u001b[0m\u001b[0;34m.\u001b[0m\u001b[0mensure_initialized\u001b[0m\u001b[0;34m(\u001b[0m\u001b[0;34m)\u001b[0m\u001b[0;34m\u001b[0m\u001b[0;34m\u001b[0m\u001b[0m\n\u001b[0;32m---> 54\u001b[0;31m     tensors = pywrap_tfe.TFE_Py_Execute(ctx._handle, device_name, op_name,\n\u001b[0m\u001b[1;32m     55\u001b[0m                                         inputs, attrs, num_outputs)\n\u001b[1;32m     56\u001b[0m   \u001b[0;32mexcept\u001b[0m \u001b[0mcore\u001b[0m\u001b[0;34m.\u001b[0m\u001b[0m_NotOkStatusException\u001b[0m \u001b[0;32mas\u001b[0m \u001b[0me\u001b[0m\u001b[0;34m:\u001b[0m\u001b[0;34m\u001b[0m\u001b[0;34m\u001b[0m\u001b[0m\n",
      "\u001b[0;31mKeyboardInterrupt\u001b[0m: "
     ]
    }
   ],
   "source": [
    "history_CNN5 = model_X.fit(train_images3,\n",
    "                    train_y3,\n",
    "                    epochs=30,\n",
    "                    batch_size=32,\n",
    "                    validation_data=(val_images3, val_y3))"
   ]
  },
  {
   "cell_type": "code",
   "execution_count": 97,
   "id": "fcfe2517",
   "metadata": {},
   "outputs": [
    {
     "name": "stdout",
     "output_type": "stream",
     "text": [
      "Model: \"xception\"\n",
      "__________________________________________________________________________________________________\n",
      " Layer (type)                   Output Shape         Param #     Connected to                     \n",
      "==================================================================================================\n",
      " input_3 (InputLayer)           [(None, 299, 299, 3  0           []                               \n",
      "                                )]                                                                \n",
      "                                                                                                  \n",
      " block1_conv1 (Conv2D)          (None, 149, 149, 32  864         ['input_3[0][0]']                \n",
      "                                )                                                                 \n",
      "                                                                                                  \n",
      " block1_conv1_bn (BatchNormaliz  (None, 149, 149, 32  128        ['block1_conv1[0][0]']           \n",
      " ation)                         )                                                                 \n",
      "                                                                                                  \n",
      " block1_conv1_act (Activation)  (None, 149, 149, 32  0           ['block1_conv1_bn[0][0]']        \n",
      "                                )                                                                 \n",
      "                                                                                                  \n",
      " block1_conv2 (Conv2D)          (None, 147, 147, 64  18432       ['block1_conv1_act[0][0]']       \n",
      "                                )                                                                 \n",
      "                                                                                                  \n",
      " block1_conv2_bn (BatchNormaliz  (None, 147, 147, 64  256        ['block1_conv2[0][0]']           \n",
      " ation)                         )                                                                 \n",
      "                                                                                                  \n",
      " block1_conv2_act (Activation)  (None, 147, 147, 64  0           ['block1_conv2_bn[0][0]']        \n",
      "                                )                                                                 \n",
      "                                                                                                  \n",
      " block2_sepconv1 (SeparableConv  (None, 147, 147, 12  8768       ['block1_conv2_act[0][0]']       \n",
      " 2D)                            8)                                                                \n",
      "                                                                                                  \n",
      " block2_sepconv1_bn (BatchNorma  (None, 147, 147, 12  512        ['block2_sepconv1[0][0]']        \n",
      " lization)                      8)                                                                \n",
      "                                                                                                  \n",
      " block2_sepconv2_act (Activatio  (None, 147, 147, 12  0          ['block2_sepconv1_bn[0][0]']     \n",
      " n)                             8)                                                                \n",
      "                                                                                                  \n",
      " block2_sepconv2 (SeparableConv  (None, 147, 147, 12  17536      ['block2_sepconv2_act[0][0]']    \n",
      " 2D)                            8)                                                                \n",
      "                                                                                                  \n",
      " block2_sepconv2_bn (BatchNorma  (None, 147, 147, 12  512        ['block2_sepconv2[0][0]']        \n",
      " lization)                      8)                                                                \n",
      "                                                                                                  \n",
      " conv2d_20 (Conv2D)             (None, 74, 74, 128)  8192        ['block1_conv2_act[0][0]']       \n",
      "                                                                                                  \n",
      " block2_pool (MaxPooling2D)     (None, 74, 74, 128)  0           ['block2_sepconv2_bn[0][0]']     \n",
      "                                                                                                  \n",
      " batch_normalization_8 (BatchNo  (None, 74, 74, 128)  512        ['conv2d_20[0][0]']              \n",
      " rmalization)                                                                                     \n",
      "                                                                                                  \n",
      " add_24 (Add)                   (None, 74, 74, 128)  0           ['block2_pool[0][0]',            \n",
      "                                                                  'batch_normalization_8[0][0]']  \n",
      "                                                                                                  \n",
      " block3_sepconv1_act (Activatio  (None, 74, 74, 128)  0          ['add_24[0][0]']                 \n",
      " n)                                                                                               \n",
      "                                                                                                  \n",
      " block3_sepconv1 (SeparableConv  (None, 74, 74, 256)  33920      ['block3_sepconv1_act[0][0]']    \n",
      " 2D)                                                                                              \n",
      "                                                                                                  \n",
      " block3_sepconv1_bn (BatchNorma  (None, 74, 74, 256)  1024       ['block3_sepconv1[0][0]']        \n",
      " lization)                                                                                        \n",
      "                                                                                                  \n",
      " block3_sepconv2_act (Activatio  (None, 74, 74, 256)  0          ['block3_sepconv1_bn[0][0]']     \n",
      " n)                                                                                               \n",
      "                                                                                                  \n",
      " block3_sepconv2 (SeparableConv  (None, 74, 74, 256)  67840      ['block3_sepconv2_act[0][0]']    \n",
      " 2D)                                                                                              \n",
      "                                                                                                  \n",
      " block3_sepconv2_bn (BatchNorma  (None, 74, 74, 256)  1024       ['block3_sepconv2[0][0]']        \n",
      " lization)                                                                                        \n",
      "                                                                                                  \n",
      " conv2d_21 (Conv2D)             (None, 37, 37, 256)  32768       ['add_24[0][0]']                 \n",
      "                                                                                                  \n",
      " block3_pool (MaxPooling2D)     (None, 37, 37, 256)  0           ['block3_sepconv2_bn[0][0]']     \n",
      "                                                                                                  \n",
      " batch_normalization_9 (BatchNo  (None, 37, 37, 256)  1024       ['conv2d_21[0][0]']              \n",
      " rmalization)                                                                                     \n",
      "                                                                                                  \n",
      " add_25 (Add)                   (None, 37, 37, 256)  0           ['block3_pool[0][0]',            \n",
      "                                                                  'batch_normalization_9[0][0]']  \n",
      "                                                                                                  \n",
      " block4_sepconv1_act (Activatio  (None, 37, 37, 256)  0          ['add_25[0][0]']                 \n",
      " n)                                                                                               \n",
      "                                                                                                  \n",
      " block4_sepconv1 (SeparableConv  (None, 37, 37, 728)  188672     ['block4_sepconv1_act[0][0]']    \n",
      " 2D)                                                                                              \n",
      "                                                                                                  \n"
     ]
    },
    {
     "name": "stdout",
     "output_type": "stream",
     "text": [
      " block4_sepconv1_bn (BatchNorma  (None, 37, 37, 728)  2912       ['block4_sepconv1[0][0]']        \n",
      " lization)                                                                                        \n",
      "                                                                                                  \n",
      " block4_sepconv2_act (Activatio  (None, 37, 37, 728)  0          ['block4_sepconv1_bn[0][0]']     \n",
      " n)                                                                                               \n",
      "                                                                                                  \n",
      " block4_sepconv2 (SeparableConv  (None, 37, 37, 728)  536536     ['block4_sepconv2_act[0][0]']    \n",
      " 2D)                                                                                              \n",
      "                                                                                                  \n",
      " block4_sepconv2_bn (BatchNorma  (None, 37, 37, 728)  2912       ['block4_sepconv2[0][0]']        \n",
      " lization)                                                                                        \n",
      "                                                                                                  \n",
      " conv2d_22 (Conv2D)             (None, 19, 19, 728)  186368      ['add_25[0][0]']                 \n",
      "                                                                                                  \n",
      " block4_pool (MaxPooling2D)     (None, 19, 19, 728)  0           ['block4_sepconv2_bn[0][0]']     \n",
      "                                                                                                  \n",
      " batch_normalization_10 (BatchN  (None, 19, 19, 728)  2912       ['conv2d_22[0][0]']              \n",
      " ormalization)                                                                                    \n",
      "                                                                                                  \n",
      " add_26 (Add)                   (None, 19, 19, 728)  0           ['block4_pool[0][0]',            \n",
      "                                                                  'batch_normalization_10[0][0]'] \n",
      "                                                                                                  \n",
      " block5_sepconv1_act (Activatio  (None, 19, 19, 728)  0          ['add_26[0][0]']                 \n",
      " n)                                                                                               \n",
      "                                                                                                  \n",
      " block5_sepconv1 (SeparableConv  (None, 19, 19, 728)  536536     ['block5_sepconv1_act[0][0]']    \n",
      " 2D)                                                                                              \n",
      "                                                                                                  \n",
      " block5_sepconv1_bn (BatchNorma  (None, 19, 19, 728)  2912       ['block5_sepconv1[0][0]']        \n",
      " lization)                                                                                        \n",
      "                                                                                                  \n",
      " block5_sepconv2_act (Activatio  (None, 19, 19, 728)  0          ['block5_sepconv1_bn[0][0]']     \n",
      " n)                                                                                               \n",
      "                                                                                                  \n",
      " block5_sepconv2 (SeparableConv  (None, 19, 19, 728)  536536     ['block5_sepconv2_act[0][0]']    \n",
      " 2D)                                                                                              \n",
      "                                                                                                  \n",
      " block5_sepconv2_bn (BatchNorma  (None, 19, 19, 728)  2912       ['block5_sepconv2[0][0]']        \n",
      " lization)                                                                                        \n",
      "                                                                                                  \n",
      " block5_sepconv3_act (Activatio  (None, 19, 19, 728)  0          ['block5_sepconv2_bn[0][0]']     \n",
      " n)                                                                                               \n",
      "                                                                                                  \n",
      " block5_sepconv3 (SeparableConv  (None, 19, 19, 728)  536536     ['block5_sepconv3_act[0][0]']    \n",
      " 2D)                                                                                              \n",
      "                                                                                                  \n",
      " block5_sepconv3_bn (BatchNorma  (None, 19, 19, 728)  2912       ['block5_sepconv3[0][0]']        \n",
      " lization)                                                                                        \n",
      "                                                                                                  \n",
      " add_27 (Add)                   (None, 19, 19, 728)  0           ['block5_sepconv3_bn[0][0]',     \n",
      "                                                                  'add_26[0][0]']                 \n",
      "                                                                                                  \n",
      " block6_sepconv1_act (Activatio  (None, 19, 19, 728)  0          ['add_27[0][0]']                 \n",
      " n)                                                                                               \n",
      "                                                                                                  \n",
      " block6_sepconv1 (SeparableConv  (None, 19, 19, 728)  536536     ['block6_sepconv1_act[0][0]']    \n",
      " 2D)                                                                                              \n",
      "                                                                                                  \n",
      " block6_sepconv1_bn (BatchNorma  (None, 19, 19, 728)  2912       ['block6_sepconv1[0][0]']        \n",
      " lization)                                                                                        \n",
      "                                                                                                  \n",
      " block6_sepconv2_act (Activatio  (None, 19, 19, 728)  0          ['block6_sepconv1_bn[0][0]']     \n",
      " n)                                                                                               \n",
      "                                                                                                  \n",
      " block6_sepconv2 (SeparableConv  (None, 19, 19, 728)  536536     ['block6_sepconv2_act[0][0]']    \n",
      " 2D)                                                                                              \n",
      "                                                                                                  \n",
      " block6_sepconv2_bn (BatchNorma  (None, 19, 19, 728)  2912       ['block6_sepconv2[0][0]']        \n",
      " lization)                                                                                        \n",
      "                                                                                                  \n",
      " block6_sepconv3_act (Activatio  (None, 19, 19, 728)  0          ['block6_sepconv2_bn[0][0]']     \n",
      " n)                                                                                               \n",
      "                                                                                                  \n",
      " block6_sepconv3 (SeparableConv  (None, 19, 19, 728)  536536     ['block6_sepconv3_act[0][0]']    \n",
      " 2D)                                                                                              \n",
      "                                                                                                  \n",
      " block6_sepconv3_bn (BatchNorma  (None, 19, 19, 728)  2912       ['block6_sepconv3[0][0]']        \n",
      " lization)                                                                                        \n",
      "                                                                                                  \n",
      " add_28 (Add)                   (None, 19, 19, 728)  0           ['block6_sepconv3_bn[0][0]',     \n",
      "                                                                  'add_27[0][0]']                 \n",
      "                                                                                                  \n",
      " block7_sepconv1_act (Activatio  (None, 19, 19, 728)  0          ['add_28[0][0]']                 \n"
     ]
    },
    {
     "name": "stdout",
     "output_type": "stream",
     "text": [
      " n)                                                                                               \n",
      "                                                                                                  \n",
      " block7_sepconv1 (SeparableConv  (None, 19, 19, 728)  536536     ['block7_sepconv1_act[0][0]']    \n",
      " 2D)                                                                                              \n",
      "                                                                                                  \n",
      " block7_sepconv1_bn (BatchNorma  (None, 19, 19, 728)  2912       ['block7_sepconv1[0][0]']        \n",
      " lization)                                                                                        \n",
      "                                                                                                  \n",
      " block7_sepconv2_act (Activatio  (None, 19, 19, 728)  0          ['block7_sepconv1_bn[0][0]']     \n",
      " n)                                                                                               \n",
      "                                                                                                  \n",
      " block7_sepconv2 (SeparableConv  (None, 19, 19, 728)  536536     ['block7_sepconv2_act[0][0]']    \n",
      " 2D)                                                                                              \n",
      "                                                                                                  \n",
      " block7_sepconv2_bn (BatchNorma  (None, 19, 19, 728)  2912       ['block7_sepconv2[0][0]']        \n",
      " lization)                                                                                        \n",
      "                                                                                                  \n",
      " block7_sepconv3_act (Activatio  (None, 19, 19, 728)  0          ['block7_sepconv2_bn[0][0]']     \n",
      " n)                                                                                               \n",
      "                                                                                                  \n",
      " block7_sepconv3 (SeparableConv  (None, 19, 19, 728)  536536     ['block7_sepconv3_act[0][0]']    \n",
      " 2D)                                                                                              \n",
      "                                                                                                  \n",
      " block7_sepconv3_bn (BatchNorma  (None, 19, 19, 728)  2912       ['block7_sepconv3[0][0]']        \n",
      " lization)                                                                                        \n",
      "                                                                                                  \n",
      " add_29 (Add)                   (None, 19, 19, 728)  0           ['block7_sepconv3_bn[0][0]',     \n",
      "                                                                  'add_28[0][0]']                 \n",
      "                                                                                                  \n",
      " block8_sepconv1_act (Activatio  (None, 19, 19, 728)  0          ['add_29[0][0]']                 \n",
      " n)                                                                                               \n",
      "                                                                                                  \n",
      " block8_sepconv1 (SeparableConv  (None, 19, 19, 728)  536536     ['block8_sepconv1_act[0][0]']    \n",
      " 2D)                                                                                              \n",
      "                                                                                                  \n",
      " block8_sepconv1_bn (BatchNorma  (None, 19, 19, 728)  2912       ['block8_sepconv1[0][0]']        \n",
      " lization)                                                                                        \n",
      "                                                                                                  \n",
      " block8_sepconv2_act (Activatio  (None, 19, 19, 728)  0          ['block8_sepconv1_bn[0][0]']     \n",
      " n)                                                                                               \n",
      "                                                                                                  \n",
      " block8_sepconv2 (SeparableConv  (None, 19, 19, 728)  536536     ['block8_sepconv2_act[0][0]']    \n",
      " 2D)                                                                                              \n",
      "                                                                                                  \n",
      " block8_sepconv2_bn (BatchNorma  (None, 19, 19, 728)  2912       ['block8_sepconv2[0][0]']        \n",
      " lization)                                                                                        \n",
      "                                                                                                  \n",
      " block8_sepconv3_act (Activatio  (None, 19, 19, 728)  0          ['block8_sepconv2_bn[0][0]']     \n",
      " n)                                                                                               \n",
      "                                                                                                  \n",
      " block8_sepconv3 (SeparableConv  (None, 19, 19, 728)  536536     ['block8_sepconv3_act[0][0]']    \n",
      " 2D)                                                                                              \n",
      "                                                                                                  \n",
      " block8_sepconv3_bn (BatchNorma  (None, 19, 19, 728)  2912       ['block8_sepconv3[0][0]']        \n",
      " lization)                                                                                        \n",
      "                                                                                                  \n",
      " add_30 (Add)                   (None, 19, 19, 728)  0           ['block8_sepconv3_bn[0][0]',     \n",
      "                                                                  'add_29[0][0]']                 \n",
      "                                                                                                  \n",
      " block9_sepconv1_act (Activatio  (None, 19, 19, 728)  0          ['add_30[0][0]']                 \n",
      " n)                                                                                               \n",
      "                                                                                                  \n",
      " block9_sepconv1 (SeparableConv  (None, 19, 19, 728)  536536     ['block9_sepconv1_act[0][0]']    \n",
      " 2D)                                                                                              \n",
      "                                                                                                  \n",
      " block9_sepconv1_bn (BatchNorma  (None, 19, 19, 728)  2912       ['block9_sepconv1[0][0]']        \n",
      " lization)                                                                                        \n",
      "                                                                                                  \n",
      " block9_sepconv2_act (Activatio  (None, 19, 19, 728)  0          ['block9_sepconv1_bn[0][0]']     \n",
      " n)                                                                                               \n",
      "                                                                                                  \n",
      " block9_sepconv2 (SeparableConv  (None, 19, 19, 728)  536536     ['block9_sepconv2_act[0][0]']    \n",
      " 2D)                                                                                              \n",
      "                                                                                                  \n",
      " block9_sepconv2_bn (BatchNorma  (None, 19, 19, 728)  2912       ['block9_sepconv2[0][0]']        \n",
      " lization)                                                                                        \n",
      "                                                                                                  \n",
      " block9_sepconv3_act (Activatio  (None, 19, 19, 728)  0          ['block9_sepconv2_bn[0][0]']     \n",
      " n)                                                                                               \n",
      "                                                                                                  \n",
      " block9_sepconv3 (SeparableConv  (None, 19, 19, 728)  536536     ['block9_sepconv3_act[0][0]']    \n",
      " 2D)                                                                                              \n",
      "                                                                                                  \n"
     ]
    },
    {
     "name": "stdout",
     "output_type": "stream",
     "text": [
      " block9_sepconv3_bn (BatchNorma  (None, 19, 19, 728)  2912       ['block9_sepconv3[0][0]']        \n",
      " lization)                                                                                        \n",
      "                                                                                                  \n",
      " add_31 (Add)                   (None, 19, 19, 728)  0           ['block9_sepconv3_bn[0][0]',     \n",
      "                                                                  'add_30[0][0]']                 \n",
      "                                                                                                  \n",
      " block10_sepconv1_act (Activati  (None, 19, 19, 728)  0          ['add_31[0][0]']                 \n",
      " on)                                                                                              \n",
      "                                                                                                  \n",
      " block10_sepconv1 (SeparableCon  (None, 19, 19, 728)  536536     ['block10_sepconv1_act[0][0]']   \n",
      " v2D)                                                                                             \n",
      "                                                                                                  \n",
      " block10_sepconv1_bn (BatchNorm  (None, 19, 19, 728)  2912       ['block10_sepconv1[0][0]']       \n",
      " alization)                                                                                       \n",
      "                                                                                                  \n",
      " block10_sepconv2_act (Activati  (None, 19, 19, 728)  0          ['block10_sepconv1_bn[0][0]']    \n",
      " on)                                                                                              \n",
      "                                                                                                  \n",
      " block10_sepconv2 (SeparableCon  (None, 19, 19, 728)  536536     ['block10_sepconv2_act[0][0]']   \n",
      " v2D)                                                                                             \n",
      "                                                                                                  \n",
      " block10_sepconv2_bn (BatchNorm  (None, 19, 19, 728)  2912       ['block10_sepconv2[0][0]']       \n",
      " alization)                                                                                       \n",
      "                                                                                                  \n",
      " block10_sepconv3_act (Activati  (None, 19, 19, 728)  0          ['block10_sepconv2_bn[0][0]']    \n",
      " on)                                                                                              \n",
      "                                                                                                  \n",
      " block10_sepconv3 (SeparableCon  (None, 19, 19, 728)  536536     ['block10_sepconv3_act[0][0]']   \n",
      " v2D)                                                                                             \n",
      "                                                                                                  \n",
      " block10_sepconv3_bn (BatchNorm  (None, 19, 19, 728)  2912       ['block10_sepconv3[0][0]']       \n",
      " alization)                                                                                       \n",
      "                                                                                                  \n",
      " add_32 (Add)                   (None, 19, 19, 728)  0           ['block10_sepconv3_bn[0][0]',    \n",
      "                                                                  'add_31[0][0]']                 \n",
      "                                                                                                  \n",
      " block11_sepconv1_act (Activati  (None, 19, 19, 728)  0          ['add_32[0][0]']                 \n",
      " on)                                                                                              \n",
      "                                                                                                  \n",
      " block11_sepconv1 (SeparableCon  (None, 19, 19, 728)  536536     ['block11_sepconv1_act[0][0]']   \n",
      " v2D)                                                                                             \n",
      "                                                                                                  \n",
      " block11_sepconv1_bn (BatchNorm  (None, 19, 19, 728)  2912       ['block11_sepconv1[0][0]']       \n",
      " alization)                                                                                       \n",
      "                                                                                                  \n",
      " block11_sepconv2_act (Activati  (None, 19, 19, 728)  0          ['block11_sepconv1_bn[0][0]']    \n",
      " on)                                                                                              \n",
      "                                                                                                  \n",
      " block11_sepconv2 (SeparableCon  (None, 19, 19, 728)  536536     ['block11_sepconv2_act[0][0]']   \n",
      " v2D)                                                                                             \n",
      "                                                                                                  \n",
      " block11_sepconv2_bn (BatchNorm  (None, 19, 19, 728)  2912       ['block11_sepconv2[0][0]']       \n",
      " alization)                                                                                       \n",
      "                                                                                                  \n",
      " block11_sepconv3_act (Activati  (None, 19, 19, 728)  0          ['block11_sepconv2_bn[0][0]']    \n",
      " on)                                                                                              \n",
      "                                                                                                  \n",
      " block11_sepconv3 (SeparableCon  (None, 19, 19, 728)  536536     ['block11_sepconv3_act[0][0]']   \n",
      " v2D)                                                                                             \n",
      "                                                                                                  \n",
      " block11_sepconv3_bn (BatchNorm  (None, 19, 19, 728)  2912       ['block11_sepconv3[0][0]']       \n",
      " alization)                                                                                       \n",
      "                                                                                                  \n",
      " add_33 (Add)                   (None, 19, 19, 728)  0           ['block11_sepconv3_bn[0][0]',    \n",
      "                                                                  'add_32[0][0]']                 \n",
      "                                                                                                  \n",
      " block12_sepconv1_act (Activati  (None, 19, 19, 728)  0          ['add_33[0][0]']                 \n",
      " on)                                                                                              \n",
      "                                                                                                  \n",
      " block12_sepconv1 (SeparableCon  (None, 19, 19, 728)  536536     ['block12_sepconv1_act[0][0]']   \n",
      " v2D)                                                                                             \n",
      "                                                                                                  \n",
      " block12_sepconv1_bn (BatchNorm  (None, 19, 19, 728)  2912       ['block12_sepconv1[0][0]']       \n",
      " alization)                                                                                       \n",
      "                                                                                                  \n",
      " block12_sepconv2_act (Activati  (None, 19, 19, 728)  0          ['block12_sepconv1_bn[0][0]']    \n",
      " on)                                                                                              \n",
      "                                                                                                  \n",
      " block12_sepconv2 (SeparableCon  (None, 19, 19, 728)  536536     ['block12_sepconv2_act[0][0]']   \n",
      " v2D)                                                                                             \n",
      "                                                                                                  \n",
      " block12_sepconv2_bn (BatchNorm  (None, 19, 19, 728)  2912       ['block12_sepconv2[0][0]']       \n",
      " alization)                                                                                       \n"
     ]
    },
    {
     "name": "stdout",
     "output_type": "stream",
     "text": [
      "                                                                                                  \n",
      " block12_sepconv3_act (Activati  (None, 19, 19, 728)  0          ['block12_sepconv2_bn[0][0]']    \n",
      " on)                                                                                              \n",
      "                                                                                                  \n",
      " block12_sepconv3 (SeparableCon  (None, 19, 19, 728)  536536     ['block12_sepconv3_act[0][0]']   \n",
      " v2D)                                                                                             \n",
      "                                                                                                  \n",
      " block12_sepconv3_bn (BatchNorm  (None, 19, 19, 728)  2912       ['block12_sepconv3[0][0]']       \n",
      " alization)                                                                                       \n",
      "                                                                                                  \n",
      " add_34 (Add)                   (None, 19, 19, 728)  0           ['block12_sepconv3_bn[0][0]',    \n",
      "                                                                  'add_33[0][0]']                 \n",
      "                                                                                                  \n",
      " block13_sepconv1_act (Activati  (None, 19, 19, 728)  0          ['add_34[0][0]']                 \n",
      " on)                                                                                              \n",
      "                                                                                                  \n",
      " block13_sepconv1 (SeparableCon  (None, 19, 19, 728)  536536     ['block13_sepconv1_act[0][0]']   \n",
      " v2D)                                                                                             \n",
      "                                                                                                  \n",
      " block13_sepconv1_bn (BatchNorm  (None, 19, 19, 728)  2912       ['block13_sepconv1[0][0]']       \n",
      " alization)                                                                                       \n",
      "                                                                                                  \n",
      " block13_sepconv2_act (Activati  (None, 19, 19, 728)  0          ['block13_sepconv1_bn[0][0]']    \n",
      " on)                                                                                              \n",
      "                                                                                                  \n",
      " block13_sepconv2 (SeparableCon  (None, 19, 19, 1024  752024     ['block13_sepconv2_act[0][0]']   \n",
      " v2D)                           )                                                                 \n",
      "                                                                                                  \n",
      " block13_sepconv2_bn (BatchNorm  (None, 19, 19, 1024  4096       ['block13_sepconv2[0][0]']       \n",
      " alization)                     )                                                                 \n",
      "                                                                                                  \n",
      " conv2d_23 (Conv2D)             (None, 10, 10, 1024  745472      ['add_34[0][0]']                 \n",
      "                                )                                                                 \n",
      "                                                                                                  \n",
      " block13_pool (MaxPooling2D)    (None, 10, 10, 1024  0           ['block13_sepconv2_bn[0][0]']    \n",
      "                                )                                                                 \n",
      "                                                                                                  \n",
      " batch_normalization_11 (BatchN  (None, 10, 10, 1024  4096       ['conv2d_23[0][0]']              \n",
      " ormalization)                  )                                                                 \n",
      "                                                                                                  \n",
      " add_35 (Add)                   (None, 10, 10, 1024  0           ['block13_pool[0][0]',           \n",
      "                                )                                 'batch_normalization_11[0][0]'] \n",
      "                                                                                                  \n",
      " block14_sepconv1 (SeparableCon  (None, 10, 10, 1536  1582080    ['add_35[0][0]']                 \n",
      " v2D)                           )                                                                 \n",
      "                                                                                                  \n",
      " block14_sepconv1_bn (BatchNorm  (None, 10, 10, 1536  6144       ['block14_sepconv1[0][0]']       \n",
      " alization)                     )                                                                 \n",
      "                                                                                                  \n",
      " block14_sepconv1_act (Activati  (None, 10, 10, 1536  0          ['block14_sepconv1_bn[0][0]']    \n",
      " on)                            )                                                                 \n",
      "                                                                                                  \n",
      " block14_sepconv2 (SeparableCon  (None, 10, 10, 2048  3159552    ['block14_sepconv1_act[0][0]']   \n",
      " v2D)                           )                                                                 \n",
      "                                                                                                  \n",
      " block14_sepconv2_bn (BatchNorm  (None, 10, 10, 2048  8192       ['block14_sepconv2[0][0]']       \n",
      " alization)                     )                                                                 \n",
      "                                                                                                  \n",
      " block14_sepconv2_act (Activati  (None, 10, 10, 2048  0          ['block14_sepconv2_bn[0][0]']    \n",
      " on)                            )                                                                 \n",
      "                                                                                                  \n",
      " avg_pool (GlobalAveragePooling  (None, 2048)        0           ['block14_sepconv2_act[0][0]']   \n",
      " 2D)                                                                                              \n",
      "                                                                                                  \n",
      " predictions (Dense)            (None, 1000)         2049000     ['avg_pool[0][0]']               \n",
      "                                                                                                  \n",
      "==================================================================================================\n",
      "Total params: 22,910,480\n",
      "Trainable params: 0\n",
      "Non-trainable params: 22,910,480\n",
      "__________________________________________________________________________________________________\n"
     ]
    }
   ],
   "source": [
    "cnn_base.summary()"
   ]
  },
  {
   "cell_type": "code",
   "execution_count": 104,
   "id": "6cc92f08",
   "metadata": {},
   "outputs": [
    {
     "ename": "NameError",
     "evalue": "name 'history_CNN5' is not defined",
     "output_type": "error",
     "traceback": [
      "\u001b[0;31m---------------------------------------------------------------------------\u001b[0m",
      "\u001b[0;31mNameError\u001b[0m                                 Traceback (most recent call last)",
      "\u001b[0;32m/var/folders/bg/b5dfn0gj1lz88k7ms283yrlm0000gn/T/ipykernel_1778/983025781.py\u001b[0m in \u001b[0;36m<module>\u001b[0;34m\u001b[0m\n\u001b[0;32m----> 1\u001b[0;31m \u001b[0mresults_test\u001b[0m \u001b[0;34m=\u001b[0m \u001b[0mhistory_CNN5\u001b[0m\u001b[0;34m.\u001b[0m\u001b[0mevaluate\u001b[0m\u001b[0;34m(\u001b[0m\u001b[0mtest_images3\u001b[0m\u001b[0;34m,\u001b[0m \u001b[0mtest_y3\u001b[0m\u001b[0;34m)\u001b[0m\u001b[0;34m\u001b[0m\u001b[0;34m\u001b[0m\u001b[0m\n\u001b[0m",
      "\u001b[0;31mNameError\u001b[0m: name 'history_CNN5' is not defined"
     ]
    }
   ],
   "source": [
    "results_test = history_CNN5.evaluate(test_images3, test_y3)"
   ]
  },
  {
   "cell_type": "markdown",
   "id": "882dbf35",
   "metadata": {},
   "source": [
    "### Data Augmentation"
   ]
  },
  {
   "cell_type": "code",
   "execution_count": 121,
   "id": "474fb05d",
   "metadata": {},
   "outputs": [],
   "source": [
    "model_X2 = models.Sequential()\n",
    "model_X2.add(cnn_base)\n",
    "model_X2.add(layers.Flatten())\n",
    "model_X2.add(layers.Dense(128, activation='relu'))\n",
    "model_X2.add(layers.Dropout(0.4))\n",
    "model_X2.add(layers.Dense(1, activation='sigmoid'))\n",
    "cnn_base.trainable = False\n",
    "model_X2.compile(loss='binary_crossentropy',\n",
    "               optimizer=\"SGD\",\n",
    "               metrics=['accuracy'])\n"
   ]
  },
  {
   "cell_type": "code",
   "execution_count": 136,
   "id": "39a74974",
   "metadata": {},
   "outputs": [],
   "source": [
    "train_datagen = ImageDataGenerator(rescale=1./255, \n",
    "                                   rotation_range=60, \n",
    "                                   width_shift_range=0.2, \n",
    "                                   height_shift_range=0.2, \n",
    "                                   shear_range=0.3, \n",
    "                                   zoom_range=0.1, \n",
    "                                   horizontal_flip=False)"
   ]
  },
  {
   "cell_type": "code",
   "execution_count": 137,
   "id": "9626ec44",
   "metadata": {},
   "outputs": [
    {
     "name": "stdout",
     "output_type": "stream",
     "text": [
      "Found 624 images belonging to 2 classes.\n",
      "Found 875 images belonging to 2 classes.\n",
      "Found 4963 images belonging to 2 classes.\n"
     ]
    }
   ],
   "source": [
    "test_generator2 = ImageDataGenerator(rescale=1./255).flow_from_directory(\n",
    "        test_folder, \n",
    "        target_size=(299, 299), \n",
    "        batch_size = 64,\n",
    "        class_mode='binary') \n",
    "\n",
    "# get all the data in the directory split/validation (200 images), and reshape them\n",
    "val_generator2 = ImageDataGenerator(rescale=1./255).flow_from_directory(\n",
    "        val_folder, \n",
    "        target_size=(299, 299),\n",
    "        batch_size = 32,\n",
    "        class_mode='binary')\n",
    "\n",
    "# get all the data in the directory split/train (542 images), and reshape them\n",
    "train_generator2 = train_datagen.flow_from_directory(\n",
    "        train_folder, \n",
    "        target_size=(299, 299), \n",
    "        batch_size = 32, \n",
    "        class_mode='binary')"
   ]
  },
  {
   "cell_type": "code",
   "execution_count": 124,
   "id": "e84b2e81",
   "metadata": {},
   "outputs": [
    {
     "name": "stdout",
     "output_type": "stream",
     "text": [
      "Epoch 1/30\n",
      "25/25 [==============================] - 301s 12s/step - loss: 0.6815 - accuracy: 0.7050 - val_loss: 0.6687 - val_accuracy: 0.7650\n",
      "Epoch 2/30\n",
      "25/25 [==============================] - 280s 11s/step - loss: 0.6592 - accuracy: 0.7575 - val_loss: 0.6483 - val_accuracy: 0.7688\n",
      "Epoch 3/30\n",
      "25/25 [==============================] - 267s 11s/step - loss: 0.6403 - accuracy: 0.7588 - val_loss: 0.6331 - val_accuracy: 0.7613\n",
      "Epoch 4/30\n",
      "25/25 [==============================] - 262s 11s/step - loss: 0.6230 - accuracy: 0.7665 - val_loss: 0.6186 - val_accuracy: 0.7625\n",
      "Epoch 5/30\n",
      "25/25 [==============================] - 265s 11s/step - loss: 0.6075 - accuracy: 0.7700 - val_loss: 0.6040 - val_accuracy: 0.7675\n",
      "Epoch 6/30\n",
      "25/25 [==============================] - 274s 11s/step - loss: 0.5944 - accuracy: 0.7700 - val_loss: 0.5942 - val_accuracy: 0.7650\n",
      "Epoch 7/30\n",
      "25/25 [==============================] - 288s 12s/step - loss: 0.5751 - accuracy: 0.7850 - val_loss: 0.5849 - val_accuracy: 0.7638\n",
      "Epoch 8/30\n",
      "25/25 [==============================] - 272s 11s/step - loss: 0.5780 - accuracy: 0.7650 - val_loss: 0.5759 - val_accuracy: 0.7675\n",
      "Epoch 9/30\n",
      "25/25 [==============================] - 270s 11s/step - loss: 0.5717 - accuracy: 0.7638 - val_loss: 0.5682 - val_accuracy: 0.7700\n",
      "Epoch 10/30\n",
      "25/25 [==============================] - 270s 11s/step - loss: 0.5617 - accuracy: 0.7700 - val_loss: 0.5654 - val_accuracy: 0.7663\n",
      "Epoch 11/30\n",
      "25/25 [==============================] - 271s 11s/step - loss: 0.5650 - accuracy: 0.7600 - val_loss: 0.5570 - val_accuracy: 0.7725\n",
      "Epoch 12/30\n",
      "25/25 [==============================] - 270s 11s/step - loss: 0.5435 - accuracy: 0.7800 - val_loss: 0.5506 - val_accuracy: 0.7750\n",
      "Epoch 13/30\n",
      "25/25 [==============================] - 268s 11s/step - loss: 0.5383 - accuracy: 0.7825 - val_loss: 0.5490 - val_accuracy: 0.7725\n",
      "Epoch 14/30\n",
      "25/25 [==============================] - 270s 11s/step - loss: 0.5659 - accuracy: 0.7487 - val_loss: 0.5536 - val_accuracy: 0.7650\n",
      "Epoch 15/30\n",
      "25/25 [==============================] - 265s 11s/step - loss: 0.5501 - accuracy: 0.7638 - val_loss: 0.5484 - val_accuracy: 0.7688\n",
      "Epoch 16/30\n",
      "25/25 [==============================] - 261s 11s/step - loss: 0.5386 - accuracy: 0.7743 - val_loss: 0.5488 - val_accuracy: 0.7663\n",
      "Epoch 17/30\n",
      "25/25 [==============================] - 264s 11s/step - loss: 0.5560 - accuracy: 0.7525 - val_loss: 0.5443 - val_accuracy: 0.7700\n",
      "Epoch 18/30\n",
      "25/25 [==============================] - 266s 11s/step - loss: 0.5460 - accuracy: 0.7638 - val_loss: 0.5513 - val_accuracy: 0.7613\n",
      "Epoch 19/30\n",
      "25/25 [==============================] - 263s 11s/step - loss: 0.5460 - accuracy: 0.7600 - val_loss: 0.5409 - val_accuracy: 0.7713\n",
      "Epoch 20/30\n",
      "25/25 [==============================] - 264s 11s/step - loss: 0.5125 - accuracy: 0.7937 - val_loss: 0.5393 - val_accuracy: 0.7713\n",
      "Epoch 21/30\n",
      "25/25 [==============================] - 263s 11s/step - loss: 0.5480 - accuracy: 0.7575 - val_loss: 0.5374 - val_accuracy: 0.7725\n",
      "Epoch 22/30\n",
      "25/25 [==============================] - 264s 11s/step - loss: 0.5325 - accuracy: 0.7725 - val_loss: 0.5416 - val_accuracy: 0.7675\n",
      "Epoch 23/30\n",
      "25/25 [==============================] - 260s 11s/step - loss: 0.5202 - accuracy: 0.7834 - val_loss: 0.5448 - val_accuracy: 0.7638\n",
      "Epoch 24/30\n",
      "25/25 [==============================] - 259s 11s/step - loss: 0.5426 - accuracy: 0.7613 - val_loss: 0.5430 - val_accuracy: 0.7650\n",
      "Epoch 25/30\n",
      "25/25 [==============================] - 264s 11s/step - loss: 0.5149 - accuracy: 0.7875 - val_loss: 0.5331 - val_accuracy: 0.7738\n",
      "Epoch 26/30\n",
      "25/25 [==============================] - 262s 11s/step - loss: 0.5211 - accuracy: 0.7800 - val_loss: 0.5421 - val_accuracy: 0.7650\n",
      "Epoch 27/30\n",
      "25/25 [==============================] - 262s 11s/step - loss: 0.5465 - accuracy: 0.7575 - val_loss: 0.5432 - val_accuracy: 0.7638\n",
      "Epoch 28/30\n",
      "25/25 [==============================] - 264s 11s/step - loss: 0.5360 - accuracy: 0.7663 - val_loss: 0.5403 - val_accuracy: 0.7663\n",
      "Epoch 29/30\n",
      "25/25 [==============================] - 263s 11s/step - loss: 0.5447 - accuracy: 0.7588 - val_loss: 0.5332 - val_accuracy: 0.7725\n",
      "Epoch 30/30\n",
      "25/25 [==============================] - 264s 11s/step - loss: 0.5182 - accuracy: 0.7825 - val_loss: 0.5328 - val_accuracy: 0.7725\n"
     ]
    }
   ],
   "source": [
    "history_X2 = model_X2.fit_generator(train_generator2, \n",
    "                                steps_per_epoch=25, \n",
    "                                epochs=30, \n",
    "                                validation_data=val_generator2, \n",
    "                                validation_steps=25)"
   ]
  },
  {
   "cell_type": "code",
   "execution_count": 131,
   "id": "d22cde41",
   "metadata": {},
   "outputs": [
    {
     "name": "stdout",
     "output_type": "stream",
     "text": [
      "20/20 [==============================] - 105s 5s/step - loss: 0.9879 - accuracy: 0.3750\n"
     ]
    }
   ],
   "source": [
    "results_test = model_X2.evaluate(test_images3, test_y3)"
   ]
  },
  {
   "cell_type": "code",
   "execution_count": null,
   "id": "b0802f1f",
   "metadata": {},
   "outputs": [],
   "source": []
  },
  {
   "cell_type": "markdown",
   "id": "a3468e98",
   "metadata": {},
   "source": [
    "# Conclusion\n",
    "---\n",
    "For our finalized model we used LinearRegression because of the following reasons: \n",
    "1) It is easy to interprete.\n",
    "\n",
    "2) It have good recall compared to the other models, without much sacrifice in precision. \n",
    "\n",
    "\n",
    "Overall, this data tells us that injuries during car crashes can be predicted and we can see tha major factors that influence it. These modeling results correspond to our observations during data exploration phase"
   ]
  }
 ],
 "metadata": {
  "kernelspec": {
   "display_name": "Python 3 (ipykernel)",
   "language": "python",
   "name": "python3"
  },
  "language_info": {
   "codemirror_mode": {
    "name": "ipython",
    "version": 3
   },
   "file_extension": ".py",
   "mimetype": "text/x-python",
   "name": "python",
   "nbconvert_exporter": "python",
   "pygments_lexer": "ipython3",
   "version": "3.8.12"
  }
 },
 "nbformat": 4,
 "nbformat_minor": 5
}

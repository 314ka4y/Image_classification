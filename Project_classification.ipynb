{
 "cells": [
  {
   "cell_type": "markdown",
   "id": "3959122b",
   "metadata": {},
   "source": [
    "# Vision Zero, Chicago, modeling car crashes with injuries."
   ]
  },
  {
   "cell_type": "markdown",
   "id": "52999b83",
   "metadata": {},
   "source": [
    "# Overview\n",
    "I was hired by a government agency CMAP (Chicago Metropolitan Agency for Planning) to create a model which predicts injuries during car crashes based on information collected by Chicago Police Department (CPD). I  concluded that there are many features that determine the oucome of car crash(overall 200 features, only 31 were used in our model), some of them: type of crash , day, season, time, type of crash, are there injuried people, phyesical imparement factors(drugs, alchogol, distraction etc), speed limit, weather, lightning and road conditions etc .\n",
    "\n",
    "To acheive my goal, I trained more than 100 models and tuned hyperparameters, model types that were used: \n",
    "- LogisticRegression\n",
    "- KNN\n",
    "- Naive Bayes(different type) \n",
    "- DecisionTree\n",
    "- Random Forest\n",
    "- ADA Boost\n",
    "- Gradient boost\n",
    "- XGB Classifier\n",
    "\n",
    "\n",
    "# Business Understanding\n",
    "Our stakeholder wants to understand what factors of crash influence on injury outcome as the last possible outcome. They perfectly understand that car crashes will be happening but they want to reduce the number of injuries because individual health prevails under public mobility. \n",
    "\n",
    "# Data\n",
    "\n",
    "1) Database Traffic Crashes - Crashes. Years: 2017 - now\n",
    "Provided by City of Chicago\n",
    "\n",
    "https://data.cityofchicago.org/Transportation/Traffic-Crashes-Crashes/85ca-t3if \n",
    "\n",
    "2) Database Traffic Crashes - People. Years: 2017 - now\n",
    "Provided by City of Chicago\n",
    "\n",
    "https://data.cityofchicago.org/Transportation/Traffic-Crashes-People/u6pd-qa9d\n",
    "\n",
    "3) Database Traffic Crashes - Vehicles. Years: 2017 - now\n",
    "Provided by City of Chicago  \n",
    "\n",
    "https://data.cityofchicago.org/Transportation/Traffic-Crashes-Vehicles/68nd-jvt3\n",
    "\n",
    "##### In my research I used data for 2021 year.\n",
    "\n",
    "# Metrics\n",
    "#### Our project will answer following question:\n",
    "What factors influence injuries?\n",
    "\n",
    "#### Hypothesis:\n",
    "H0 - car crashes with injuries are random\n",
    "\n",
    "HA - There is a significant dependancy between injuries and the features of dataset\n",
    "\n",
    "#### TP, TN, FP, FN definition\n",
    "TP - we predict car crash with injury and it actually happened.\n",
    "\n",
    "TN - we predicted that there is no injury and there was no injury,\n",
    "\n",
    "FP - We predicted injury but there was no injury in real life\n",
    "\n",
    "FN - We predicted that there will be no injury but it happened\n",
    "\n",
    "\n",
    "#### Metrics used  \n",
    "To compare models we will focus on 2 major metrics:\n",
    "\n",
    "Accuracy - how good we can predict TP and TN. General metrics that will show model performance.\n",
    "\n",
    "Recall - Health of people is our priority, we will be focused to minimize FN, so we can consider as much real car crashes with injuries in our model as possible, even if our model mark some car crashes with injuries but there will be no such. From the other side we need consider accuracy."
   ]
  },
  {
   "cell_type": "markdown",
   "id": "edcdcd20",
   "metadata": {},
   "source": [
    "\n",
    "# Data Understanding\n",
    "#### Sources of data:\n",
    "1) Database Traffic Crashes - Crashes. Years: 2017 - now\n",
    "Covers: Main characteristics of car crash.\n",
    "Provided by City of Chicago \n",
    "https://data.cityofchicago.org/Transportation/Traffic-Crashes-Crashes/85ca-t3if\n",
    "\n",
    "2) Database Traffic Crashes - People. Years: 2017 - now\n",
    "Covers: People/drivers involved in car crash.\n",
    "Provided by City of Chicago \n",
    "https://data.cityofchicago.org/Transportation/Traffic-Crashes-People/u6pd-qa9d\n",
    "\n",
    "3) Database Traffic Crashes - Vehicles. Years: 2017 - now\n",
    "Covers: Vehicles involved in car crash.\n",
    "Provided by City of Chicago \n",
    "https://data.cityofchicago.org/Transportation/Traffic-Crashes-Vehicles/68nd-jvt3\n",
    "\n",
    "#### Main dataset contains the following columns:\n"
   ]
  },
  {
   "cell_type": "markdown",
   "id": "24102ee3",
   "metadata": {},
   "source": [
    "# Data Cleaning\n",
    "### Importing required modules"
   ]
  },
  {
   "cell_type": "code",
   "execution_count": 3,
   "id": "4b0985f7",
   "metadata": {},
   "outputs": [],
   "source": [
    "# Work with data\n",
    "import pandas as pd\n",
    "import numpy as np\n",
    "from scipy import stats as stats\n",
    "\n",
    "# Visualizations\n",
    "import seaborn as sns\n",
    "import matplotlib.pyplot as plt\n",
    "\n",
    "#Modeling\n",
    "\n",
    "from sklearn.preprocessing import OneHotEncoder\n",
    "from sklearn.linear_model import LogisticRegression\n",
    "from sklearn.tree import DecisionTreeClassifier, plot_tree\n",
    "from sklearn.naive_bayes import MultinomialNB, ComplementNB, BernoulliNB, GaussianNB\n",
    "from sklearn.model_selection import GridSearchCV, cross_val_score, cross_validate, KFold, StratifiedKFold, train_test_split\n",
    "from sklearn.ensemble import RandomForestClassifier, GradientBoostingClassifier, AdaBoostClassifier\n",
    "from sklearn.metrics import ConfusionMatrixDisplay, confusion_matrix, classification_report, roc_curve, plot_roc_curve, roc_auc_score, accuracy_score, recall_score, f1_score\n",
    "from xgboost import XGBClassifier\n",
    "\n",
    "#Other\n",
    "import pickle\n",
    "import time\n",
    "import gzip\n",
    "import os, shutil \n",
    "from zipfile import ZipFile\n",
    "\n",
    "\n",
    "from warnings import simplefilter\n",
    "from sklearn.exceptions import ConvergenceWarning, FitFailedWarning\n",
    "simplefilter(action='ignore', category= FutureWarning)\n",
    "simplefilter(action='ignore', category= ConvergenceWarning)\n",
    "simplefilter(action='ignore', category= FitFailedWarning)\n",
    "simplefilter(action='ignore', category= UserWarning)\n",
    "\n",
    "\n",
    "\n",
    "\n",
    "  \n",
    "\n",
    "\n"
   ]
  },
  {
   "cell_type": "markdown",
   "id": "9508df54",
   "metadata": {},
   "source": [
    "### Data preparation"
   ]
  },
  {
   "cell_type": "markdown",
   "id": "e316c356",
   "metadata": {},
   "source": [
    "Below we create three objects representing the existing directories: `data/normal/` as `data_normal_dir` and `data/pneumonia/` as `data_pneumonia_dir`, `data/test/normal/` as `test/normal` and `data/test/pneumonia/` as `test/pneumonia`. We will create a new directory `split/` as `new_dir`, where we will split the dataset in three groups (or three subdirectories): `train`, `test`, and `validation`, each containing `normal` and `pneumonia` subfolders. The final desired structure is represented below: \n",
    "\n",
    "![title](images/folder_structure.png)"
   ]
  },
  {
   "cell_type": "code",
   "execution_count": 21,
   "id": "4dee5164",
   "metadata": {},
   "outputs": [],
   "source": [
    "data_normal_dir = 'data/normal/'\n",
    "data_pneumonia_dir = 'data/pneumonia/'\n",
    "new_dir = 'data/split/'"
   ]
  },
  {
   "cell_type": "code",
   "execution_count": null,
   "id": "0ef6b67c",
   "metadata": {},
   "outputs": [],
   "source": []
  },
  {
   "cell_type": "code",
   "execution_count": 9,
   "id": "cbad2eed",
   "metadata": {},
   "outputs": [],
   "source": [
    "imgs_normal = [file for file in os.listdir(data_normal_dir) if file.endswith('.jpeg')]\n",
    "imgs_pneumonia = [file for file in os.listdir(data_pneumonia_dir) if file.endswith('.jpeg')]"
   ]
  },
  {
   "cell_type": "code",
   "execution_count": 14,
   "id": "c9f0e015",
   "metadata": {},
   "outputs": [
    {
     "data": {
      "text/plain": [
       "'NORMAL-2552119-0002.jpeg'"
      ]
     },
     "execution_count": 14,
     "metadata": {},
     "output_type": "execute_result"
    }
   ],
   "source": [
    "os.listdir(data_normal_dir)[0]"
   ]
  },
  {
   "cell_type": "code",
   "execution_count": 17,
   "id": "4130f990",
   "metadata": {},
   "outputs": [
    {
     "name": "stdout",
     "output_type": "stream",
     "text": [
      "There are 435 normal images, image name example, NORMAL-2552119-0002.jpeg\n",
      "There are 490 pneumonia images, image name example, BACTERIA-292199-0002.jpeg\n"
     ]
    }
   ],
   "source": [
    "print('There are', len(imgs_normal), 'normal images, image name example,',os.listdir(data_normal_dir)[0])\n",
    "print('There are', len(imgs_pneumonia), 'pneumonia images, image name example,',os.listdir(data_pneumonia_dir)[0])\n"
   ]
  },
  {
   "cell_type": "markdown",
   "id": "3745765f",
   "metadata": {},
   "source": [
    "Make new split directory"
   ]
  },
  {
   "cell_type": "code",
   "execution_count": 22,
   "id": "54ca5c2e",
   "metadata": {},
   "outputs": [],
   "source": [
    "os.mkdir(new_dir)"
   ]
  },
  {
   "cell_type": "markdown",
   "id": "6c69c8ff",
   "metadata": {},
   "source": [
    "Create new directories"
   ]
  },
  {
   "cell_type": "code",
   "execution_count": 23,
   "id": "14caa4e2",
   "metadata": {},
   "outputs": [],
   "source": [
    "# Define path\n",
    "train_folder = os.path.join(new_dir, 'train')\n",
    "train_normal = os.path.join(train_folder, 'normal')\n",
    "train_pneumonia = os.path.join(train_folder, 'pneumonia')\n",
    "\n",
    "test_folder = os.path.join(new_dir, 'test')\n",
    "test_normal = os.path.join(test_folder, 'normal')\n",
    "test_pneumonia = os.path.join(test_folder, 'pneumonia')\n",
    "\n",
    "val_folder = os.path.join(new_dir, 'validation')\n",
    "val_normal = os.path.join(val_folder, 'normal')\n",
    "val_pneumonia = os.path.join(val_folder, 'pneumonia')"
   ]
  },
  {
   "cell_type": "code",
   "execution_count": 24,
   "id": "5227092b",
   "metadata": {},
   "outputs": [
    {
     "data": {
      "text/plain": [
       "'data/split/train/pneumonia'"
      ]
     },
     "execution_count": 24,
     "metadata": {},
     "output_type": "execute_result"
    }
   ],
   "source": [
    "# Check that path is ok\n",
    "train_pneumonia"
   ]
  },
  {
   "cell_type": "code",
   "execution_count": null,
   "id": "5cedd18d",
   "metadata": {},
   "outputs": [],
   "source": [
    "# Create directories\n",
    "os.mkdir(test_folder)\n",
    "os.mkdir(test_santa)\n",
    "os.mkdir(test_not_santa)\n",
    "\n",
    "os.mkdir(train_folder)\n",
    "os.mkdir(train_santa)\n",
    "os.mkdir(train_not_santa)\n",
    "\n",
    "os.mkdir(val_folder)\n",
    "os.mkdir(val_santa)\n",
    "os.mkdir(val_not_santa)"
   ]
  },
  {
   "cell_type": "markdown",
   "id": "12ae471d",
   "metadata": {},
   "source": [
    "Copy images"
   ]
  },
  {
   "cell_type": "code",
   "execution_count": null,
   "id": "92996bdc",
   "metadata": {},
   "outputs": [],
   "source": [
    "# train santa\n",
    "imgs = imgs_santa[:271]\n",
    "for img in imgs:\n",
    "    origin = os.path.join(data_santa_dir, img)\n",
    "    destination = os.path.join(train_santa, img)\n",
    "    shutil.copyfile(origin, destination)\n",
    "# train not_santa\n",
    "imgs = imgs_not_santa[:271]\n",
    "for img in imgs:\n",
    "    origin = os.path.join(data_not_santa_dir, img)\n",
    "    destination = os.path.join(train_not_santa, img)\n",
    "    shutil.copyfile(origin, destination)\n"
   ]
  },
  {
   "cell_type": "code",
   "execution_count": null,
   "id": "7916adb5",
   "metadata": {},
   "outputs": [],
   "source": [
    "# validation santa\n",
    "imgs = imgs_santa[271:371]\n",
    "for img in imgs:\n",
    "    origin = os.path.join(data_santa_dir, img)\n",
    "    destination = os.path.join(val_santa, img)\n",
    "    shutil.copyfile(origin, destination)"
   ]
  },
  {
   "cell_type": "code",
   "execution_count": null,
   "id": "65b83f14",
   "metadata": {},
   "outputs": [],
   "source": [
    "# test santa\n",
    "imgs = imgs_santa[371:]\n",
    "for img in imgs:\n",
    "    origin = os.path.join(data_santa_dir, img)\n",
    "    destination = os.path.join(test_santa, img)\n",
    "    shutil.copyfile(origin, destination)\n",
    "    \n"
   ]
  },
  {
   "cell_type": "code",
   "execution_count": null,
   "id": "d660f02e",
   "metadata": {},
   "outputs": [],
   "source": [
    "# train not_santa\n",
    "imgs = imgs_not_santa[:271]\n",
    "for img in imgs:\n",
    "    origin = os.path.join(data_not_santa_dir, img)\n",
    "    destination = os.path.join(train_not_santa, img)\n",
    "    shutil.copyfile(origin, destination)\n",
    "# validation not_santa\n",
    "imgs = imgs_not_santa[271:371]\n",
    "for img in imgs:\n",
    "    origin = os.path.join(data_not_santa_dir, img)\n",
    "    destination = os.path.join(val_not_santa, img)\n",
    "    shutil.copyfile(origin, destination)\n",
    "# test not_santa\n",
    "imgs = imgs_not_santa[371:]\n",
    "for img in imgs:\n",
    "    origin = os.path.join(data_not_santa_dir, img)\n",
    "    destination = os.path.join(test_not_santa, img)\n",
    "    shutil.copyfile(origin, destination)"
   ]
  },
  {
   "cell_type": "markdown",
   "id": "a3468e98",
   "metadata": {},
   "source": [
    "# Conclusion\n",
    "---\n",
    "For our finalized model we used LinearRegression because of the following reasons: \n",
    "1) It is easy to interprete.\n",
    "\n",
    "2) It have good recall compared to the other models, without much sacrifice in precision. \n",
    "\n",
    "\n",
    "Overall, this data tells us that injuries during car crashes can be predicted and we can see tha major factors that influence it. These modeling results correspond to our observations during data exploration phase"
   ]
  }
 ],
 "metadata": {
  "kernelspec": {
   "display_name": "Python 3 (ipykernel)",
   "language": "python",
   "name": "python3"
  },
  "language_info": {
   "codemirror_mode": {
    "name": "ipython",
    "version": 3
   },
   "file_extension": ".py",
   "mimetype": "text/x-python",
   "name": "python",
   "nbconvert_exporter": "python",
   "pygments_lexer": "ipython3",
   "version": "3.8.12"
  }
 },
 "nbformat": 4,
 "nbformat_minor": 5
}

{
 "cells": [
  {
   "cell_type": "markdown",
   "id": "3959122b",
   "metadata": {},
   "source": [
    "# Vision Zero, Chicago, modeling car crashes with injuries."
   ]
  },
  {
   "cell_type": "markdown",
   "id": "52999b83",
   "metadata": {},
   "source": [
    "# Overview\n",
    "I was hired by a government agency CMAP (Chicago Metropolitan Agency for Planning) to create a model which predicts injuries during car crashes based on information collected by Chicago Police Department (CPD). I  concluded that there are many features that determine the oucome of car crash(overall 200 features, only 31 were used in our model), some of them: type of crash , day, season, time, type of crash, are there injuried people, phyesical imparement factors(drugs, alchogol, distraction etc), speed limit, weather, lightning and road conditions etc .\n",
    "\n",
    "To acheive my goal, I trained more than 100 models and tuned hyperparameters, model types that were used: \n",
    "- LogisticRegression\n",
    "- KNN\n",
    "- Naive Bayes(different type) \n",
    "- DecisionTree\n",
    "- Random Forest\n",
    "- ADA Boost\n",
    "- Gradient boost\n",
    "- XGB Classifier\n",
    "\n",
    "\n",
    "# Business Understanding\n",
    "Our stakeholder wants to understand what factors of crash influence on injury outcome as the last possible outcome. They perfectly understand that car crashes will be happening but they want to reduce the number of injuries because individual health prevails under public mobility. \n",
    "\n",
    "# Data\n",
    "\n",
    "1) Database Traffic Crashes - Crashes. Years: 2017 - now\n",
    "Provided by City of Chicago\n",
    "\n",
    "https://data.cityofchicago.org/Transportation/Traffic-Crashes-Crashes/85ca-t3if \n",
    "\n",
    "2) Database Traffic Crashes - People. Years: 2017 - now\n",
    "Provided by City of Chicago\n",
    "\n",
    "https://data.cityofchicago.org/Transportation/Traffic-Crashes-People/u6pd-qa9d\n",
    "\n",
    "3) Database Traffic Crashes - Vehicles. Years: 2017 - now\n",
    "Provided by City of Chicago  \n",
    "\n",
    "https://data.cityofchicago.org/Transportation/Traffic-Crashes-Vehicles/68nd-jvt3\n",
    "\n",
    "##### In my research I used data for 2021 year.\n",
    "\n",
    "# Metrics\n",
    "#### Our project will answer following question:\n",
    "What factors influence injuries?\n",
    "\n",
    "#### Hypothesis:\n",
    "H0 - car crashes with injuries are random\n",
    "\n",
    "HA - There is a significant dependancy between injuries and the features of dataset\n",
    "\n",
    "#### TP, TN, FP, FN definition\n",
    "TP - we predict car crash with injury and it actually happened.\n",
    "\n",
    "TN - we predicted that there is no injury and there was no injury,\n",
    "\n",
    "FP - We predicted injury but there was no injury in real life\n",
    "\n",
    "FN - We predicted that there will be no injury but it happened\n",
    "\n",
    "\n",
    "#### Metrics used  \n",
    "To compare models we will focus on 2 major metrics:\n",
    "\n",
    "Accuracy - how good we can predict TP and TN. General metrics that will show model performance.\n",
    "\n",
    "Recall - Health of people is our priority, we will be focused to minimize FN, so we can consider as much real car crashes with injuries in our model as possible, even if our model mark some car crashes with injuries but there will be no such. From the other side we need consider accuracy."
   ]
  },
  {
   "cell_type": "markdown",
   "id": "edcdcd20",
   "metadata": {},
   "source": [
    "\n",
    "# Data Understanding\n",
    "#### Sources of data:\n",
    "1) Database Traffic Crashes - Crashes. Years: 2017 - now\n",
    "Covers: Main characteristics of car crash.\n",
    "Provided by City of Chicago \n",
    "https://data.cityofchicago.org/Transportation/Traffic-Crashes-Crashes/85ca-t3if\n",
    "\n",
    "2) Database Traffic Crashes - People. Years: 2017 - now\n",
    "Covers: People/drivers involved in car crash.\n",
    "Provided by City of Chicago \n",
    "https://data.cityofchicago.org/Transportation/Traffic-Crashes-People/u6pd-qa9d\n",
    "\n",
    "3) Database Traffic Crashes - Vehicles. Years: 2017 - now\n",
    "Covers: Vehicles involved in car crash.\n",
    "Provided by City of Chicago \n",
    "https://data.cityofchicago.org/Transportation/Traffic-Crashes-Vehicles/68nd-jvt3\n",
    "\n",
    "#### Main dataset contains the following columns:\n"
   ]
  },
  {
   "cell_type": "markdown",
   "id": "24102ee3",
   "metadata": {},
   "source": [
    "# Data Cleaning\n",
    "### Importing required modules"
   ]
  },
  {
   "cell_type": "code",
   "execution_count": 1,
   "id": "4b0985f7",
   "metadata": {},
   "outputs": [],
   "source": [
    "# Work with data\n",
    "import pandas as pd\n",
    "import numpy as np\n",
    "from scipy import stats as stats\n",
    "\n",
    "# Visualizations\n",
    "import seaborn as sns\n",
    "import matplotlib.pyplot as plt\n",
    "\n",
    "#Modeling\n",
    "\n",
    "from sklearn.preprocessing import OneHotEncoder\n",
    "from sklearn.linear_model import LogisticRegression\n",
    "from sklearn.tree import DecisionTreeClassifier, plot_tree\n",
    "from sklearn.naive_bayes import MultinomialNB, ComplementNB, BernoulliNB, GaussianNB\n",
    "from sklearn.model_selection import GridSearchCV, cross_val_score, cross_validate, KFold, StratifiedKFold, train_test_split\n",
    "from sklearn.ensemble import RandomForestClassifier, GradientBoostingClassifier, AdaBoostClassifier\n",
    "from sklearn.metrics import ConfusionMatrixDisplay, confusion_matrix, classification_report, roc_curve, plot_roc_curve, roc_auc_score, accuracy_score, recall_score, f1_score\n",
    "from xgboost import XGBClassifier\n",
    "\n",
    "# Keras\n",
    "from keras.preprocessing.image import ImageDataGenerator, array_to_img, img_to_array, load_img\n",
    "\n",
    "\n",
    "#Other\n",
    "import pickle\n",
    "import time\n",
    "import gzip\n",
    "import os, shutil \n",
    "from zipfile import ZipFile\n",
    "import scipy\n",
    "from PIL import Image\n",
    "from scipy import ndimage\n",
    "\n",
    "\n",
    "from warnings import simplefilter\n",
    "from sklearn.exceptions import ConvergenceWarning, FitFailedWarning\n",
    "simplefilter(action='ignore', category= FutureWarning)\n",
    "simplefilter(action='ignore', category= ConvergenceWarning)\n",
    "simplefilter(action='ignore', category= FitFailedWarning)\n",
    "simplefilter(action='ignore', category= UserWarning)\n",
    "\n",
    "\n",
    "\n",
    "\n",
    "\n",
    "np.random.seed(123)\n",
    "\n",
    "  \n",
    "\n",
    "\n"
   ]
  },
  {
   "cell_type": "markdown",
   "id": "9508df54",
   "metadata": {},
   "source": [
    "### Data preparation"
   ]
  },
  {
   "cell_type": "markdown",
   "id": "99987780",
   "metadata": {},
   "source": [
    "Below we create three objects representing the existing directories: `data/normal/` as `data_normal_dir` and `data/pneumonia/` as `data_pneumonia_dir`, `data/test/normal/` as `test/normal` and `data/test/pneumonia/` as `test/pneumonia`. We will create a new directory `split/` as `new_dir`, where we will split the dataset in three groups (or three subdirectories): `train`, `test`, and `validation`, each containing `normal` and `pneumonia` subfolders. The final desired structure is represented below: \n",
    "\n",
    "![title](images/folder_structure.png)"
   ]
  },
  {
   "cell_type": "code",
   "execution_count": 2,
   "id": "48981c6c",
   "metadata": {},
   "outputs": [],
   "source": [
    "data_normal_dir = 'data/normal/'\n",
    "data_pneumonia_dir = 'data/pneumonia/'\n",
    "new_dir = 'data/split/'\n",
    "data_test_normal_dir = 'data/test/normal/'\n",
    "data_test_pneumonia_dir = 'data/test/pneumonia/'"
   ]
  },
  {
   "cell_type": "code",
   "execution_count": null,
   "id": "ac6850ee",
   "metadata": {},
   "outputs": [],
   "source": []
  },
  {
   "cell_type": "code",
   "execution_count": 3,
   "id": "7571e7d9",
   "metadata": {},
   "outputs": [],
   "source": [
    "# Train set\n",
    "imgs_normal = [file for file in os.listdir(data_normal_dir) if file.endswith('.jpeg')]\n",
    "imgs_pneumonia = [file for file in os.listdir(data_pneumonia_dir) if file.endswith('.jpeg')]\n",
    "# Test set\n",
    "imgs_normal_test = [file for file in os.listdir(data_test_normal_dir) if file.endswith('.jpeg')]\n",
    "imgs_pneumonia_test = [file for file in os.listdir(data_test_pneumonia_dir) if file.endswith('.jpeg')]"
   ]
  },
  {
   "cell_type": "code",
   "execution_count": 4,
   "id": "a1640967",
   "metadata": {},
   "outputs": [
    {
     "data": {
      "text/plain": [
       "'NORMAL-2552119-0002.jpeg'"
      ]
     },
     "execution_count": 4,
     "metadata": {},
     "output_type": "execute_result"
    }
   ],
   "source": [
    "os.listdir(data_normal_dir)[0]"
   ]
  },
  {
   "cell_type": "code",
   "execution_count": 5,
   "id": "0dea974d",
   "metadata": {},
   "outputs": [
    {
     "name": "stdout",
     "output_type": "stream",
     "text": [
      "Train set:\n",
      "There are 620 normal images, image name example, NORMAL-2552119-0002.jpeg\n",
      "There are 667 pneumonia images, image name example, BACTERIA-292199-0002.jpeg\n",
      "Test set:\n",
      "There are 234 normal images, image name example, NORMAL-8698006-0001.jpeg\n",
      "There are 390 pneumonia images, image name example, VIRUS-2040583-0001.jpeg\n"
     ]
    }
   ],
   "source": [
    "print(\"Train set:\")\n",
    "print('There are', len(imgs_normal), 'normal images, image name example,',os.listdir(data_normal_dir)[0])\n",
    "print('There are', len(imgs_pneumonia), 'pneumonia images, image name example,',os.listdir(data_pneumonia_dir)[0])\n",
    "print(\"Test set:\")\n",
    "print('There are', len(imgs_normal_test), 'normal images, image name example,',os.listdir(data_test_normal_dir)[0])\n",
    "print('There are', len(imgs_pneumonia_test), 'pneumonia images, image name example,',os.listdir(data_test_pneumonia_dir)[0])\n"
   ]
  },
  {
   "cell_type": "markdown",
   "id": "066ad6d8",
   "metadata": {},
   "source": [
    "Make new split directory"
   ]
  },
  {
   "cell_type": "code",
   "execution_count": 6,
   "id": "16bad08d",
   "metadata": {},
   "outputs": [],
   "source": [
    "os.mkdir(new_dir)"
   ]
  },
  {
   "cell_type": "markdown",
   "id": "c93630a6",
   "metadata": {},
   "source": [
    "Create new directories"
   ]
  },
  {
   "cell_type": "code",
   "execution_count": 7,
   "id": "f398e5d0",
   "metadata": {},
   "outputs": [],
   "source": [
    "# Define path\n",
    "train_folder = os.path.join(new_dir, 'train')\n",
    "train_normal = os.path.join(train_folder, 'normal')\n",
    "train_pneumonia = os.path.join(train_folder, 'pneumonia')\n",
    "\n",
    "test_folder = os.path.join(new_dir, 'test')\n",
    "test_normal = os.path.join(test_folder, 'normal')\n",
    "test_pneumonia = os.path.join(test_folder, 'pneumonia')\n",
    "\n",
    "val_folder = os.path.join(new_dir, 'validation')\n",
    "val_normal = os.path.join(val_folder, 'normal')\n",
    "val_pneumonia = os.path.join(val_folder, 'pneumonia')"
   ]
  },
  {
   "cell_type": "code",
   "execution_count": 8,
   "id": "81fb73da",
   "metadata": {},
   "outputs": [
    {
     "data": {
      "text/plain": [
       "'data/split/train/pneumonia'"
      ]
     },
     "execution_count": 8,
     "metadata": {},
     "output_type": "execute_result"
    }
   ],
   "source": [
    "# Check that path is ok\n",
    "train_pneumonia"
   ]
  },
  {
   "cell_type": "code",
   "execution_count": 9,
   "id": "88209998",
   "metadata": {},
   "outputs": [],
   "source": [
    "# Create directories\n",
    "os.mkdir(test_folder)\n",
    "os.mkdir(test_normal)\n",
    "os.mkdir(test_pneumonia)\n",
    "\n",
    "os.mkdir(train_folder)\n",
    "os.mkdir(train_normal)\n",
    "os.mkdir(train_pneumonia)\n",
    "\n",
    "os.mkdir(val_folder)\n",
    "os.mkdir(val_normal)\n",
    "os.mkdir(val_pneumonia)"
   ]
  },
  {
   "cell_type": "markdown",
   "id": "39102310",
   "metadata": {},
   "source": [
    "Copy images"
   ]
  },
  {
   "cell_type": "code",
   "execution_count": 10,
   "id": "68a2705d",
   "metadata": {},
   "outputs": [],
   "source": [
    "# Setting size of validation set\n",
    "val_set = 150"
   ]
  },
  {
   "cell_type": "code",
   "execution_count": null,
   "id": "03ae3ba3",
   "metadata": {},
   "outputs": [],
   "source": []
  },
  {
   "cell_type": "code",
   "execution_count": 11,
   "id": "41222427",
   "metadata": {},
   "outputs": [],
   "source": [
    "# train normal\n",
    "imgs_train_norm = imgs_normal[:len(os.listdir(data_normal_dir))-val_set]\n",
    "for img in imgs_train_norm:\n",
    "    origin = os.path.join(data_normal_dir, img)\n",
    "    destination = os.path.join(train_normal, img)\n",
    "    shutil.copyfile(origin, destination)\n",
    "# train pneumonia\n",
    "imgs_train_pneumonia = imgs_pneumonia[:len(os.listdir(data_pneumonia_dir))-val_set]\n",
    "for img in imgs_train_pneumonia:\n",
    "    origin = os.path.join(data_pneumonia_dir, img)\n",
    "    destination = os.path.join(train_pneumonia, img)\n",
    "    shutil.copyfile(origin, destination)\n"
   ]
  },
  {
   "cell_type": "code",
   "execution_count": 12,
   "id": "444ea5c2",
   "metadata": {},
   "outputs": [
    {
     "data": {
      "text/plain": [
       "517"
      ]
     },
     "execution_count": 12,
     "metadata": {},
     "output_type": "execute_result"
    }
   ],
   "source": [
    "len(imgs_train_pneumonia)"
   ]
  },
  {
   "cell_type": "code",
   "execution_count": 13,
   "id": "7068a0fc",
   "metadata": {},
   "outputs": [],
   "source": [
    "# validation santa\n",
    "imgs = imgs_normal[len(os.listdir(data_normal_dir))-val_set:]\n",
    "for img in imgs:\n",
    "    origin = os.path.join(data_normal_dir, img)\n",
    "    destination = os.path.join(val_normal, img)\n",
    "    shutil.copyfile(origin, destination)\n",
    "\n",
    "imgs = imgs_pneumonia[len(os.listdir(data_normal_dir))-val_set:]\n",
    "for img in imgs:\n",
    "    origin = os.path.join(data_pneumonia_dir, img)\n",
    "    destination = os.path.join(val_pneumonia, img)\n",
    "    shutil.copyfile(origin, destination)"
   ]
  },
  {
   "cell_type": "code",
   "execution_count": 14,
   "id": "e2593d63",
   "metadata": {},
   "outputs": [],
   "source": [
    "# test normal\n",
    "imgs = imgs_normal_test\n",
    "for img in imgs:\n",
    "    origin = os.path.join(data_test_normal_dir, img)\n",
    "    destination = os.path.join(test_normal, img)\n",
    "    shutil.copyfile(origin, destination)\n",
    "# test pneumonia\n",
    "imgs = imgs_pneumonia_test\n",
    "for img in imgs:\n",
    "    origin = os.path.join(data_test_pneumonia_dir, img)\n",
    "    destination = os.path.join(test_pneumonia, img)\n",
    "    shutil.copyfile(origin, destination)   \n"
   ]
  },
  {
   "cell_type": "markdown",
   "id": "694baf28",
   "metadata": {},
   "source": [
    "Check the folders:"
   ]
  },
  {
   "cell_type": "code",
   "execution_count": 15,
   "id": "911dd681",
   "metadata": {},
   "outputs": [
    {
     "name": "stdout",
     "output_type": "stream",
     "text": [
      "Training set:\n",
      "There are 470 normal images in the training set\n",
      "There are 517 pneumonia images in the training set\n",
      "Validation set:\n",
      "There are 150 normal images in the validation set\n",
      "There are 197 pneumonia images in the validation set\n",
      "Test set:\n",
      "There are 234 normal images in the test set\n",
      "There are 390 pneumonia images in the test set\n"
     ]
    }
   ],
   "source": [
    "print('Training set:')\n",
    "print('There are', len(os.listdir(train_normal)), 'normal images in the training set')\n",
    "print('There are', len(os.listdir(train_pneumonia)), 'pneumonia images in the training set')\n",
    "print('Validation set:')\n",
    "print('There are', len(os.listdir(val_normal)), 'normal images in the validation set')\n",
    "print('There are', len(os.listdir(val_pneumonia)), 'pneumonia images in the validation set')\n",
    "print('Test set:')\n",
    "print('There are', len(os.listdir(test_normal)), 'normal images in the test set')\n",
    "print('There are', len(os.listdir(test_pneumonia)), 'pneumonia images in the test set')\n"
   ]
  },
  {
   "cell_type": "code",
   "execution_count": null,
   "id": "9989e824",
   "metadata": {},
   "outputs": [],
   "source": []
  },
  {
   "cell_type": "code",
   "execution_count": null,
   "id": "b3a1e4a8",
   "metadata": {},
   "outputs": [],
   "source": []
  },
  {
   "cell_type": "markdown",
   "id": "a3468e98",
   "metadata": {},
   "source": [
    "# Conclusion\n",
    "---\n",
    "For our finalized model we used LinearRegression because of the following reasons: \n",
    "1) It is easy to interprete.\n",
    "\n",
    "2) It have good recall compared to the other models, without much sacrifice in precision. \n",
    "\n",
    "\n",
    "Overall, this data tells us that injuries during car crashes can be predicted and we can see tha major factors that influence it. These modeling results correspond to our observations during data exploration phase"
   ]
  }
 ],
 "metadata": {
  "kernelspec": {
   "display_name": "Python 3 (ipykernel)",
   "language": "python",
   "name": "python3"
  },
  "language_info": {
   "codemirror_mode": {
    "name": "ipython",
    "version": 3
   },
   "file_extension": ".py",
   "mimetype": "text/x-python",
   "name": "python",
   "nbconvert_exporter": "python",
   "pygments_lexer": "ipython3",
   "version": "3.8.12"
  }
 },
 "nbformat": 4,
 "nbformat_minor": 5
}
